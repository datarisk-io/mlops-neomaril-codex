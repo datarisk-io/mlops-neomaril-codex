{
 "cells": [
  {
   "cell_type": "markdown",
   "metadata": {},
   "source": [
    "# Neomaril Training\n",
    "\n",
    "This notebook give a exemple on how to use Neomaril to training a ML model"
   ]
  },
  {
   "cell_type": "markdown",
   "metadata": {},
   "source": [
    "### NeomarilTrainingClient\n",
    "\n",
    "It's where you can manage your trainining experiments"
   ]
  },
  {
   "cell_type": "code",
   "execution_count": 1,
   "metadata": {},
   "outputs": [],
   "source": [
    "from neomaril_codex.training import NeomarilTrainingClient"
   ]
  },
  {
   "cell_type": "code",
   "execution_count": 2,
   "metadata": {},
   "outputs": [
    {
     "name": "stderr",
     "output_type": "stream",
     "text": [
      "2024-04-22 17:29:44.013 | INFO     | neomaril_codex.base:__init__:20 - Loading .env\n",
      "2024-04-22 17:29:45.606 | INFO     | neomaril_codex.base:__init__:31 - Successfully connected to Neomaril\n"
     ]
    },
    {
     "data": {
      "text/plain": [
       "NeomarilTrainingClient(url=\"http://localhost:7070/api\", version=\"eyJhbGciOiJSUzI1NiIsInR5cCI6IkpXVCIsImtpZCI6IlFnc0JWQ0I5WFc0V1YtSkVCVkJiZyJ9.eyJodHRwczovL25lb21hcmlsLmRhdGFyaXNrLm5ldC9uZW9tYXJpbC1ncm91cCI6ImRhdGFyaXNrIiwiaHR0cHM6Ly9uZW9tYXJpbC5kYXRhcmlzay5uZXQvZW1haWwiOiJndWlsaGVybWUuY2FyZG9zb0BkYXRhcmlzay5pbyIsImh0dHBzOi8vbmVvbWFyaWwuZGF0YXJpc2submV0L3RlbmFudCI6ImRhdGFyaXNrIiwiaHR0cHM6Ly9uZW9tYXJpbC5kYXRhcmlzay5uZXQvdXNlci1hY3RpdmUiOnRydWUsImlzcyI6Imh0dHBzOi8vZGV2LW1rM283bGF6eGxlMzBod3EudXMuYXV0aDAuY29tLyIsInN1YiI6ImF1dGgwfDY1YTE1NTA0ZDRiOGYwZDdiNDBlOGE0YiIsImF1ZCI6WyJodHRwczovL2Rldi1tazNvN2xhenhsZTMwaHdxLnVzLmF1dGgwLmNvbS9hcGkvdjIvIiwiaHR0cHM6Ly9kZXYtbWszbzdsYXp4bGUzMGh3cS51cy5hdXRoMC5jb20vdXNlcmluZm8iXSwiaWF0IjoxNzEzODE3Nzg1LCJleHAiOjE3MTM4Mjg1ODUsInNjb3BlIjoib3BlbmlkIHByb2ZpbGUgZW1haWwgYWRkcmVzcyBwaG9uZSByZWFkOmN1cnJlbnRfdXNlciB1cGRhdGU6Y3VycmVudF91c2VyX21ldGFkYXRhIGRlbGV0ZTpjdXJyZW50X3VzZXJfbWV0YWRhdGEgY3JlYXRlOmN1cnJlbnRfdXNlcl9tZXRhZGF0YSBjcmVhdGU6Y3VycmVudF91c2VyX2RldmljZV9jcmVkZW50aWFscyBkZWxldGU6Y3VycmVudF91c2VyX2RldmljZV9jcmVkZW50aWFscyB1cGRhdGU6Y3VycmVudF91c2VyX2lkZW50aXRpZXMgb2ZmbGluZV9hY2Nlc3MiLCJndHkiOiJwYXNzd29yZCIsImF6cCI6ImtyQjZNbEd2ZDhHQUlDWXdYT3dJWm1OQzBZOVRhUEE3In0.KexkHwsAsDzvTQqxhM5y9ZbX8amkHN_FWCd3WommeBMcJygRmcO8zlH0LVQxWAv1wcPU6MLBusiIH9qmRYaQJ66WPbDSY8MLY5EtHeiE_6oLB3H88346BdCRM9SOaGQ4ns0p2L2B_-SV6KNwKCa9K0_R2UqwSqahH74_V0bm1h4pJcgiNYppv1BP-4t7JUFQvspG-fZIEgRfniv0YumlMfvtmd7rTUzVCQ6zsHBceee_s5j9iWizTZsHL-jM_vxLYw049z3S-MgRryJC3cx7AJYSkc9Apl16eBX1mfByPQQMdxy13c6vqIqC0GsFznejSnODwxCGRMuYKGySw31jIw\")"
      ]
     },
     "execution_count": 2,
     "metadata": {},
     "output_type": "execute_result"
    }
   ],
   "source": [
    "# Start the client. We are reading the credentials in the NEOMARIL_TOKEN env variable\n",
    "\n",
    "client = NeomarilTrainingClient()\n",
    "client"
   ]
  },
  {
   "cell_type": "markdown",
   "metadata": {},
   "source": [
    "## NeomarilTrainingExperiment\n",
    "\n",
    "It's where you can create a training experiment to find the best model"
   ]
  },
  {
   "cell_type": "markdown",
   "metadata": {},
   "source": [
    "#### Custom training\n",
    "\n",
    "With Custom training you have to create the training function."
   ]
  },
  {
   "cell_type": "code",
   "execution_count": 3,
   "metadata": {},
   "outputs": [
    {
     "name": "stderr",
     "output_type": "stream",
     "text": [
      "2024-04-22 17:29:46.182 | INFO     | neomaril_codex.training:create_training_experiment:1335 - New Training 'Teste notebook Training custom' inserted.\n",
      "2024-04-22 17:29:46.183 | INFO     | neomaril_codex.base:__init__:20 - Loading .env\n",
      "2024-04-22 17:29:46.188 | INFO     | neomaril_codex.base:__init__:31 - Successfully connected to Neomaril\n"
     ]
    }
   ],
   "source": [
    "# Creating a new training experiment\n",
    "training = client.create_training_experiment(\n",
    "    experiment_name='Teste notebook Training custom', # Experiment name, this is how you find your model in MLFLow\n",
    "    model_type='Classification', # Model type. Can be Classification, Regression or Unsupervised\n",
    "    group='groupname' # This is the default group. Create a new one when using for a new project\n",
    ")"
   ]
  },
  {
   "cell_type": "code",
   "execution_count": 4,
   "metadata": {},
   "outputs": [
    {
     "data": {
      "text/plain": [
       "NeomarilTrainingExperiment(name=\"Teste notebook Training custom\", \n",
       "                                                        group=\"groupname\", \n",
       "                                                        training_id=\"T508b769c7ca49a4a5e60d96fab003cace7533032858439f9b584cc026be02e1\",\n",
       "                                                        model_type=Classification\n",
       "                                                        )"
      ]
     },
     "execution_count": 4,
     "metadata": {},
     "output_type": "execute_result"
    }
   ],
   "source": [
    "training"
   ]
  },
  {
   "cell_type": "code",
   "execution_count": 5,
   "metadata": {},
   "outputs": [
    {
     "name": "stderr",
     "output_type": "stream",
     "text": [
      "2024-04-22 17:29:46.496 | INFO     | neomaril_codex.training:__upload_training:915 - {\"ExecutionId\":1,\"Message\":\"Training files have been uploaded! Use the id \\u00271\\u0027 to execute the train experiment.\"}\n",
      "2024-04-22 17:29:46.791 | INFO     | neomaril_codex.training:__execute_training:939 - Model training starting - Hash: T508b769c7ca49a4a5e60d96fab003cace7533032858439f9b584cc026be02e1\n",
      "2024-04-22 17:29:46.813 | INFO     | neomaril_codex.base:__init__:20 - Loading .env\n",
      "2024-04-22 17:29:46.817 | INFO     | neomaril_codex.base:__init__:31 - Successfully connected to Neomaril\n",
      "2024-04-22 17:29:46.818 | INFO     | neomaril_codex.base:__init__:279 - Loading .env\n"
     ]
    },
    {
     "name": "stdout",
     "output_type": "stream",
     "text": [
      "Waiting the training run......."
     ]
    }
   ],
   "source": [
    "# With the experiment class we can create multiple model runs\n",
    "PATH = './samples/train/'\n",
    "\n",
    "run = training.run_training(\n",
    "    run_name='First test', # Run name\n",
    "    train_data=PATH+'dados.csv', # Path to the file with training data\n",
    "    source_file=PATH+'app.py', # Path of the source file\n",
    "    requirements_file=PATH+'requirements.txt', # Path of the requirements file, \n",
    "    # env=PATH+'.env'  #  File for env variables (this will be encrypted in the server)\n",
    "    # extra_files=[PATH+'utils.py'], # List with extra files paths that should be uploaded along (they will be all in the same folder)\n",
    "    training_reference='train_model', # The name of the entrypoint function that is going to be called inside the source file \n",
    "    training_type='Custom',\n",
    "    python_version='3.9', # Can be 3.8 to 3.10\n",
    "    wait_complete=True\n",
    ")"
   ]
  },
  {
   "cell_type": "code",
   "execution_count": 6,
   "metadata": {},
   "outputs": [
    {
     "data": {
      "text/plain": [
       "{'ExecutionId': '1',\n",
       " 'Status': 'Succeeded',\n",
       " 'Message': 'wasbs://mlflow-dev@datariskmlops.blob.core.windows.net/artifacts/1/d0c77671b8684fdcbd2276d31b8ec27c/artifacts'}"
      ]
     },
     "execution_count": 6,
     "metadata": {},
     "output_type": "execute_result"
    }
   ],
   "source": [
    "run.get_status()"
   ]
  },
  {
   "cell_type": "code",
   "execution_count": 7,
   "metadata": {},
   "outputs": [
    {
     "data": {
      "text/plain": [
       "{'TrainingHash': 'T508b769c7ca49a4a5e60d96fab003cace7533032858439f9b584cc026be02e1',\n",
       " 'ExperimentName': 'Teste notebook Training custom',\n",
       " 'GroupName': 'groupname',\n",
       " 'ModelType': 'Classification',\n",
       " 'TrainingType': 'Custom',\n",
       " 'ExecutionId': 1,\n",
       " 'RunName': 'First test',\n",
       " 'ExecutionState': 'Succeeded',\n",
       " 'TimeElapsed': 164390,\n",
       " 'Description': '',\n",
       " 'Deployable': True,\n",
       " 'RunData': {'metrics': [{'key': 'training_precision_score',\n",
       "    'value': 1.0,\n",
       "    'timestamp': 1713817886520,\n",
       "    'step': 0},\n",
       "   {'key': 'training_recall_score',\n",
       "    'value': 1.0,\n",
       "    'timestamp': 1713817886520,\n",
       "    'step': 0},\n",
       "   {'key': 'training_f1_score',\n",
       "    'value': 1.0,\n",
       "    'timestamp': 1713817886520,\n",
       "    'step': 0},\n",
       "   {'key': 'training_accuracy_score',\n",
       "    'value': 1.0,\n",
       "    'timestamp': 1713817886520,\n",
       "    'step': 0},\n",
       "   {'key': 'training_log_loss',\n",
       "    'value': 0.00047178298806016674,\n",
       "    'timestamp': 1713817886520,\n",
       "    'step': 0},\n",
       "   {'key': 'training_roc_auc',\n",
       "    'value': 1.0,\n",
       "    'timestamp': 1713817886520,\n",
       "    'step': 0},\n",
       "   {'key': 'training_score',\n",
       "    'value': 1.0,\n",
       "    'timestamp': 1713817886717,\n",
       "    'step': 0},\n",
       "   {'key': 'auc',\n",
       "    'value': 0.9926209713058715,\n",
       "    'timestamp': 1713817887191,\n",
       "    'step': 0},\n",
       "   {'key': 'f1_score',\n",
       "    'value': 0.9761809612166342,\n",
       "    'timestamp': 1713817887191,\n",
       "    'step': 0}],\n",
       "  'params': [{'key': 'memory', 'value': 'None'},\n",
       "   {'key': 'steps',\n",
       "    'value': \"[('simpleimputer', SimpleImputer()), ('lgbmclassifier', LGBMClassifier())]\"},\n",
       "   {'key': 'verbose', 'value': 'False'},\n",
       "   {'key': 'simpleimputer', 'value': 'SimpleImputer()'},\n",
       "   {'key': 'lgbmclassifier', 'value': 'LGBMClassifier()'},\n",
       "   {'key': 'simpleimputer__add_indicator', 'value': 'False'},\n",
       "   {'key': 'simpleimputer__copy', 'value': 'True'},\n",
       "   {'key': 'simpleimputer__fill_value', 'value': 'None'},\n",
       "   {'key': 'simpleimputer__keep_empty_features', 'value': 'False'},\n",
       "   {'key': 'simpleimputer__missing_values', 'value': 'nan'},\n",
       "   {'key': 'simpleimputer__strategy', 'value': 'mean'},\n",
       "   {'key': 'simpleimputer__verbose', 'value': 'deprecated'},\n",
       "   {'key': 'lgbmclassifier__boosting_type', 'value': 'gbdt'},\n",
       "   {'key': 'lgbmclassifier__class_weight', 'value': 'None'},\n",
       "   {'key': 'lgbmclassifier__colsample_bytree', 'value': '1.0'},\n",
       "   {'key': 'lgbmclassifier__importance_type', 'value': 'split'},\n",
       "   {'key': 'lgbmclassifier__learning_rate', 'value': '0.1'},\n",
       "   {'key': 'lgbmclassifier__max_depth', 'value': '-1'},\n",
       "   {'key': 'lgbmclassifier__min_child_samples', 'value': '20'},\n",
       "   {'key': 'lgbmclassifier__min_child_weight', 'value': '0.001'},\n",
       "   {'key': 'lgbmclassifier__min_split_gain', 'value': '0.0'},\n",
       "   {'key': 'lgbmclassifier__n_estimators', 'value': '100'},\n",
       "   {'key': 'lgbmclassifier__n_jobs', 'value': '-1'},\n",
       "   {'key': 'lgbmclassifier__num_leaves', 'value': '31'},\n",
       "   {'key': 'lgbmclassifier__objective', 'value': 'None'},\n",
       "   {'key': 'lgbmclassifier__random_state', 'value': 'None'},\n",
       "   {'key': 'lgbmclassifier__reg_alpha', 'value': '0.0'},\n",
       "   {'key': 'lgbmclassifier__reg_lambda', 'value': '0.0'},\n",
       "   {'key': 'lgbmclassifier__silent', 'value': 'warn'},\n",
       "   {'key': 'lgbmclassifier__subsample', 'value': '1.0'},\n",
       "   {'key': 'lgbmclassifier__subsample_for_bin', 'value': '200000'},\n",
       "   {'key': 'lgbmclassifier__subsample_freq', 'value': '0'},\n",
       "   {'key': 'shape', 'value': '(569, 30)'},\n",
       "   {'key': 'cols_with_missing', 'value': '0'},\n",
       "   {'key': 'missing_distribution',\n",
       "    'value': \"{'mean_missings': nan, 'std_missings': nan, 'min_missings': nan, '25%_missings': nan, '50%_missings': nan, '75%_missings': nan, 'max_missings': nan}\"},\n",
       "   {'key': 'neomaril_exectuion_id', 'value': '1'},\n",
       "   {'key': 'target_proportion',\n",
       "    'value': '{(1,): 0.6274165202108963, (0,): 0.37258347978910367}'}],\n",
       "  'mlflow_run_id': 'd0c77671b8684fdcbd2276d31b8ec27c',\n",
       "  'mlflow_experiment_id': '1'},\n",
       " 'RunAt': '2024-04-22T20:29:46.402087+00:00'}"
      ]
     },
     "execution_count": 7,
     "metadata": {},
     "output_type": "execute_result"
    }
   ],
   "source": [
    "run.execution_data"
   ]
  },
  {
   "cell_type": "code",
   "execution_count": 8,
   "metadata": {},
   "outputs": [
    {
     "name": "stderr",
     "output_type": "stream",
     "text": [
      "2024-04-22 17:32:50.098 | INFO     | neomaril_codex.base:download_result:408 - Output saved in ./output.zip\n"
     ]
    }
   ],
   "source": [
    "# When the run is finished you can download the model file\n",
    "run.download_result()"
   ]
  },
  {
   "cell_type": "code",
   "execution_count": 9,
   "metadata": {},
   "outputs": [
    {
     "name": "stderr",
     "output_type": "stream",
     "text": [
      "2024-04-22 17:32:50.290 | INFO     | neomaril_codex.training:__upload_model:492 - Model 'Teste notebook promoted custom' promoted from T508b769c7ca49a4a5e60d96fab003cace7533032858439f9b584cc026be02e1 - Hash: \"Md68e3180ce2498cbfb88ca59b6c94ddec7eebc47dac4c9591e34ea88d191b04\"\n",
      "2024-04-22 17:32:52.204 | INFO     | neomaril_codex.training:__host_model:557 - Model host in process - Hash: Md68e3180ce2498cbfb88ca59b6c94ddec7eebc47dac4c9591e34ea88d191b04\n",
      "2024-04-22 17:32:52.206 | INFO     | neomaril_codex.base:__init__:20 - Loading .env\n",
      "2024-04-22 17:32:52.211 | INFO     | neomaril_codex.base:__init__:31 - Successfully connected to Neomaril\n"
     ]
    }
   ],
   "source": [
    "# or promote promete it to a deployed model\n",
    "\n",
    "PATH = './samples/syncModel/'\n",
    "\n",
    "model = run.promote_model(\n",
    "    model_name='Teste notebook promoted custom', # model_name\n",
    "    model_reference='score', # name of the scoring function\n",
    "    source_file=PATH+'app.py', # Path of the source file\n",
    "    schema=PATH+'schema.json', # Path of the schema file, but it could be a dict\n",
    "    # env=PATH+'.env'  #  File for env variables (this will be encrypted in the server)\n",
    "    # extra_files=[PATH+'utils.py'], # List with extra files paths that should be uploaded along (they will be all in the same folder)\n",
    "    operation=\"Sync\" # Can be Sync or Async\n",
    ")"
   ]
  },
  {
   "cell_type": "code",
   "execution_count": 10,
   "metadata": {},
   "outputs": [
    {
     "data": {
      "text/plain": [
       "NeomarilModel(name=\"Teste notebook promoted custom\", group=\"groupname\", \n",
       "                                status=\"Building\",\n",
       "                                model_id=\"Md68e3180ce2498cbfb88ca59b6c94ddec7eebc47dac4c9591e34ea88d191b04\",\n",
       "                                operation=\"Sync\",\n",
       "                                )"
      ]
     },
     "execution_count": 10,
     "metadata": {},
     "output_type": "execute_result"
    }
   ],
   "source": [
    "model"
   ]
  },
  {
   "cell_type": "markdown",
   "metadata": {},
   "source": [
    "#### AutoML\n",
    "\n",
    "With AutoML you just need to upload the data and some configuration"
   ]
  },
  {
   "cell_type": "code",
   "execution_count": 11,
   "metadata": {},
   "outputs": [
    {
     "name": "stderr",
     "output_type": "stream",
     "text": [
      "2024-04-22 17:33:37.256 | INFO     | neomaril_codex.training:__upload_training:915 - {\"ExecutionId\":2,\"Message\":\"Training files have been uploaded! Use the id \\u00272\\u0027 to execute the train experiment.\"}\n",
      "2024-04-22 17:33:37.419 | INFO     | neomaril_codex.training:__execute_training:939 - Model training starting - Hash: T508b769c7ca49a4a5e60d96fab003cace7533032858439f9b584cc026be02e1\n",
      "2024-04-22 17:33:37.440 | INFO     | neomaril_codex.base:__init__:20 - Loading .env\n",
      "2024-04-22 17:33:37.445 | INFO     | neomaril_codex.base:__init__:31 - Successfully connected to Neomaril\n",
      "2024-04-22 17:33:37.447 | INFO     | neomaril_codex.base:__init__:279 - Loading .env\n"
     ]
    },
    {
     "name": "stdout",
     "output_type": "stream",
     "text": [
      "Waiting the training run................"
     ]
    }
   ],
   "source": [
    "PATH = './samples/autoML/'\n",
    "\n",
    "run = training.run_training(\n",
    "    run_name='First test', # Run name\n",
    "    training_type='AutoML',\n",
    "    train_data=PATH+'dados.csv', # Path to the file with training data\n",
    "    conf_dict=PATH+'conf.json', # Path of the configuration file\n",
    "    wait_complete=True\n",
    ")"
   ]
  },
  {
   "cell_type": "code",
   "execution_count": 12,
   "metadata": {},
   "outputs": [
    {
     "data": {
      "text/plain": [
       "NeomarilTrainingExecution(name=\"First test\",\n",
       "                                        exec_id=\"2\", status=\"Succeeded\")"
      ]
     },
     "execution_count": 12,
     "metadata": {},
     "output_type": "execute_result"
    }
   ],
   "source": [
    "run"
   ]
  },
  {
   "cell_type": "code",
   "execution_count": 13,
   "metadata": {},
   "outputs": [
    {
     "data": {
      "text/plain": [
       "{'ExecutionId': '2',\n",
       " 'Status': 'Succeeded',\n",
       " 'Message': 'wasbs://mlflow-dev@datariskmlops.blob.core.windows.net/artifacts/1/250f70714e5d4a6f9fa3b55c6b9aaf43/artifacts'}"
      ]
     },
     "execution_count": 13,
     "metadata": {},
     "output_type": "execute_result"
    }
   ],
   "source": [
    "run.get_status()"
   ]
  },
  {
   "cell_type": "code",
   "execution_count": 14,
   "metadata": {},
   "outputs": [
    {
     "name": "stderr",
     "output_type": "stream",
     "text": [
      "2024-04-22 17:41:28.830 | INFO     | neomaril_codex.training:__upload_model:492 - Model 'Teste notebook promoted autoML' promoted from T508b769c7ca49a4a5e60d96fab003cace7533032858439f9b584cc026be02e1 - Hash: \"M0fa3683553e41c4a1a99290c2451ff190785d06b90646e6afe7ffa352c00193\"\n",
      "2024-04-22 17:41:29.135 | INFO     | neomaril_codex.training:__host_model:557 - Model host in process - Hash: M0fa3683553e41c4a1a99290c2451ff190785d06b90646e6afe7ffa352c00193\n",
      "2024-04-22 17:41:29.137 | INFO     | neomaril_codex.base:__init__:20 - Loading .env\n",
      "2024-04-22 17:41:29.140 | INFO     | neomaril_codex.base:__init__:31 - Successfully connected to Neomaril\n"
     ]
    }
   ],
   "source": [
    "# Promote a AutoML model is a lot easier\n",
    "\n",
    "PATH = './samples/autoML/'\n",
    "MODEL_PATH = './samples/syncModel/'\n",
    "\n",
    "model = run.promote_model(\n",
    "    model_name='Teste notebook promoted autoML', # model_name\n",
    "    operation=\"Async\", # Can be Sync or Async,\n",
    "    input_type=\"json\",\n",
    "    schema=PATH+'schema.json'\n",
    ")"
   ]
  },
  {
   "cell_type": "code",
   "execution_count": 15,
   "metadata": {},
   "outputs": [
    {
     "data": {
      "text/plain": [
       "NeomarilModel(name=\"Teste notebook promoted autoML\", group=\"groupname\", \n",
       "                                status=\"Building\",\n",
       "                                model_id=\"M0fa3683553e41c4a1a99290c2451ff190785d06b90646e6afe7ffa352c00193\",\n",
       "                                operation=\"Async\",\n",
       "                                )"
      ]
     },
     "execution_count": 15,
     "metadata": {},
     "output_type": "execute_result"
    }
   ],
   "source": [
    "model"
   ]
  }
 ],
 "metadata": {
  "kernelspec": {
   "display_name": "neomaril-codex-WNTK3WJm",
   "language": "python",
   "name": "python3"
  },
  "language_info": {
   "codemirror_mode": {
    "name": "ipython",
    "version": 3
   },
   "file_extension": ".py",
   "mimetype": "text/x-python",
   "name": "python",
   "nbconvert_exporter": "python",
   "pygments_lexer": "ipython3",
   "version": "3.10.12"
  },
  "vscode": {
   "interpreter": {
    "hash": "d7308033b61508a213f02f142180c32f76fea0bd8e107ff2b0f7849d3585655c"
   }
  }
 },
 "nbformat": 4,
 "nbformat_minor": 2
}
