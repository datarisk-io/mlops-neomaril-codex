{
 "cells": [
  {
   "cell_type": "markdown",
   "metadata": {},
   "source": [
    "# Neomaril Training\n",
    "\n",
    "This notebook give a exemple on how to use Neomaril to training a ML model"
   ]
  },
  {
   "cell_type": "markdown",
   "metadata": {},
   "source": [
    "### NeomarilTrainingClient\n",
    "\n",
    "It's where you can manage your trainining experiments"
   ]
  },
  {
   "cell_type": "code",
   "execution_count": 1,
   "metadata": {},
   "outputs": [],
   "source": [
    "# Import the client\n",
    "from neomaril_codex.training import NeomarilTrainingClient"
   ]
  },
  {
   "cell_type": "code",
   "execution_count": 2,
   "metadata": {},
   "outputs": [
    {
     "name": "stderr",
     "output_type": "stream",
     "text": [
      "2023-01-31 12:56:40.033 | INFO     | neomaril_codex._base:__init__:74 - You are using the test environment that will have the data cleaned from time to time. If your model is ready to use change the flag test_enviroment to False\n",
      "2023-01-31 12:56:40.039 | INFO     | neomaril_codex._base:__init__:83 - Successfully connected to Neomaril\n"
     ]
    },
    {
     "data": {
      "text/plain": [
       "NeomarilTrainingClient(environment=\"Staging\", version=\"1.0\")"
      ]
     },
     "execution_count": 2,
     "metadata": {},
     "output_type": "execute_result"
    }
   ],
   "source": [
    "# Start the client\n",
    "token='123'\n",
    "\n",
    "client = NeomarilTrainingClient(token)\n",
    "client"
   ]
  },
  {
   "cell_type": "markdown",
   "metadata": {},
   "source": [
    "## NeomarilTrainingExperiment\n",
    "\n",
    "It's where you can create a training experiment to find the best model"
   ]
  },
  {
   "cell_type": "markdown",
   "metadata": {},
   "source": [
    "#### Custom training\n",
    "\n",
    "With Custom training you have to create the training function."
   ]
  },
  {
   "cell_type": "code",
   "execution_count": 3,
   "metadata": {},
   "outputs": [
    {
     "name": "stderr",
     "output_type": "stream",
     "text": [
      "2023-01-31 12:56:40.169 | INFO     | neomaril_codex.training:create_training_experiment:467 - New Training inserted with hash Tfb3274827a24dc39d5b78603f348aee8d3dbfe791574dc4a6681a7e2a6622fa.\n"
     ]
    }
   ],
   "source": [
    "# Creating a new training experiment\n",
    "training = client.create_training_experiment('Teste notebook Training custom', # Experiment name, this is how you find your model in MLFLow\n",
    "                                            'Classification', # Model type. Can be Classification, Regression or Unsupervised\n",
    "                                            'Custom', # Training type. Can be Custom or AutoML\n",
    "                                            )"
   ]
  },
  {
   "cell_type": "code",
   "execution_count": 4,
   "metadata": {},
   "outputs": [
    {
     "data": {
      "text/plain": [
       "NeomarilTrainingExperiment(name=\"Teste notebook Training custom\", \n",
       "                                                        group=\"datarisk\", \n",
       "                                                        environment=\"Staging\"\n",
       "                                                        training_id=\"Tfb3274827a24dc39d5b78603f348aee8d3dbfe791574dc4a6681a7e2a6622fa\",\n",
       "                                                        training_type=\"Custom\",\n",
       "                                                        model_type=Classification\n",
       "                                                        )"
      ]
     },
     "execution_count": 4,
     "metadata": {},
     "output_type": "execute_result"
    }
   ],
   "source": [
    "training"
   ]
  },
  {
   "cell_type": "code",
   "execution_count": 5,
   "metadata": {},
   "outputs": [
    {
     "name": "stderr",
     "output_type": "stream",
     "text": [
      "2023-01-31 12:56:40.284 | INFO     | neomaril_codex.training:__upload_training:289 - {\"Message\":\"Training files have been uploaded. Execution id is '6'\"}\n",
      "2023-01-31 12:56:40.406 | INFO     | neomaril_codex.training:__execute_training:308 - Model training starting - Hash: Tfb3274827a24dc39d5b78603f348aee8d3dbfe791574dc4a6681a7e2a6622fa\n"
     ]
    },
    {
     "name": "stdout",
     "output_type": "stream",
     "text": [
      "Wating the training run......"
     ]
    },
    {
     "name": "stderr",
     "output_type": "stream",
     "text": [
      "2023-01-31 12:59:11.430 | INFO     | neomaril_codex._base:get_status:231 - You can check the run info in https://mlflow.staging.datarisk.net/ \n"
     ]
    }
   ],
   "source": [
    "# With the experiment class we can create multiple model runs\n",
    "PATH = './samples/train/'\n",
    "\n",
    "run = training.run_training('First test', # Run name\n",
    "                            PATH+'dados.csv', # Path to the file with training data\n",
    "                            source_file=PATH+'app.py', # Path of the source file\n",
    "                            requirements_file=PATH+'requirements.txt', # Path of the requirements file, \n",
    "#                           env=PATH+'.env'  #  File for env variables (this will be encrypted in the server)\n",
    "#                           extra_files=[PATH+'utils.py'], # List with extra files paths that should be uploaded along (they will be all in the same folder)\n",
    "                            training_reference='train_model',\n",
    "                            python_version='3.9', # Can be 3.7 to 3.10\n",
    "                            wait_complete=True\n",
    "\n",
    ")"
   ]
  },
  {
   "cell_type": "code",
   "execution_count": 6,
   "metadata": {},
   "outputs": [
    {
     "data": {
      "text/plain": [
       "{'ModelHash': 'Tfb3274827a24dc39d5b78603f348aee8d3dbfe791574dc4a6681a7e2a6622fa',\n",
       " 'ExperimentName': 'Teste notebook Training custom',\n",
       " 'GroupName': 'datarisk',\n",
       " 'ModelType': 'Classification',\n",
       " 'TrainingType': 'Custom',\n",
       " 'ExecutionId': 6,\n",
       " 'ExecutionState': 'Running',\n",
       " 'InputPayload': '{\\n    \"trainingReference\": \"train_model\",\\n    \"pythonVersion\": \"Python39\",\\n    \"executionType\": \"neomaril-custom-training\",\\n    \"experimentName\": \"Teste notebook Training custom\",\\n    \"runName\": \"First test\",\\n    \"basePath\": \"/app/store/datarisk/Tfb3274827a24dc39d5b78603f348aee8d3dbfe791574dc4a6681a7e2a6622fa/6\",\\n    \"neomarilExecutionId\": \"6\"\\n}',\n",
       " 'OutputPayload': '{}',\n",
       " 'RunAt': '2023-01-31T15:56:40.2797370Z',\n",
       " 'Status': 'Succeeded'}"
      ]
     },
     "execution_count": 6,
     "metadata": {},
     "output_type": "execute_result"
    }
   ],
   "source": [
    "run.execution_data"
   ]
  },
  {
   "cell_type": "code",
   "execution_count": 7,
   "metadata": {},
   "outputs": [
    {
     "name": "stderr",
     "output_type": "stream",
     "text": [
      "2023-01-31 12:59:11.826 | INFO     | neomaril_codex._base:get_status:231 - You can check the run info in https://mlflow.staging.datarisk.net/ \n"
     ]
    },
    {
     "data": {
      "text/plain": [
       "{'trainingExecutionId': '6',\n",
       " 'Status': 'Succeeded',\n",
       " 'Message': '{\\n    \"artifacts\": \"wasbs://mlflow-dev@datariskmlops.blob.core.windows.net/artifacts/1/1d4f69f9ea3f4d27bfd52a19a329f220/artifacts\",\\n    \"mlflow_run_id\": \"1d4f69f9ea3f4d27bfd52a19a329f220\"\\n}'}"
      ]
     },
     "execution_count": 7,
     "metadata": {},
     "output_type": "execute_result"
    }
   ],
   "source": [
    "run.get_status()"
   ]
  },
  {
   "cell_type": "code",
   "execution_count": 8,
   "metadata": {},
   "outputs": [
    {
     "name": "stderr",
     "output_type": "stream",
     "text": [
      "2023-01-31 12:59:11.868 | INFO     | neomaril_codex._base:download_result:261 - Output saved in ./output_6.zip\n",
      "2023-01-31 12:59:12.159 | INFO     | neomaril_codex.training:__upload_model:111 - Model 'Teste notebook promoted custom' promoted from Tfb3274827a24dc39d5b78603f348aee8d3dbfe791574dc4a6681a7e2a6622fa - Hash: \"M069254cf15441fe9af565d4f735840b0d1345424927424bb47611bb24965992\"\n",
      "2023-01-31 12:59:12.196 | INFO     | neomaril_codex.training:__host_model:133 - Model host in process - Hash: M069254cf15441fe9af565d4f735840b0d1345424927424bb47611bb24965992\n"
     ]
    }
   ],
   "source": [
    "# When the run is finished you can download the model file\n",
    "run.download_result()\n",
    "\n",
    "# or promote promete it to a deployed model\n",
    "\n",
    "PATH = './samples/syncModel/'\n",
    "\n",
    "model = run.promote_model('Teste notebook promoted custom', # model_name\n",
    "                            'score', # name of the scoring function\n",
    "                            PATH+'app.py', # Path of the source file\n",
    "                            PATH+'schema.json', # Path of the schema file, but it could be a dict\n",
    "#                           env=PATH+'.env'  #  File for env variables (this will be encrypted in the server)\n",
    "#                           extra_files=[PATH+'utils.py'], # List with extra files paths that should be uploaded along (they will be all in the same folder)\n",
    "                            operation=\"Sync\" # Can be Sync or Async\n",
    ")"
   ]
  },
  {
   "cell_type": "code",
   "execution_count": 9,
   "metadata": {},
   "outputs": [
    {
     "data": {
      "text/plain": [
       "NeomarilModel(name=\"Teste notebook promoted custom\", group=\"datarisk\", \n",
       "                                status=\"Building\", environment=\"Staging\"\n",
       "                                model_id=\"M069254cf15441fe9af565d4f735840b0d1345424927424bb47611bb24965992\",\n",
       "                                operation=\"Sync\",\n",
       "                                schema={\n",
       "  \"mean radius\": 17.99,\n",
       "  \"mean texture\": 10.38,\n",
       "  \"mean perimeter\": 122.8,\n",
       "  \"mean area\": 1001.0,\n",
       "  \"mean smoothness\": 0.1184,\n",
       "  \"mean compactness\": 0.2776,\n",
       "  \"mean concavity\": 0.3001,\n",
       "  \"mean concave points\": 0.1471,\n",
       "  \"mean symmetry\": 0.2419,\n",
       "  \"mean fractal dimension\": 0.07871,\n",
       "  \"radius error\": 1.095,\n",
       "  \"texture error\": 0.9053,\n",
       "  \"perimeter error\": 8.589,\n",
       "  \"area error\": 153.4,\n",
       "  \"smoothness error\": 0.006399,\n",
       "  \"compactness error\": 0.04904,\n",
       "  \"concavity error\": 0.05373,\n",
       "  \"concave points error\": 0.01587,\n",
       "  \"symmetry error\": 0.03003,\n",
       "  \"fractal dimension error\": 0.006193,\n",
       "  \"worst radius\": 25.38,\n",
       "  \"worst texture\": 17.33,\n",
       "  \"worst perimeter\": 184.6,\n",
       "  \"worst area\": 2019.0,\n",
       "  \"worst smoothness\": 0.1622,\n",
       "  \"worst compactness\": 0.6656,\n",
       "  \"worst concavity\": 0.7119,\n",
       "  \"worst concave points\": 0.2654,\n",
       "  \"worst symmetry\": 0.4601,\n",
       "  \"worst fractal dimension\": 0.1189\n",
       "}\n",
       "                                )"
      ]
     },
     "execution_count": 9,
     "metadata": {},
     "output_type": "execute_result"
    }
   ],
   "source": [
    "model"
   ]
  },
  {
   "cell_type": "markdown",
   "metadata": {},
   "source": [
    "#### AutoML\n",
    "\n",
    "With AutoML you just need to upload the data and some configuration"
   ]
  },
  {
   "cell_type": "code",
   "execution_count": 10,
   "metadata": {},
   "outputs": [
    {
     "name": "stderr",
     "output_type": "stream",
     "text": [
      "2023-01-31 12:59:12.323 | INFO     | neomaril_codex.training:create_training_experiment:467 - New Training inserted with hash Tc53f0a17ba04f9ca3a86b8d6af5fb45e15097d263304571bfb96b6e5b009ae5.\n",
      "2023-01-31 12:59:12.350 | INFO     | neomaril_codex.training:__upload_training:289 - {\"Message\":\"Training files have been uploaded. Execution id is '7'\"}\n",
      "2023-01-31 12:59:12.474 | INFO     | neomaril_codex.training:__execute_training:308 - Model training starting - Hash: Tc53f0a17ba04f9ca3a86b8d6af5fb45e15097d263304571bfb96b6e5b009ae5\n"
     ]
    },
    {
     "name": "stdout",
     "output_type": "stream",
     "text": [
      "Wating the training run........"
     ]
    },
    {
     "name": "stderr",
     "output_type": "stream",
     "text": [
      "2023-01-31 13:02:44.273 | INFO     | neomaril_codex._base:get_status:231 - You can check the run info in https://mlflow.staging.datarisk.net/ \n"
     ]
    }
   ],
   "source": [
    "# Creating a new training experiment\n",
    "training = client.create_training_experiment('Teste notebook Training AutoML', # Experiment name\n",
    "                                            'Classification', # Model type. Can be Classification, Regression or Unsupervised\n",
    "                                            'AutoML', # Training type. Can be Custom or AutoML\n",
    "                                            )\n",
    "\n",
    "PATH = './samples/autoML/'\n",
    "\n",
    "run = training.run_training('First test', # Run name\n",
    "                            PATH+'dados.csv', # Path to the file with training data\n",
    "                            conf_dict=PATH+'conf.json', # Path of the configuration file\n",
    "                            wait_complete=True\n",
    ")"
   ]
  },
  {
   "cell_type": "code",
   "execution_count": 11,
   "metadata": {},
   "outputs": [
    {
     "data": {
      "text/plain": [
       "NeomarilTrainingExecution(exec_id=\"7\", status=\"Succeeded\")"
      ]
     },
     "execution_count": 11,
     "metadata": {},
     "output_type": "execute_result"
    }
   ],
   "source": [
    "run"
   ]
  },
  {
   "cell_type": "code",
   "execution_count": 12,
   "metadata": {},
   "outputs": [
    {
     "name": "stderr",
     "output_type": "stream",
     "text": [
      "2023-01-31 13:02:44.667 | INFO     | neomaril_codex._base:get_status:231 - You can check the run info in https://mlflow.staging.datarisk.net/ \n"
     ]
    },
    {
     "data": {
      "text/plain": [
       "{'trainingExecutionId': '7',\n",
       " 'Status': 'Succeeded',\n",
       " 'Message': '{\\n    \"artifacts\": \"wasbs://mlflow-dev@datariskmlops.blob.core.windows.net/artifacts/2/9c96f54bb26548c2964a076080a79237/artifacts\",\\n    \"mlflow_run_id\": \"9c96f54bb26548c2964a076080a79237\"\\n}'}"
      ]
     },
     "execution_count": 12,
     "metadata": {},
     "output_type": "execute_result"
    }
   ],
   "source": [
    "run.get_status()"
   ]
  },
  {
   "cell_type": "code",
   "execution_count": 13,
   "metadata": {},
   "outputs": [
    {
     "data": {
      "text/plain": [
       "NeomarilTrainingExecution(exec_id=\"7\", status=\"Succeeded\")"
      ]
     },
     "execution_count": 13,
     "metadata": {},
     "output_type": "execute_result"
    }
   ],
   "source": [
    "run"
   ]
  },
  {
   "cell_type": "code",
   "execution_count": 14,
   "metadata": {},
   "outputs": [
    {
     "name": "stderr",
     "output_type": "stream",
     "text": [
      "2023-01-31 13:02:45.036 | INFO     | neomaril_codex.training:__upload_model:111 - Model 'Teste notebook promoted autoML' promoted from Tc53f0a17ba04f9ca3a86b8d6af5fb45e15097d263304571bfb96b6e5b009ae5 - Hash: \"M6d5c0066e984fc1a953423c0a8f3145d9c33fec32ee406e9d7e25948e885384\"\n",
      "2023-01-31 13:02:45.069 | INFO     | neomaril_codex.training:__host_model:133 - Model host in process - Hash: M6d5c0066e984fc1a953423c0a8f3145d9c33fec32ee406e9d7e25948e885384\n"
     ]
    }
   ],
   "source": [
    "# Promote a AutoML model is a lot easier\n",
    "\n",
    "PATH = './samples/syncModel/'\n",
    "\n",
    "model = run.promote_model('Teste notebook promoted autoML', # model_name\n",
    "                            operation=\"Async\" # Can be Sync or Async\n",
    ")"
   ]
  },
  {
   "cell_type": "code",
   "execution_count": 15,
   "metadata": {},
   "outputs": [
    {
     "data": {
      "text/plain": [
       "NeomarilModel(name=\"Teste notebook promoted autoML\", group=\"datarisk\", \n",
       "                                status=\"Building\", environment=\"Staging\"\n",
       "                                model_id=\"M6d5c0066e984fc1a953423c0a8f3145d9c33fec32ee406e9d7e25948e885384\",\n",
       "                                operation=\"Async\",\n",
       "                                schema={}\n",
       "                                )"
      ]
     },
     "execution_count": 15,
     "metadata": {},
     "output_type": "execute_result"
    }
   ],
   "source": [
    "model"
   ]
  }
 ],
 "metadata": {
  "kernelspec": {
   "display_name": "neomaril-codex-WNTK3WJm",
   "language": "python",
   "name": "python3"
  },
  "language_info": {
   "codemirror_mode": {
    "name": "ipython",
    "version": 3
   },
   "file_extension": ".py",
   "mimetype": "text/x-python",
   "name": "python",
   "nbconvert_exporter": "python",
   "pygments_lexer": "ipython3",
   "version": "3.10.6 (main, Nov 14 2022, 16:10:14) [GCC 11.3.0]"
  },
  "vscode": {
   "interpreter": {
    "hash": "d7308033b61508a213f02f142180c32f76fea0bd8e107ff2b0f7849d3585655c"
   }
  }
 },
 "nbformat": 4,
 "nbformat_minor": 2
}
