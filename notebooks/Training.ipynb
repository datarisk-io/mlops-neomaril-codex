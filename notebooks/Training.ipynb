{
 "cells": [
  {
   "cell_type": "markdown",
   "metadata": {},
   "source": [
    "# Neomaril Training\n",
    "\n",
    "This notebook give a exemple on how to use Neomaril to training a ML model"
   ]
  },
  {
   "cell_type": "markdown",
   "metadata": {},
   "source": [
    "### NeomarilTrainingClient\n",
    "\n",
    "It's where you can manage your trainining experiments"
   ]
  },
  {
   "cell_type": "code",
   "execution_count": 1,
   "metadata": {},
   "outputs": [],
   "source": [
    "# Import the client\n",
    "from neomaril_codex.training import NeomarilTrainingClient"
   ]
  },
  {
   "cell_type": "code",
   "execution_count": 2,
   "metadata": {},
   "outputs": [
    {
     "name": "stdout",
     "output_type": "stream",
     "text": [
      "[INFO]You are using the test enviroment that will have the data cleaned from time to time. If your model is ready to use change the flag test_enviroment to False[INFO]\n",
      "[INFO]Successfully connected to Neomaril[INFO]\n"
     ]
    },
    {
     "data": {
      "text/plain": [
       "NeomarilTrainingClient(enviroment=\"Staging\", version=\"1.0\")"
      ]
     },
     "execution_count": 2,
     "metadata": {},
     "output_type": "execute_result"
    }
   ],
   "source": [
    "# Start the client\n",
    "token='xxxxxxxx'\n",
    "\n",
    "client = NeomarilTrainingClient(token)\n",
    "client"
   ]
  },
  {
   "cell_type": "markdown",
   "metadata": {},
   "source": [
    "## NeomarilTrainingExperiment\n",
    "\n",
    "It's where you can create a training experiment to find the best model"
   ]
  },
  {
   "cell_type": "markdown",
   "metadata": {},
   "source": [
    "#### Custom training\n",
    "\n",
    "With Custom training you have to create the training function."
   ]
  },
  {
   "cell_type": "code",
   "execution_count": 3,
   "metadata": {},
   "outputs": [
    {
     "name": "stdout",
     "output_type": "stream",
     "text": [
      "[INFO]New Training inserted with hash T1fd515aa77c486e99ebd30124cb090ef7c0f38f166e4529baaa2c537cbf132f.[INFO]\n"
     ]
    }
   ],
   "source": [
    "# Creating a new training experiment\n",
    "training = client.create_training_experiment('Teste notebook Training custom', # Experiment name, this is how you find your model in MLFLow\n",
    "                                            'Classification', # Model type. Can be Classification, Regression or Unsupervised\n",
    "                                            'Custom', # Training type. Can be Custom or AutoML\n",
    "                                            )"
   ]
  },
  {
   "cell_type": "code",
   "execution_count": 4,
   "metadata": {},
   "outputs": [
    {
     "data": {
      "text/plain": [
       "NeomarilTrainingExperiment(name=\"Teste notebook Training custom\", \n",
       "                            group=\"datarisk\", \n",
       "                            enviroment=\"Staging\"\n",
       "                            training_id=\"T1fd515aa77c486e99ebd30124cb090ef7c0f38f166e4529baaa2c537cbf132f\",\n",
       "                            training_type=\"Custom\",\n",
       "                            model_type=Classification\n",
       "                            )"
      ]
     },
     "execution_count": 4,
     "metadata": {},
     "output_type": "execute_result"
    }
   ],
   "source": [
    "training"
   ]
  },
  {
   "cell_type": "code",
   "execution_count": 5,
   "metadata": {},
   "outputs": [
    {
     "name": "stdout",
     "output_type": "stream",
     "text": [
      "[INFO]{\"Message\":\"Training files have been uploaded. Execution id is '7'\"}[INFO]\n",
      "[INFO]Model training starting - Hash: T1fd515aa77c486e99ebd30124cb090ef7c0f38f166e4529baaa2c537cbf132f[INFO]\n",
      "[INFO]You can check the run info in https://mlflow.staging.datarisk.net/[INFO]\n"
     ]
    }
   ],
   "source": [
    "# With the experiment class we can create multiple model runs\n",
    "PATH = './samples/train/'\n",
    "\n",
    "run = training.run_training('First test', # Run name\n",
    "                            PATH+'dados.csv', # Path to the file with training data\n",
    "                            source_file=PATH+'app.py', # Path of the source file\n",
    "                            requirements_file=PATH+'requirements.txt', # Path of the requirements file, \n",
    "#                           env=PATH+'.env'  #  File for env variables (this will be encrypted in the server)\n",
    "#                           extra_files=[PATH+'utils.py'], # List with extra files paths that should be uploaded along (they will be all in the same folder)\n",
    "                            training_reference='train_model',\n",
    "                            python_version='3.9', # Can be 3.7 to 3.10\n",
    "\n",
    ")"
   ]
  },
  {
   "cell_type": "code",
   "execution_count": 6,
   "metadata": {},
   "outputs": [
    {
     "data": {
      "text/plain": [
       "NeomarilTrainingExecution(exec_id=\"7\", status=\"Running\")"
      ]
     },
     "execution_count": 6,
     "metadata": {},
     "output_type": "execute_result"
    }
   ],
   "source": [
    "run"
   ]
  },
  {
   "cell_type": "code",
   "execution_count": 5,
   "metadata": {},
   "outputs": [
    {
     "name": "stdout",
     "output_type": "stream",
     "text": [
      "[INFO]You can check the run info in https://mlflow.staging.datarisk.net/ [INFO]\n"
     ]
    },
    {
     "data": {
      "text/plain": [
       "{'trainingExecutionId': '7', 'Status': 'Succeeded'}"
      ]
     },
     "execution_count": 5,
     "metadata": {},
     "output_type": "execute_result"
    }
   ],
   "source": [
    "run.get_status()"
   ]
  },
  {
   "cell_type": "code",
   "execution_count": 6,
   "metadata": {},
   "outputs": [
    {
     "name": "stdout",
     "output_type": "stream",
     "text": [
      "[INFO]Model 'Teste notebook promoted custom' promoted from T1fd515aa77c486e99ebd30124cb090ef7c0f38f166e4529baaa2c537cbf132f - Hash: \"M68545ae28a942fbba192a246e597696e65b47b4c77d4623a662b0fb924c39bb\"[INFO]\n",
      "[INFO]Model host in process - Hash: M68545ae28a942fbba192a246e597696e65b47b4c77d4623a662b0fb924c39bb[INFO]\n"
     ]
    }
   ],
   "source": [
    "# When the run is finished you can download the model file\n",
    "run.download_result()\n",
    "\n",
    "# or promote promete it to a deployed model\n",
    "\n",
    "PATH = './samples/syncModel/'\n",
    "\n",
    "model = run.promote_model('Teste notebook promoted custom', # model_name\n",
    "                            'score', # name of the scoring function\n",
    "                            PATH+'app.py', # Path of the source file\n",
    "                            PATH+'schema.json', # Path of the schema file, but it could be a dict\n",
    "#                           env=PATH+'.env'  #  File for env variables (this will be encrypted in the server)\n",
    "#                           extra_files=[PATH+'utils.py'], # List with extra files paths that should be uploaded along (they will be all in the same folder)\n",
    "                            operation=\"Sync\" # Can be Sync or Async\n",
    ")"
   ]
  },
  {
   "cell_type": "code",
   "execution_count": 7,
   "metadata": {},
   "outputs": [
    {
     "data": {
      "text/plain": [
       "NeomarilModel(name=\"Teste notebook promoted custom\", group=\"datarisk\", \n",
       "                               status=\"Building\", enviroment=\"Staging\"\n",
       "                               model_id=\"M68545ae28a942fbba192a246e597696e65b47b4c77d4623a662b0fb924c39bb\",\n",
       "                               operation=\"Sync\",\n",
       "                               schema={\n",
       "  \"mean radius\": 17.99,\n",
       "  \"mean texture\": 10.38,\n",
       "  \"mean perimeter\": 122.8,\n",
       "  \"mean area\": 1001.0,\n",
       "  \"mean smoothness\": 0.1184,\n",
       "  \"mean compactness\": 0.2776,\n",
       "  \"mean concavity\": 0.3001,\n",
       "  \"mean concave points\": 0.1471,\n",
       "  \"mean symmetry\": 0.2419,\n",
       "  \"mean fractal dimension\": 0.07871,\n",
       "  \"radius error\": 1.095,\n",
       "  \"texture error\": 0.9053,\n",
       "  \"perimeter error\": 8.589,\n",
       "  \"area error\": 153.4,\n",
       "  \"smoothness error\": 0.006399,\n",
       "  \"compactness error\": 0.04904,\n",
       "  \"concavity error\": 0.05373,\n",
       "  \"concave points error\": 0.01587,\n",
       "  \"symmetry error\": 0.03003,\n",
       "  \"fractal dimension error\": 0.006193,\n",
       "  \"worst radius\": 25.38,\n",
       "  \"worst texture\": 17.33,\n",
       "  \"worst perimeter\": 184.6,\n",
       "  \"worst area\": 2019.0,\n",
       "  \"worst smoothness\": 0.1622,\n",
       "  \"worst compactness\": 0.6656,\n",
       "  \"worst concavity\": 0.7119,\n",
       "  \"worst concave points\": 0.2654,\n",
       "  \"worst symmetry\": 0.4601,\n",
       "  \"worst fractal dimension\": 0.1189\n",
       "}\n",
       "                               )"
      ]
     },
     "execution_count": 7,
     "metadata": {},
     "output_type": "execute_result"
    }
   ],
   "source": [
    "model"
   ]
  },
  {
   "cell_type": "markdown",
   "metadata": {},
   "source": [
    "#### AutoML\n",
    "\n",
    "With AutoML you just need to upload the data and some configuration"
   ]
  },
  {
   "cell_type": "code",
   "execution_count": 14,
   "metadata": {},
   "outputs": [
    {
     "name": "stdout",
     "output_type": "stream",
     "text": [
      "[INFO]{\"Message\":\"Training files have been uploaded. Execution id is '9'\"}[INFO]\n",
      "[INFO]Model training starting - Hash: T01bdd3efda34d9ab7e6f43dacdf7b6c5021a91f4b804aed8695ca8bf0068cba[INFO]\n"
     ]
    }
   ],
   "source": [
    "# Creating a new training experiment\n",
    "training = client.create_training_experiment('Teste notebook Training AutoML', # Experiment name\n",
    "                                            'Classification', # Model type. Can be Classification, Regression or Unsupervised\n",
    "                                            'AutoML', # Training type. Can be Custom or AutoML\n",
    "                                            )\n",
    "\n",
    "PATH = './samples/autoML/'\n",
    "\n",
    "run = training.run_training('First test', # Run name\n",
    "                            PATH+'dados.csv', # Path to the file with training data\n",
    "                            conf_dict=PATH+'conf.json' # Path of the configuration file\n",
    ")"
   ]
  },
  {
   "cell_type": "code",
   "execution_count": 15,
   "metadata": {},
   "outputs": [
    {
     "data": {
      "text/plain": [
       "NeomarilTrainingExecution(exec_id=\"9\", status=\"Running\")"
      ]
     },
     "execution_count": 15,
     "metadata": {},
     "output_type": "execute_result"
    }
   ],
   "source": [
    "run"
   ]
  },
  {
   "cell_type": "code",
   "execution_count": 18,
   "metadata": {},
   "outputs": [
    {
     "name": "stdout",
     "output_type": "stream",
     "text": [
      "[INFO]You can check the run info in https://mlflow.staging.datarisk.net/ [INFO]\n"
     ]
    },
    {
     "data": {
      "text/plain": [
       "{'trainingExecutionId': '9', 'Status': 'Succeeded'}"
      ]
     },
     "execution_count": 18,
     "metadata": {},
     "output_type": "execute_result"
    }
   ],
   "source": [
    "run.get_status()"
   ]
  },
  {
   "cell_type": "code",
   "execution_count": 4,
   "metadata": {},
   "outputs": [
    {
     "data": {
      "text/plain": [
       "NeomarilTrainingExecution(exec_id=\"9\", status=\"Succeeded\")"
      ]
     },
     "execution_count": 4,
     "metadata": {},
     "output_type": "execute_result"
    }
   ],
   "source": [
    "run"
   ]
  },
  {
   "cell_type": "code",
   "execution_count": 5,
   "metadata": {},
   "outputs": [
    {
     "name": "stdout",
     "output_type": "stream",
     "text": [
      "[INFO]Model 'Teste notebook promoted autoML' promoted from T01bdd3efda34d9ab7e6f43dacdf7b6c5021a91f4b804aed8695ca8bf0068cba - Hash: \"Mef905521813489e939b6e992a679522328358bc711d4118851834e281174134\"[INFO]\n",
      "[INFO]Model host in process - Hash: Mef905521813489e939b6e992a679522328358bc711d4118851834e281174134[INFO]\n"
     ]
    }
   ],
   "source": [
    "# Promote a AutoML model is a lot easier\n",
    "\n",
    "PATH = './samples/syncModel/'\n",
    "\n",
    "model = run.promote_model('Teste notebook promoted autoML', # model_name\n",
    "                            operation=\"Async\" # Can be Sync or Async\n",
    ")"
   ]
  },
  {
   "cell_type": "code",
   "execution_count": 6,
   "metadata": {},
   "outputs": [
    {
     "data": {
      "text/plain": [
       "NeomarilModel(name=\"Teste notebook promoted autoML\", group=\"datarisk\", \n",
       "                               status=\"Building\", enviroment=\"Staging\"\n",
       "                               model_id=\"Mef905521813489e939b6e992a679522328358bc711d4118851834e281174134\",\n",
       "                               operation=\"Async\",\n",
       "                               schema={}\n",
       "                               )"
      ]
     },
     "execution_count": 6,
     "metadata": {},
     "output_type": "execute_result"
    }
   ],
   "source": [
    "model"
   ]
  }
 ],
 "metadata": {
  "kernelspec": {
   "display_name": "Python 3 (ipykernel)",
   "language": "python",
   "name": "python3"
  },
  "language_info": {
   "codemirror_mode": {
    "name": "ipython",
    "version": 3
   },
   "file_extension": ".py",
   "mimetype": "text/x-python",
   "name": "python",
   "nbconvert_exporter": "python",
   "pygments_lexer": "ipython3",
   "version": "3.10.6"
  },
  "vscode": {
   "interpreter": {
    "hash": "916dbcbb3f70747c44a77c7bcd40155683ae19c65e1c03b4aa3499c5328201f1"
   }
  }
 },
 "nbformat": 4,
 "nbformat_minor": 2
}
