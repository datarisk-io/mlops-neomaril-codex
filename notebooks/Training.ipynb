{
 "cells": [
  {
   "cell_type": "markdown",
   "metadata": {},
   "source": [
    "# Neomaril Training\n",
    "\n",
    "This notebook give a exemple on how to use Neomaril to training a ML model"
   ]
  },
  {
   "cell_type": "markdown",
   "metadata": {},
   "source": [
    "### NeomarilTrainingClient\n",
    "\n",
    "It's where you can manage your trainining experiments"
   ]
  },
  {
   "cell_type": "code",
   "execution_count": 1,
   "metadata": {},
   "outputs": [],
   "source": [
    "# Import the client\n",
    "from neomaril_codex.training import NeomarilTrainingClient"
   ]
  },
  {
   "cell_type": "code",
   "execution_count": 2,
   "metadata": {},
   "outputs": [
    {
     "name": "stderr",
     "output_type": "stream",
     "text": [
      "2023-02-17 16:16:28.736 | INFO     | neomaril_codex._base:__init__:77 - Loading .env\n",
      "2023-02-17 16:16:29.194 | INFO     | neomaril_codex._base:__init__:89 - Successfully connected to Neomaril\n"
     ]
    },
    {
     "data": {
      "text/plain": [
       "NeomarilTrainingClient(url=\"http://localhost:7070/api\", version=\"1.0\")"
      ]
     },
     "execution_count": 2,
     "metadata": {},
     "output_type": "execute_result"
    }
   ],
   "source": [
    "# Start the client. We are reading the credentials in the NEOMARIL_TOKEN env variable\n",
    "\n",
    "client = NeomarilTrainingClient()\n",
    "client"
   ]
  },
  {
   "cell_type": "markdown",
   "metadata": {},
   "source": [
    "## NeomarilTrainingExperiment\n",
    "\n",
    "It's where you can create a training experiment to find the best model"
   ]
  },
  {
   "cell_type": "markdown",
   "metadata": {},
   "source": [
    "#### Custom training\n",
    "\n",
    "With Custom training you have to create the training function."
   ]
  },
  {
   "cell_type": "code",
   "execution_count": 3,
   "metadata": {},
   "outputs": [
    {
     "name": "stderr",
     "output_type": "stream",
     "text": [
      "2023-02-17 16:16:30.364 | INFO     | neomaril_codex.training:create_training_experiment:466 - New Training inserted with hash Teb54da9c0ba455487728929e32b5fdd24ebd43fa1024a90aa98c5bf2a3d1bb3.\n"
     ]
    }
   ],
   "source": [
    "# Creating a new training experiment\n",
    "training = client.create_training_experiment('Teste notebook Training custom', # Experiment name, this is how you find your model in MLFLow\n",
    "                                            'Classification', # Model type. Can be Classification, Regression or Unsupervised\n",
    "                                            'Custom', # Training type. Can be Custom or AutoML\n",
    "                                            group='datarisk' # This is the default group. Create a new one when using for a new project\n",
    "                                            )"
   ]
  },
  {
   "cell_type": "code",
   "execution_count": 4,
   "metadata": {},
   "outputs": [
    {
     "data": {
      "text/plain": [
       "NeomarilTrainingExperiment(name=\"Teste notebook Training custom\", \n",
       "                                                        group=\"datarisk\", \n",
       "                                                        training_id=\"Teb54da9c0ba455487728929e32b5fdd24ebd43fa1024a90aa98c5bf2a3d1bb3\",\n",
       "                                                        training_type=\"Custom\",\n",
       "                                                        model_type=Classification\n",
       "                                                        )"
      ]
     },
     "execution_count": 4,
     "metadata": {},
     "output_type": "execute_result"
    }
   ],
   "source": [
    "training"
   ]
  },
  {
   "cell_type": "code",
   "execution_count": 5,
   "metadata": {},
   "outputs": [
    {
     "name": "stderr",
     "output_type": "stream",
     "text": [
      "2023-02-17 16:16:32.503 | INFO     | neomaril_codex.training:__upload_training:283 - {\"Message\":\"Training files have been uploaded. Execution id is '1'\"}\n",
      "2023-02-17 16:16:33.520 | INFO     | neomaril_codex.training:__execute_training:302 - Model training starting - Hash: Teb54da9c0ba455487728929e32b5fdd24ebd43fa1024a90aa98c5bf2a3d1bb3\n"
     ]
    },
    {
     "name": "stdout",
     "output_type": "stream",
     "text": [
      "Wating the training run........."
     ]
    }
   ],
   "source": [
    "# With the experiment class we can create multiple model runs\n",
    "PATH = './samples/train/'\n",
    "\n",
    "run = training.run_training('First test', # Run name\n",
    "                            PATH+'dados.csv', # Path to the file with training data\n",
    "                            source_file=PATH+'app.py', # Path of the source file\n",
    "                            requirements_file=PATH+'requirements.txt', # Path of the requirements file, \n",
    "#                           env=PATH+'.env'  #  File for env variables (this will be encrypted in the server)\n",
    "#                           extra_files=[PATH+'utils.py'], # List with extra files paths that should be uploaded along (they will be all in the same folder)\n",
    "                            training_reference='train_model',\n",
    "                            python_version='3.9', # Can be 3.7 to 3.10\n",
    "                            wait_complete=True\n",
    ")"
   ]
  },
  {
   "cell_type": "code",
   "execution_count": 6,
   "metadata": {},
   "outputs": [
    {
     "data": {
      "text/plain": [
       "{'ModelHash': 'Teb54da9c0ba455487728929e32b5fdd24ebd43fa1024a90aa98c5bf2a3d1bb3',\n",
       " 'ExperimentName': 'Teste notebook Training custom',\n",
       " 'GroupName': 'datarisk',\n",
       " 'ModelType': 'Classification',\n",
       " 'TrainingType': 'Custom',\n",
       " 'ExecutionId': 1,\n",
       " 'ExecutionState': 'Running',\n",
       " 'InputPayload': '{\\n    \"trainingReference\": \"train_model\",\\n    \"pythonVersion\": \"Python39\",\\n    \"executionType\": \"neomaril-custom-training\",\\n    \"experimentName\": \"Teste notebook Training custom\",\\n    \"runName\": \"First test\",\\n    \"basePath\": \"/app/store/datarisk/Teb54da9c0ba455487728929e32b5fdd24ebd43fa1024a90aa98c5bf2a3d1bb3/1\",\\n    \"neomarilExecutionId\": \"1\"\\n}',\n",
       " 'OutputPayload': '{}',\n",
       " 'RunAt': '2023-02-17T19:16:31.9621030Z',\n",
       " 'Status': 'Succeeded'}"
      ]
     },
     "execution_count": 6,
     "metadata": {},
     "output_type": "execute_result"
    }
   ],
   "source": [
    "run.execution_data"
   ]
  },
  {
   "cell_type": "code",
   "execution_count": 7,
   "metadata": {},
   "outputs": [
    {
     "data": {
      "text/plain": [
       "{'trainingExecutionId': '1',\n",
       " 'Status': 'Succeeded',\n",
       " 'Message': '{\\n    \"artifacts\": \"wasbs://mlflow-staging@datariskmlops.blob.core.windows.net/artifacts/1/1931b99907da4772b0a07f59ee3e727b/artifacts\",\\n    \"mlflow_run_id\": \"1931b99907da4772b0a07f59ee3e727b\"\\n}'}"
      ]
     },
     "execution_count": 7,
     "metadata": {},
     "output_type": "execute_result"
    }
   ],
   "source": [
    "run.get_status()"
   ]
  },
  {
   "cell_type": "code",
   "execution_count": 8,
   "metadata": {},
   "outputs": [
    {
     "name": "stderr",
     "output_type": "stream",
     "text": [
      "2023-02-17 16:20:46.431 | INFO     | neomaril_codex._base:download_result:257 - Output saved in ./output_1.zip\n",
      "2023-02-17 16:20:48.932 | INFO     | neomaril_codex.training:__upload_model:112 - Model 'Teste notebook promoted custom' promoted from Teb54da9c0ba455487728929e32b5fdd24ebd43fa1024a90aa98c5bf2a3d1bb3 - Hash: \"M85f50255c64401ea7aa39bb87fd284aba8acd91f9f54649932516706d54eb95\"\n",
      "2023-02-17 16:20:49.436 | INFO     | neomaril_codex.training:__host_model:134 - Model host in process - Hash: M85f50255c64401ea7aa39bb87fd284aba8acd91f9f54649932516706d54eb95\n",
      "2023-02-17 16:20:49.437 | INFO     | neomaril_codex.model:__init__:31 - Loading .env\n"
     ]
    }
   ],
   "source": [
    "# When the run is finished you can download the model file\n",
    "run.download_result()\n",
    "\n",
    "# or promote promete it to a deployed model\n",
    "\n",
    "PATH = './samples/syncModel/'\n",
    "\n",
    "model = run.promote_model('Teste notebook promoted custom', # model_name\n",
    "                            'score', # name of the scoring function\n",
    "                            PATH+'app.py', # Path of the source file\n",
    "                            PATH+'schema.json', # Path of the schema file, but it could be a dict\n",
    "#                           env=PATH+'.env'  #  File for env variables (this will be encrypted in the server)\n",
    "#                           extra_files=[PATH+'utils.py'], # List with extra files paths that should be uploaded along (they will be all in the same folder)\n",
    "                            operation=\"Sync\" # Can be Sync or Async\n",
    ")"
   ]
  },
  {
   "cell_type": "code",
   "execution_count": 9,
   "metadata": {},
   "outputs": [
    {
     "data": {
      "text/plain": [
       "NeomarilModel(name=\"Teste notebook promoted custom\", group=\"datarisk\", \n",
       "                                status=\"Building\",\n",
       "                                model_id=\"M85f50255c64401ea7aa39bb87fd284aba8acd91f9f54649932516706d54eb95\",\n",
       "                                operation=\"Sync\",\n",
       "                                schema={\n",
       "  \"mean_radius\": 17.99,\n",
       "  \"mean_texture\": 10.38,\n",
       "  \"mean_perimeter\": 122.8,\n",
       "  \"mean_area\": 1001.0,\n",
       "  \"mean_smoothness\": 0.1184,\n",
       "  \"mean_compactness\": 0.2776,\n",
       "  \"mean_concavity\": 0.3001,\n",
       "  \"mean_concave_points\": 0.1471,\n",
       "  \"mean_symmetry\": 0.2419,\n",
       "  \"mean_fractal_dimension\": 0.07871,\n",
       "  \"radius_error\": 1.095,\n",
       "  \"texture_error\": 0.9053,\n",
       "  \"perimeter_error\": 8.589,\n",
       "  \"area_error\": 153.4,\n",
       "  \"smoothness_error\": 0.006399,\n",
       "  \"compactness_error\": 0.04904,\n",
       "  \"concavity_error\": 0.05373,\n",
       "  \"concave_points_error\": 0.01587,\n",
       "  \"symmetry_error\": 0.03003,\n",
       "  \"fractal_dimension_error\": 0.006193,\n",
       "  \"worst_radius\": 25.38,\n",
       "  \"worst_texture\": 17.33,\n",
       "  \"worst_perimeter\": 184.6,\n",
       "  \"worst_area\": 2019.0,\n",
       "  \"worst_smoothness\": 0.1622,\n",
       "  \"worst_compactness\": 0.6656,\n",
       "  \"worst_concavity\": 0.7119,\n",
       "  \"worst_concave_points\": 0.2654,\n",
       "  \"worst_symmetry\": 0.4601,\n",
       "  \"worst_fractal_dimension\": 0.1189\n",
       "}\n",
       "                                )"
      ]
     },
     "execution_count": 9,
     "metadata": {},
     "output_type": "execute_result"
    }
   ],
   "source": [
    "model"
   ]
  },
  {
   "cell_type": "markdown",
   "metadata": {},
   "source": [
    "#### AutoML\n",
    "\n",
    "With AutoML you just need to upload the data and some configuration"
   ]
  },
  {
   "cell_type": "code",
   "execution_count": 10,
   "metadata": {},
   "outputs": [
    {
     "name": "stderr",
     "output_type": "stream",
     "text": [
      "2023-02-17 16:20:51.232 | INFO     | neomaril_codex.training:create_training_experiment:466 - New Training inserted with hash T3b4eba46d564cdc91d9390c62240484328cde0e6f134affbc80d21ca48e5a1b.\n",
      "2023-02-17 16:20:52.890 | INFO     | neomaril_codex.training:__upload_training:283 - {\"Message\":\"Training files have been uploaded. Execution id is '2'\"}\n",
      "2023-02-17 16:20:53.863 | INFO     | neomaril_codex.training:__execute_training:302 - Model training starting - Hash: T3b4eba46d564cdc91d9390c62240484328cde0e6f134affbc80d21ca48e5a1b\n"
     ]
    },
    {
     "name": "stdout",
     "output_type": "stream",
     "text": [
      "Wating the training run..........."
     ]
    },
    {
     "name": "stderr",
     "output_type": "stream",
     "text": [
      "2023-02-17 16:26:08.344 | ERROR    | neomaril_codex._base:get_status:221 - \"Given an invalid JSON: Additional text encountered after finished reading JSON content: [. Path '', line 1, position 183.\"\n"
     ]
    },
    {
     "ename": "ExecutionError",
     "evalue": "Execution \"2\" unavailable",
     "output_type": "error",
     "traceback": [
      "\u001b[0;31m---------------------------------------------------------------------------\u001b[0m",
      "\u001b[0;31mExecutionError\u001b[0m                            Traceback (most recent call last)",
      "Cell \u001b[0;32mIn[10], line 10\u001b[0m\n\u001b[1;32m      2\u001b[0m training \u001b[39m=\u001b[39m client\u001b[39m.\u001b[39mcreate_training_experiment(\u001b[39m'\u001b[39m\u001b[39mTeste notebook Training AutoML\u001b[39m\u001b[39m'\u001b[39m, \u001b[39m# Experiment name\u001b[39;00m\n\u001b[1;32m      3\u001b[0m                                             \u001b[39m'\u001b[39m\u001b[39mClassification\u001b[39m\u001b[39m'\u001b[39m, \u001b[39m# Model type. Can be Classification, Regression or Unsupervised\u001b[39;00m\n\u001b[1;32m      4\u001b[0m                                             \u001b[39m'\u001b[39m\u001b[39mAutoML\u001b[39m\u001b[39m'\u001b[39m, \u001b[39m# Training type. Can be Custom or AutoML\u001b[39;00m\n\u001b[1;32m      5\u001b[0m                                             group\u001b[39m=\u001b[39m\u001b[39m'\u001b[39m\u001b[39mdatarisk\u001b[39m\u001b[39m'\u001b[39m \u001b[39m# This is the default group. Create a new one when using for a new project\u001b[39;00m\n\u001b[1;32m      6\u001b[0m                                             )\n\u001b[1;32m      8\u001b[0m PATH \u001b[39m=\u001b[39m \u001b[39m'\u001b[39m\u001b[39m./samples/autoML/\u001b[39m\u001b[39m'\u001b[39m\n\u001b[0;32m---> 10\u001b[0m run \u001b[39m=\u001b[39m training\u001b[39m.\u001b[39;49mrun_training(\u001b[39m'\u001b[39;49m\u001b[39mFirst test\u001b[39;49m\u001b[39m'\u001b[39;49m, \u001b[39m# Run name\u001b[39;49;00m\n\u001b[1;32m     11\u001b[0m                             PATH\u001b[39m+\u001b[39;49m\u001b[39m'\u001b[39;49m\u001b[39mdados.csv\u001b[39;49m\u001b[39m'\u001b[39;49m, \u001b[39m# Path to the file with training data\u001b[39;49;00m\n\u001b[1;32m     12\u001b[0m                             conf_dict\u001b[39m=\u001b[39;49mPATH\u001b[39m+\u001b[39;49m\u001b[39m'\u001b[39;49m\u001b[39mconf.json\u001b[39;49m\u001b[39m'\u001b[39;49m, \u001b[39m# Path of the configuration file\u001b[39;49;00m\n\u001b[1;32m     13\u001b[0m                             wait_complete\u001b[39m=\u001b[39;49m\u001b[39mTrue\u001b[39;49;00m\n\u001b[1;32m     14\u001b[0m )\n",
      "File \u001b[0;32m~/.local/share/virtualenvs/neomaril-codex-WNTK3WJm/lib/python3.10/site-packages/neomaril_codex/training.py:356\u001b[0m, in \u001b[0;36mNeomarilTrainingExperiment.run_training\u001b[0;34m(self, run_name, train_data, training_reference, python_version, conf_dict, source_file, requirements_file, extra_files, wait_complete)\u001b[0m\n\u001b[1;32m    354\u001b[0m         sleep(\u001b[39m30\u001b[39m)\n\u001b[1;32m    355\u001b[0m         \u001b[39mprint\u001b[39m(\u001b[39m'\u001b[39m\u001b[39m.\u001b[39m\u001b[39m'\u001b[39m, end\u001b[39m=\u001b[39m\u001b[39m'\u001b[39m\u001b[39m'\u001b[39m, flush\u001b[39m=\u001b[39m\u001b[39mTrue\u001b[39;00m)\n\u001b[0;32m--> 356\u001b[0m         status \u001b[39m=\u001b[39m run\u001b[39m.\u001b[39;49mget_status()[\u001b[39m'\u001b[39m\u001b[39mStatus\u001b[39m\u001b[39m'\u001b[39m]\n\u001b[1;32m    357\u001b[0m \u001b[39mreturn\u001b[39;00m run\n",
      "File \u001b[0;32m~/.local/share/virtualenvs/neomaril-codex-WNTK3WJm/lib/python3.10/site-packages/neomaril_codex/_base.py:222\u001b[0m, in \u001b[0;36mNeomarilExecution.get_status\u001b[0;34m(self)\u001b[0m\n\u001b[1;32m    220\u001b[0m \u001b[39mif\u001b[39;00m response\u001b[39m.\u001b[39mstatus_code \u001b[39mnot\u001b[39;00m \u001b[39min\u001b[39;00m [\u001b[39m200\u001b[39m, \u001b[39m410\u001b[39m]:\n\u001b[1;32m    221\u001b[0m \t\tlogger\u001b[39m.\u001b[39merror(response\u001b[39m.\u001b[39mtext)\n\u001b[0;32m--> 222\u001b[0m \t\t\u001b[39mraise\u001b[39;00m ExecutionError(\u001b[39mf\u001b[39m\u001b[39m'\u001b[39m\u001b[39mExecution \u001b[39m\u001b[39m\"\u001b[39m\u001b[39m{\u001b[39;00m\u001b[39mself\u001b[39m\u001b[39m.\u001b[39mexec_id\u001b[39m}\u001b[39;00m\u001b[39m\"\u001b[39m\u001b[39m unavailable\u001b[39m\u001b[39m'\u001b[39m)\n\u001b[1;32m    224\u001b[0m result \u001b[39m=\u001b[39m response\u001b[39m.\u001b[39mjson()\n\u001b[1;32m    226\u001b[0m \u001b[39mself\u001b[39m\u001b[39m.\u001b[39mstatus \u001b[39m=\u001b[39m result[\u001b[39m'\u001b[39m\u001b[39mStatus\u001b[39m\u001b[39m'\u001b[39m]\n",
      "\u001b[0;31mExecutionError\u001b[0m: Execution \"2\" unavailable"
     ]
    }
   ],
   "source": [
    "# Creating a new training experiment\n",
    "training = client.create_training_experiment('Teste notebook Training AutoML', # Experiment name\n",
    "                                            'Classification', # Model type. Can be Classification, Regression or Unsupervised\n",
    "                                            'AutoML', # Training type. Can be Custom or AutoML\n",
    "                                            group='datarisk' # This is the default group. Create a new one when using for a new project\n",
    "                                            )\n",
    "\n",
    "PATH = './samples/autoML/'\n",
    "\n",
    "run = training.run_training('First test', # Run name\n",
    "                            PATH+'dados.csv', # Path to the file with training data\n",
    "                            conf_dict=PATH+'conf.json', # Path of the configuration file\n",
    "                            wait_complete=True\n",
    ")"
   ]
  },
  {
   "cell_type": "code",
   "execution_count": null,
   "metadata": {},
   "outputs": [
    {
     "data": {
      "text/plain": [
       "NeomarilTrainingExecution(exec_id=\"2\", status=\"Succeeded\")"
      ]
     },
     "execution_count": 11,
     "metadata": {},
     "output_type": "execute_result"
    }
   ],
   "source": [
    "run"
   ]
  },
  {
   "cell_type": "code",
   "execution_count": null,
   "metadata": {},
   "outputs": [
    {
     "data": {
      "text/plain": [
       "{'trainingExecutionId': '2',\n",
       " 'Status': 'Succeeded',\n",
       " 'Message': '{\\n    \"artifacts\": \"wasbs://mlflow-dev@datariskmlops.blob.core.windows.net/artifacts/2/f7ca166bbf8f48c19ec4c296d6f41b08/artifacts\",\\n    \"mlflow_run_id\": \"f7ca166bbf8f48c19ec4c296d6f41b08\"\\n}'}"
      ]
     },
     "execution_count": 12,
     "metadata": {},
     "output_type": "execute_result"
    }
   ],
   "source": [
    "run.get_status()"
   ]
  },
  {
   "cell_type": "code",
   "execution_count": null,
   "metadata": {},
   "outputs": [
    {
     "data": {
      "text/plain": [
       "NeomarilTrainingExecution(exec_id=\"2\", status=\"Succeeded\")"
      ]
     },
     "execution_count": 13,
     "metadata": {},
     "output_type": "execute_result"
    }
   ],
   "source": [
    "run"
   ]
  },
  {
   "cell_type": "code",
   "execution_count": null,
   "metadata": {},
   "outputs": [
    {
     "name": "stderr",
     "output_type": "stream",
     "text": [
      "2023-02-17 13:57:47.789 | INFO     | neomaril_codex.training:__upload_model:112 - Model 'Teste notebook promoted autoML' promoted from T1a6d75c54dd40188275edea951bb04508740293bd2f402da55f1e08af318a57 - Hash: \"Mf859a32ac3547a58c6f93f760904a95b5136add1846455ab5dba93009280ce1\"\n",
      "2023-02-17 13:57:47.819 | INFO     | neomaril_codex.training:__host_model:134 - Model host in process - Hash: Mf859a32ac3547a58c6f93f760904a95b5136add1846455ab5dba93009280ce1\n",
      "2023-02-17 13:57:47.821 | INFO     | neomaril_codex.model:__init__:31 - Loading .env\n"
     ]
    }
   ],
   "source": [
    "# Promote a AutoML model is a lot easier\n",
    "\n",
    "PATH = './samples/syncModel/'\n",
    "\n",
    "model = run.promote_model('Teste notebook promoted autoML', # model_name\n",
    "                            operation=\"Async\" # Can be Sync or Async\n",
    ")"
   ]
  },
  {
   "cell_type": "code",
   "execution_count": null,
   "metadata": {},
   "outputs": [
    {
     "data": {
      "text/plain": [
       "NeomarilModel(name=\"Teste notebook promoted autoML\", group=\"datarisk\", \n",
       "                                status=\"Building\",\n",
       "                                model_id=\"Mf859a32ac3547a58c6f93f760904a95b5136add1846455ab5dba93009280ce1\",\n",
       "                                operation=\"Async\",\n",
       "                                schema={}\n",
       "                                )"
      ]
     },
     "execution_count": 15,
     "metadata": {},
     "output_type": "execute_result"
    }
   ],
   "source": [
    "model"
   ]
  }
 ],
 "metadata": {
  "kernelspec": {
   "display_name": "neomaril-codex-WNTK3WJm",
   "language": "python",
   "name": "python3"
  },
  "language_info": {
   "codemirror_mode": {
    "name": "ipython",
    "version": 3
   },
   "file_extension": ".py",
   "mimetype": "text/x-python",
   "name": "python",
   "nbconvert_exporter": "python",
   "pygments_lexer": "ipython3",
   "version": "3.10.6"
  },
  "vscode": {
   "interpreter": {
    "hash": "d7308033b61508a213f02f142180c32f76fea0bd8e107ff2b0f7849d3585655c"
   }
  }
 },
 "nbformat": 4,
 "nbformat_minor": 2
}
