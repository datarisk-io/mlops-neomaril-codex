{
 "cells": [
  {
   "cell_type": "markdown",
   "metadata": {},
   "source": [
    "# Neomaril Training\n",
    "\n",
    "This notebook give a exemple on how to use Neomaril to training a ML model"
   ]
  },
  {
   "cell_type": "markdown",
   "metadata": {},
   "source": [
    "### NeomarilTrainingClient\n",
    "\n",
    "It's where you can manage your trainining experiments"
   ]
  },
  {
   "cell_type": "code",
   "execution_count": 1,
   "metadata": {},
   "outputs": [],
   "source": [
    "# Import the client\n",
    "from neomaril_codex.training import NeomarilTrainingClient"
   ]
  },
  {
   "cell_type": "code",
   "execution_count": 2,
   "metadata": {},
   "outputs": [
    {
     "name": "stderr",
     "output_type": "stream",
     "text": [
      "2023-10-26 09:12:51.870 | INFO     | neomaril_codex.training:__init__:690 - Loading .env\n",
      "2023-10-26 09:12:51.871 | INFO     | neomaril_codex.base:__init__:90 - Loading .env\n",
      "2023-10-26 09:12:53.856 | INFO     | neomaril_codex.base:__init__:102 - Successfully connected to Neomaril\n"
     ]
    },
    {
     "data": {
      "text/plain": [
       "NeomarilTrainingClient(url=\"https://neomaril.staging.datarisk.net/api\", version=\"1.0\")"
      ]
     },
     "execution_count": 2,
     "metadata": {},
     "output_type": "execute_result"
    }
   ],
   "source": [
    "# Start the client. We are reading the credentials in the NEOMARIL_TOKEN env variable\n",
    "\n",
    "client = NeomarilTrainingClient()\n",
    "client"
   ]
  },
  {
   "cell_type": "markdown",
   "metadata": {},
   "source": [
    "## NeomarilTrainingExperiment\n",
    "\n",
    "It's where you can create a training experiment to find the best model"
   ]
  },
  {
   "cell_type": "markdown",
   "metadata": {},
   "source": [
    "#### Custom training\n",
    "\n",
    "With Custom training you have to create the training function."
   ]
  },
  {
   "cell_type": "code",
   "execution_count": 3,
   "metadata": {},
   "outputs": [
    {
     "name": "stderr",
     "output_type": "stream",
     "text": [
      "2023-10-26 09:12:56.644 | INFO     | neomaril_codex.training:create_training_experiment:796 - New Training 'Teste notebook Training custom' inserted.\n",
      "2023-10-26 09:12:56.645 | INFO     | neomaril_codex.training:__init__:359 - Loading .env\n"
     ]
    }
   ],
   "source": [
    "# Creating a new training experiment\n",
    "training = client.create_training_experiment('Teste notebook Training custom', # Experiment name, this is how you find your model in MLFLow\n",
    "                                            'Classification', # Model type. Can be Classification, Regression or Unsupervised\n",
    "                                            'Custom', # Training type. Can be Custom or AutoML\n",
    "                                            group='datarisk' # This is the default group. Create a new one when using for a new project\n",
    "                                            )"
   ]
  },
  {
   "cell_type": "code",
   "execution_count": 4,
   "metadata": {},
   "outputs": [
    {
     "data": {
      "text/plain": [
       "NeomarilTrainingExperiment(name=\"Teste notebook Training custom\", \n",
       "                                                        group=\"datarisk\", \n",
       "                                                        training_id=\"T12c2f68c80540aaa05541b4e1be282916c1089c1d5d416e978b81830ed3410f\",\n",
       "                                                        training_type=\"Custom\",\n",
       "                                                        model_type=Classification\n",
       "                                                        )"
      ]
     },
     "execution_count": 4,
     "metadata": {},
     "output_type": "execute_result"
    }
   ],
   "source": [
    "training"
   ]
  },
  {
   "cell_type": "code",
   "execution_count": 5,
   "metadata": {},
   "outputs": [
    {
     "name": "stderr",
     "output_type": "stream",
     "text": [
      "2023-10-26 09:13:02.375 | INFO     | neomaril_codex.training:__upload_training:481 - {\"ExecutionId\":1,\"Message\":\"Training files have been uploaded. Use the execution id \\u00271\\u0027 to execute the train experiment run.\"}\n",
      "2023-10-26 09:13:04.117 | INFO     | neomaril_codex.training:__execute_training:505 - Model training starting - Hash: T12c2f68c80540aaa05541b4e1be282916c1089c1d5d416e978b81830ed3410f\n",
      "2023-10-26 09:13:05.264 | INFO     | neomaril_codex.base:__init__:279 - Loading .env\n",
      "2023-10-26 09:13:08.420 | INFO     | neomaril_codex.training:__init__:72 - Loading .env\n"
     ]
    },
    {
     "name": "stdout",
     "output_type": "stream",
     "text": [
      "Wating the training run.........."
     ]
    }
   ],
   "source": [
    "# With the experiment class we can create multiple model runs\n",
    "PATH = './samples/train/'\n",
    "\n",
    "run = training.run_training('First test', # Run name\n",
    "                            PATH+'dados.csv', # Path to the file with training data\n",
    "                            source_file=PATH+'app.py', # Path of the source file\n",
    "                            requirements_file=PATH+'requirements.txt', # Path of the requirements file, \n",
    "#                           env=PATH+'.env'  #  File for env variables (this will be encrypted in the server)\n",
    "#                           extra_files=[PATH+'utils.py'], # List with extra files paths that should be uploaded along (they will be all in the same folder)\n",
    "                            training_reference='train_model', # The name of the entrypoint function that is going to be called inside the source file \n",
    "                            python_version='3.9', # Can be 3.7 to 3.10\n",
    "                            wait_complete=True\n",
    ")"
   ]
  },
  {
   "cell_type": "code",
   "execution_count": 6,
   "metadata": {},
   "outputs": [
    {
     "data": {
      "text/plain": [
       "{'ExecutionId': '1',\n",
       " 'Status': 'Succeeded',\n",
       " 'Message': 'wasbs://mlflow-staging@datariskmlops.blob.core.windows.net/artifacts/5/681f9d128726486196df7ef662a51179/artifacts'}"
      ]
     },
     "execution_count": 6,
     "metadata": {},
     "output_type": "execute_result"
    }
   ],
   "source": [
    "run.get_status()"
   ]
  },
  {
   "cell_type": "code",
   "execution_count": 7,
   "metadata": {},
   "outputs": [
    {
     "data": {
      "text/plain": [
       "{'TrainingHash': 'T9b0c79d4e5440b8b0e8f3595ed4a34ef9dce58da76f452db3fd748f66e568e6',\n",
       " 'ExperimentName': 'Teste notebook Training custom',\n",
       " 'GroupName': 'datarisk',\n",
       " 'ModelType': 'Classification',\n",
       " 'TrainingType': 'Custom',\n",
       " 'ExecutionId': 2,\n",
       " 'RunName': 'First test',\n",
       " 'ExecutionState': 'Succeeded',\n",
       " 'TimeElapsed': 227514,\n",
       " 'RunData': {'metrics': [{'key': 'f1_score-5_X_test-10',\n",
       "    'value': 0.985915492957746,\n",
       "    'timestamp': 1698247311771,\n",
       "    'step': 0},\n",
       "   {'key': 'auc',\n",
       "    'value': 0.992620971305871,\n",
       "    'timestamp': 1698247312505,\n",
       "    'step': 0},\n",
       "   {'key': 'f1_score',\n",
       "    'value': 0.976180961216634,\n",
       "    'timestamp': 1698247312505,\n",
       "    'step': 0},\n",
       "   {'key': 'training_precision_score',\n",
       "    'value': 1.0,\n",
       "    'timestamp': 1698247311953,\n",
       "    'step': 0},\n",
       "   {'key': 'training_recall_score',\n",
       "    'value': 1.0,\n",
       "    'timestamp': 1698247311953,\n",
       "    'step': 0},\n",
       "   {'key': 'training_f1_score',\n",
       "    'value': 1.0,\n",
       "    'timestamp': 1698247311953,\n",
       "    'step': 0},\n",
       "   {'key': 'training_accuracy_score',\n",
       "    'value': 1.0,\n",
       "    'timestamp': 1698247311953,\n",
       "    'step': 0},\n",
       "   {'key': 'training_log_loss',\n",
       "    'value': 0.000471782988060167,\n",
       "    'timestamp': 1698247311953,\n",
       "    'step': 0},\n",
       "   {'key': 'training_roc_auc',\n",
       "    'value': 1.0,\n",
       "    'timestamp': 1698247311953,\n",
       "    'step': 0},\n",
       "   {'key': 'training_score',\n",
       "    'value': 1.0,\n",
       "    'timestamp': 1698247312102,\n",
       "    'step': 0},\n",
       "   {'key': 'f1_score-3_X_test-8',\n",
       "    'value': 0.986301369863014,\n",
       "    'timestamp': 1698247311069,\n",
       "    'step': 0},\n",
       "   {'key': 'f1_score-4_X_test-9',\n",
       "    'value': 0.986111111111111,\n",
       "    'timestamp': 1698247311413,\n",
       "    'step': 0},\n",
       "   {'key': 'f1_score_X_test-6',\n",
       "    'value': 0.950354609929078,\n",
       "    'timestamp': 1698247310346,\n",
       "    'step': 0},\n",
       "   {'key': 'f1_score-2_X_test-7',\n",
       "    'value': 0.972222222222222,\n",
       "    'timestamp': 1698247310710,\n",
       "    'step': 0}],\n",
       "  'params': [{'key': 'shape', 'value': '(569, 30)'},\n",
       "   {'key': 'cols_with_missing', 'value': '0'},\n",
       "   {'key': 'memory', 'value': 'None'},\n",
       "   {'key': 'steps',\n",
       "    'value': \"[('simpleimputer', SimpleImputer()), ('lgbmclassifier', LGBMClassifier())]\"},\n",
       "   {'key': 'verbose', 'value': 'False'},\n",
       "   {'key': 'simpleimputer', 'value': 'SimpleImputer()'},\n",
       "   {'key': 'lgbmclassifier', 'value': 'LGBMClassifier()'},\n",
       "   {'key': 'simpleimputer__add_indicator', 'value': 'False'},\n",
       "   {'key': 'simpleimputer__copy', 'value': 'True'},\n",
       "   {'key': 'simpleimputer__fill_value', 'value': 'None'},\n",
       "   {'key': 'simpleimputer__missing_values', 'value': 'nan'},\n",
       "   {'key': 'simpleimputer__strategy', 'value': 'mean'},\n",
       "   {'key': 'simpleimputer__verbose', 'value': '0'},\n",
       "   {'key': 'lgbmclassifier__boosting_type', 'value': 'gbdt'},\n",
       "   {'key': 'lgbmclassifier__class_weight', 'value': 'None'},\n",
       "   {'key': 'lgbmclassifier__colsample_bytree', 'value': '1.0'},\n",
       "   {'key': 'lgbmclassifier__importance_type', 'value': 'split'},\n",
       "   {'key': 'lgbmclassifier__learning_rate', 'value': '0.1'},\n",
       "   {'key': 'lgbmclassifier__max_depth', 'value': '-1'},\n",
       "   {'key': 'lgbmclassifier__min_child_samples', 'value': '20'},\n",
       "   {'key': 'lgbmclassifier__min_child_weight', 'value': '0.001'},\n",
       "   {'key': 'lgbmclassifier__min_split_gain', 'value': '0.0'},\n",
       "   {'key': 'lgbmclassifier__n_estimators', 'value': '100'},\n",
       "   {'key': 'lgbmclassifier__n_jobs', 'value': '-1'},\n",
       "   {'key': 'lgbmclassifier__num_leaves', 'value': '31'},\n",
       "   {'key': 'lgbmclassifier__objective', 'value': 'None'},\n",
       "   {'key': 'lgbmclassifier__random_state', 'value': 'None'},\n",
       "   {'key': 'lgbmclassifier__reg_alpha', 'value': '0.0'},\n",
       "   {'key': 'lgbmclassifier__reg_lambda', 'value': '0.0'},\n",
       "   {'key': 'lgbmclassifier__silent', 'value': 'warn'},\n",
       "   {'key': 'lgbmclassifier__subsample', 'value': '1.0'},\n",
       "   {'key': 'lgbmclassifier__subsample_for_bin', 'value': '200000'},\n",
       "   {'key': 'lgbmclassifier__subsample_freq', 'value': '0'},\n",
       "   {'key': 'missing_distribution',\n",
       "    'value': \"{'mean_missings': nan, 'std_missings': nan, 'min_missings': nan, '25%_missings': nan, '50%_missings': nan, '75%_missings': nan, 'max_missings': nan}\"},\n",
       "   {'key': 'neomaril_exectuion_id', 'value': '2'},\n",
       "   {'key': 'target_proportion',\n",
       "    'value': '{(1,): 0.6274165202108963, (0,): 0.37258347978910367}'}],\n",
       "  'mlflow_run_id': '28cd707d90574b20809ee97be619d0ed',\n",
       "  'mlflow_experiment_id': '5'},\n",
       " 'RunAt': '2023-10-25T15:18:07.405349Z'}"
      ]
     },
     "execution_count": 7,
     "metadata": {},
     "output_type": "execute_result"
    }
   ],
   "source": [
    "run.execution_data"
   ]
  },
  {
   "cell_type": "code",
   "execution_count": 8,
   "metadata": {},
   "outputs": [
    {
     "name": "stderr",
     "output_type": "stream",
     "text": [
      "2023-10-25 12:22:12.051 | INFO     | neomaril_codex.base:download_result:413 - Output saved in ./output.zip\n",
      "2023-10-25 12:22:13.362 | INFO     | neomaril_codex.training:__upload_model:177 - Model 'Teste notebook promoted custom' promoted from T9b0c79d4e5440b8b0e8f3595ed4a34ef9dce58da76f452db3fd748f66e568e6 - Hash: \"M9174acaa0e54298877a00f6cc765bd17fe29ecb20694c859c4ed88acac9afba\"\n",
      "2023-10-25 12:22:15.299 | INFO     | neomaril_codex.training:__host_model:242 - Model host in process - Hash: M9174acaa0e54298877a00f6cc765bd17fe29ecb20694c859c4ed88acac9afba\n",
      "2023-10-25 12:22:15.321 | INFO     | neomaril_codex.model:__init__:69 - Loading .env\n"
     ]
    }
   ],
   "source": [
    "# When the run is finished you can download the model file\n",
    "run.download_result()\n",
    "\n",
    "# or promote promete it to a deployed model\n",
    "\n",
    "PATH = './samples/syncModel/'\n",
    "\n",
    "model = run.promote_model('Teste notebook promoted custom', # model_name\n",
    "                            'score', # name of the scoring function\n",
    "                            PATH+'app.py', # Path of the source file\n",
    "                            PATH+'schema.json', # Path of the schema file, but it could be a dict\n",
    "#                           env=PATH+'.env'  #  File for env variables (this will be encrypted in the server)\n",
    "#                           extra_files=[PATH+'utils.py'], # List with extra files paths that should be uploaded along (they will be all in the same folder)\n",
    "                            operation=\"Sync\" # Can be Sync or Async\n",
    ")"
   ]
  },
  {
   "cell_type": "code",
   "execution_count": 9,
   "metadata": {},
   "outputs": [
    {
     "data": {
      "text/plain": [
       "NeomarilModel(name=\"Teste notebook promoted custom\", group=\"datarisk\", \n",
       "                                status=\"Building\",\n",
       "                                model_id=\"M9174acaa0e54298877a00f6cc765bd17fe29ecb20694c859c4ed88acac9afba\",\n",
       "                                operation=\"Sync\",\n",
       "                                schema={'mean_radius': 17.99, 'mean_texture': 10.38, 'mean_perimeter': 122.8, 'mean_area': 1001.0, 'mean_smoothness': 0.1184, 'mean_compactness': 0.2776, 'mean_concavity': 0.3001, 'mean_concave_points': 0.1471, 'mean_symmetry': 0.2419, 'mean_fractal_dimension': 0.07871, 'radius_error': 1.095, 'texture_error': 0.9053, 'perimeter_error': 8.589, 'area_error': 153.4, 'smoothness_error': 0.006399, 'compactness_error': 0.04904, 'concavity_error': 0.05373, 'concave_points_error': 0.01587, 'symmetry_error': 0.03003, 'fractal_dimension_error': 0.006193, 'worst_radius': 25.38, 'worst_texture': 17.33, 'worst_perimeter': 184.6, 'worst_area': 2019.0, 'worst_smoothness': 0.1622, 'worst_compactness': 0.6656, 'worst_concavity': 0.7119, 'worst_concave_points': 0.2654, 'worst_symmetry': 0.4601, 'worst_fractal_dimension': 0.1189}\n",
       "                                )"
      ]
     },
     "execution_count": 9,
     "metadata": {},
     "output_type": "execute_result"
    }
   ],
   "source": [
    "model"
   ]
  },
  {
   "cell_type": "markdown",
   "metadata": {},
   "source": [
    "#### AutoML\n",
    "\n",
    "With AutoML you just need to upload the data and some configuration"
   ]
  },
  {
   "cell_type": "code",
   "execution_count": 10,
   "metadata": {},
   "outputs": [
    {
     "name": "stderr",
     "output_type": "stream",
     "text": [
      "2023-10-25 12:22:22.591 | INFO     | neomaril_codex.training:create_training_experiment:796 - New Training 'Teste notebook Training AutoML' inserted.\n",
      "2023-10-25 12:22:22.592 | INFO     | neomaril_codex.training:__init__:359 - Loading .env\n",
      "2023-10-25 12:22:30.463 | INFO     | neomaril_codex.training:__upload_training:481 - {\"ExecutionId\":3,\"Message\":\"Training files have been uploaded. Use the execution id \\u00273\\u0027 to execute the train experiment run.\"}\n",
      "2023-10-25 12:22:33.433 | INFO     | neomaril_codex.training:__execute_training:505 - Model training starting - Hash: T33e9bc4fac6431e836bf637b012a0d41c5ffa6d873c401d917a51d2cb8cbcb8\n",
      "2023-10-25 12:22:34.533 | INFO     | neomaril_codex.base:__init__:279 - Loading .env\n",
      "2023-10-25 12:22:37.419 | INFO     | neomaril_codex.training:__init__:72 - Loading .env\n"
     ]
    },
    {
     "name": "stdout",
     "output_type": "stream",
     "text": [
      "Wating the training run..................."
     ]
    }
   ],
   "source": [
    "# Creating a new training experiment\n",
    "training = client.create_training_experiment('Teste notebook Training AutoML', # Experiment name\n",
    "                                            'Classification', # Model type. Can be Classification, Regression or Unsupervised\n",
    "                                            'AutoML', # Training type. Can be Custom or AutoML\n",
    "                                            group='datarisk' # This is the default group. Create a new one when using for a new project\n",
    "                                            )\n",
    "\n",
    "PATH = './samples/autoML/'\n",
    "\n",
    "run = training.run_training('First test', # Run name\n",
    "                            PATH+'dados.csv', # Path to the file with training data\n",
    "                            conf_dict=PATH+'conf.json', # Path of the configuration file\n",
    "                            wait_complete=True\n",
    ")"
   ]
  },
  {
   "cell_type": "code",
   "execution_count": 11,
   "metadata": {},
   "outputs": [
    {
     "data": {
      "text/plain": [
       "NeomarilTrainingExecution(name=\"Teste notebook Training AutoML\",\n",
       "                                        exec_id=\"3\", status=\"Succeeded\")"
      ]
     },
     "execution_count": 11,
     "metadata": {},
     "output_type": "execute_result"
    }
   ],
   "source": [
    "run"
   ]
  },
  {
   "cell_type": "code",
   "execution_count": 12,
   "metadata": {},
   "outputs": [
    {
     "data": {
      "text/plain": [
       "{'ExecutionId': '3',\n",
       " 'Status': 'Succeeded',\n",
       " 'Message': 'wasbs://mlflow-staging@datariskmlops.blob.core.windows.net/artifacts/6/8ee81051ee3d4015b9677021deb5474b/artifacts'}"
      ]
     },
     "execution_count": 12,
     "metadata": {},
     "output_type": "execute_result"
    }
   ],
   "source": [
    "run.get_status()"
   ]
  },
  {
   "cell_type": "code",
   "execution_count": 13,
   "metadata": {},
   "outputs": [
    {
     "data": {
      "text/plain": [
       "NeomarilTrainingExecution(name=\"Teste notebook Training AutoML\",\n",
       "                                        exec_id=\"3\", status=\"Succeeded\")"
      ]
     },
     "execution_count": 13,
     "metadata": {},
     "output_type": "execute_result"
    }
   ],
   "source": [
    "run"
   ]
  },
  {
   "cell_type": "code",
   "execution_count": 14,
   "metadata": {},
   "outputs": [
    {
     "name": "stderr",
     "output_type": "stream",
     "text": [
      "2023-10-25 12:33:05.903 | INFO     | neomaril_codex.training:__upload_model:177 - Model 'Teste notebook promoted autoML' promoted from T33e9bc4fac6431e836bf637b012a0d41c5ffa6d873c401d917a51d2cb8cbcb8 - Hash: \"M955d9193a0a48a3817c0c512ac91de7d0716214a8334059bf11fe8aa4d80a2f\"\n",
      "2023-10-25 12:33:08.786 | INFO     | neomaril_codex.training:__host_model:242 - Model host in process - Hash: M955d9193a0a48a3817c0c512ac91de7d0716214a8334059bf11fe8aa4d80a2f\n",
      "2023-10-25 12:33:08.788 | INFO     | neomaril_codex.model:__init__:69 - Loading .env\n"
     ]
    }
   ],
   "source": [
    "# Promote a AutoML model is a lot easier\n",
    "\n",
    "PATH = './samples/syncModel/'\n",
    "\n",
    "model = run.promote_model('Teste notebook promoted autoML', # model_name\n",
    "                            operation=\"Async\" # Can be Sync or Async\n",
    ")"
   ]
  },
  {
   "cell_type": "code",
   "execution_count": 15,
   "metadata": {},
   "outputs": [
    {
     "data": {
      "text/plain": [
       "NeomarilModel(name=\"Teste notebook promoted autoML\", group=\"datarisk\", \n",
       "                                status=\"Building\",\n",
       "                                model_id=\"M955d9193a0a48a3817c0c512ac91de7d0716214a8334059bf11fe8aa4d80a2f\",\n",
       "                                operation=\"Async\",\n",
       "                                schema={}\n",
       "                                )"
      ]
     },
     "execution_count": 15,
     "metadata": {},
     "output_type": "execute_result"
    }
   ],
   "source": [
    "model"
   ]
  }
 ],
 "metadata": {
  "kernelspec": {
   "display_name": "neomaril-codex-WNTK3WJm",
   "language": "python",
   "name": "python3"
  },
  "language_info": {
   "codemirror_mode": {
    "name": "ipython",
    "version": 3
   },
   "file_extension": ".py",
   "mimetype": "text/x-python",
   "name": "python",
   "nbconvert_exporter": "python",
   "pygments_lexer": "ipython3",
   "version": "3.10.12"
  },
  "vscode": {
   "interpreter": {
    "hash": "d7308033b61508a213f02f142180c32f76fea0bd8e107ff2b0f7849d3585655c"
   }
  }
 },
 "nbformat": 4,
 "nbformat_minor": 2
}
