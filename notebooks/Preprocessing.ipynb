{
 "cells": [
  {
   "attachments": {},
   "cell_type": "markdown",
   "metadata": {},
   "source": [
    "# NeomarilPreprocessing\n",
    "\n",
    "This notebook give a exemple on how to use Neomaril to deploy a preprocessing"
   ]
  },
  {
   "attachments": {},
   "cell_type": "markdown",
   "metadata": {},
   "source": [
    "## Imports"
   ]
  },
  {
   "cell_type": "code",
   "execution_count": 1,
   "metadata": {},
   "outputs": [],
   "source": [
    "from neomaril_codex.preprocessing import NeomarilPreprocessingClient\n",
    "from neomaril_codex.model import NeomarilModelClient"
   ]
  },
  {
   "attachments": {},
   "cell_type": "markdown",
   "metadata": {},
   "source": [
    "## NeomarilPreprocessingClient"
   ]
  },
  {
   "cell_type": "code",
   "execution_count": 2,
   "metadata": {},
   "outputs": [
    {
     "name": "stderr",
     "output_type": "stream",
     "text": [
      "2023-10-26 09:56:51.084 | INFO     | neomaril_codex.preprocessing:__init__:266 - Loading .env\n",
      "2023-10-26 09:56:51.085 | INFO     | neomaril_codex.base:__init__:90 - Loading .env\n",
      "2023-10-26 09:56:53.427 | INFO     | neomaril_codex.base:__init__:102 - Successfully connected to Neomaril\n"
     ]
    }
   ],
   "source": [
    "client = NeomarilPreprocessingClient()"
   ]
  },
  {
   "attachments": {},
   "cell_type": "markdown",
   "metadata": {},
   "source": [
    "## Creating sync pre processing"
   ]
  },
  {
   "cell_type": "code",
   "execution_count": 3,
   "metadata": {},
   "outputs": [],
   "source": [
    "PATH = './samples/syncPreprocessing/'"
   ]
  },
  {
   "cell_type": "code",
   "execution_count": 4,
   "metadata": {},
   "outputs": [
    {
     "name": "stderr",
     "output_type": "stream",
     "text": [
      "2023-10-26 09:56:56.169 | INFO     | neomaril_codex.preprocessing:__upload_preprocessing:544 - Script was registered! - Hash: \"S72110d87c2a4341a7ef0a0cb35e483699db1df6c5d2450f92573c093c65b062\"\n",
      "2023-10-26 09:56:57.965 | INFO     | neomaril_codex.preprocessing:__host_preprocessing:575 - Preprocessing host in process - Hash: S72110d87c2a4341a7ef0a0cb35e483699db1df6c5d2450f92573c093c65b062\n"
     ]
    },
    {
     "name": "stdout",
     "output_type": "stream",
     "text": [
      "Wating for deploy to be ready.........."
     ]
    },
    {
     "name": "stderr",
     "output_type": "stream",
     "text": [
      "2023-10-26 09:58:42.707 | INFO     | neomaril_codex.preprocessing:get_preprocessing:358 - Preprocessing S72110d87c2a4341a7ef0a0cb35e483699db1df6c5d2450f92573c093c65b062 its deployed. Fetching preprocessing.\n",
      "2023-10-26 09:58:42.709 | INFO     | neomaril_codex.preprocessing:__init__:19 - Loading .env\n"
     ]
    }
   ],
   "source": [
    "sync_preprocessing = client.create(preprocessing_name='Teste preprocessing Sync', # model_name\n",
    "                            preprocessing_reference='process', # name of the scoring function\n",
    "                            source_file=PATH+'app.py', # Path of the source file\n",
    "                            requirements_file=PATH+'requirements.txt', # Path of the requirements file, \n",
    "                            schema=PATH+'schema.json', # Path of the schema file, but it could be a dict (only required for Sync models)\n",
    "#                           env=PATH+'.env'  #  File for env variables (this will be encrypted in the server)\n",
    "#                           extra_files=[PATH+'utils.py'], # List with extra files paths that should be uploaded along (they will be all in the same folder)\n",
    "                            python_version='3.9', # Can be 3.7 to 3.10\n",
    "                            operation=\"Sync\", # Can be Sync or Async\n",
    "                            group='datarisk' # Model group (create one using the client)\n",
    "                            )"
   ]
  },
  {
   "cell_type": "code",
   "execution_count": 5,
   "metadata": {},
   "outputs": [
    {
     "name": "stderr",
     "output_type": "stream",
     "text": [
      "2023-10-26 09:58:48.740 | INFO     | neomaril_codex.preprocessing:set_token:123 - Token for group datarisk added.\n"
     ]
    }
   ],
   "source": [
    "sync_preprocessing.set_token(group_token'TOKEN')"
   ]
  },
  {
   "cell_type": "code",
   "execution_count": 6,
   "metadata": {},
   "outputs": [
    {
     "data": {
      "text/plain": [
       "{'mean_radius': 0,\n",
       " 'mean_texture': 0,\n",
       " 'mean_perimeter': 0,\n",
       " 'mean_area': 0,\n",
       " 'mean_smoothness': 0,\n",
       " 'mean_compactness': 0,\n",
       " 'mean_concavity': 0,\n",
       " 'mean_concave_points': 0,\n",
       " 'mean_symmetry': 0,\n",
       " 'mean_fractal_dimension': 0,\n",
       " 'radius_error': 0,\n",
       " 'texture_error': 0,\n",
       " 'perimeter_error': 0,\n",
       " 'area_error': 0,\n",
       " 'smoothness_error': 0,\n",
       " 'compactness_error': 0,\n",
       " 'concavity_error': 0,\n",
       " 'concave_points_error': 0,\n",
       " 'symmetry_error': 0,\n",
       " 'fractal_dimension_error': 0,\n",
       " 'worst_radius': 0,\n",
       " 'worst_texture': 0,\n",
       " 'worst_perimeter': 0,\n",
       " 'worst_area': 0,\n",
       " 'worst_smoothness': 0,\n",
       " 'worst_compactness': 0,\n",
       " 'worst_concavity': 0,\n",
       " 'worst_concave_points': 0,\n",
       " 'worst_symmetry': 0,\n",
       " 'worst_fractal_dimension': 0}"
      ]
     },
     "execution_count": 6,
     "metadata": {},
     "output_type": "execute_result"
    }
   ],
   "source": [
    "result = sync_preprocessing.run(data={'variable' : 100})\n",
    "result"
   ]
  },
  {
   "attachments": {},
   "cell_type": "markdown",
   "metadata": {},
   "source": [
    "## Creating async pre processing"
   ]
  },
  {
   "cell_type": "code",
   "execution_count": 7,
   "metadata": {},
   "outputs": [
    {
     "name": "stderr",
     "output_type": "stream",
     "text": [
      "2023-10-26 09:58:53.167 | INFO     | neomaril_codex.preprocessing:__upload_preprocessing:544 - Script was registered! - Hash: \"S84d271186a4437b9ab390ae32167a67f232cdd5c67b4b0ba207de1f9e198681\"\n",
      "2023-10-26 09:58:54.476 | INFO     | neomaril_codex.preprocessing:__host_preprocessing:575 - Preprocessing host in process - Hash: S84d271186a4437b9ab390ae32167a67f232cdd5c67b4b0ba207de1f9e198681\n"
     ]
    },
    {
     "name": "stdout",
     "output_type": "stream",
     "text": [
      "Wating for deploy to be ready......................."
     ]
    },
    {
     "name": "stderr",
     "output_type": "stream",
     "text": [
      "2023-10-26 10:03:07.687 | INFO     | neomaril_codex.preprocessing:get_preprocessing:358 - Preprocessing S84d271186a4437b9ab390ae32167a67f232cdd5c67b4b0ba207de1f9e198681 its deployed. Fetching preprocessing.\n",
      "2023-10-26 10:03:07.689 | INFO     | neomaril_codex.preprocessing:__init__:19 - Loading .env\n"
     ]
    }
   ],
   "source": [
    "PATH = './samples/asyncPreprocessing/'\n",
    "\n",
    "async_preprocessing = client.create(preprocessing_name='Teste preprocessing Async', # model_name\n",
    "                            preprocessing_reference='process', # name of the scoring function\n",
    "                            source_file=PATH+'app.py', # Path of the source file\n",
    "                            requirements_file=PATH+'requirements.txt', # Path of the requirements file, \n",
    "                            # env=PATH+'.env',  #  File for env variables (this will be encrypted in the server)\n",
    "                            # extra_files=[PATH+'input.csv'], # List with extra files paths that should be uploaded along (they will be all in the same folder)\n",
    "                            python_version='3.9', # Can be 3.7 to 3.10\n",
    "                            operation=\"Async\", # Can be Sync or Async\n",
    "                            group='datarisk', # Model group (create one using the client)\n",
    "                            input_type='csv'\n",
    "                            )"
   ]
  },
  {
   "cell_type": "code",
   "execution_count": 8,
   "metadata": {},
   "outputs": [
    {
     "name": "stderr",
     "output_type": "stream",
     "text": [
      "2023-10-26 10:03:13.529 | INFO     | neomaril_codex.preprocessing:set_token:123 - Token for group datarisk added.\n"
     ]
    }
   ],
   "source": [
    "async_preprocessing.set_token(group_token='TOKEN')"
   ]
  },
  {
   "cell_type": "code",
   "execution_count": 9,
   "metadata": {},
   "outputs": [
    {
     "name": "stderr",
     "output_type": "stream",
     "text": [
      "2023-10-26 10:03:16.413 | INFO     | neomaril_codex.preprocessing:run:177 - Execution '2' started to generate 'D73a85fd37d944f691311b2dc484200fc6d6bef817214e44af069a8aace44260'. Use the id to check its status.\n",
      "2023-10-26 10:03:16.415 | INFO     | neomaril_codex.base:__init__:279 - Loading .env\n"
     ]
    }
   ],
   "source": [
    "execution = async_preprocessing.run(PATH+'input.csv')"
   ]
  },
  {
   "cell_type": "code",
   "execution_count": 10,
   "metadata": {},
   "outputs": [
    {
     "data": {
      "text/plain": [
       "{'ExecutionId': '2', 'Status': 'Running', 'Message': None}"
      ]
     },
     "execution_count": 10,
     "metadata": {},
     "output_type": "execute_result"
    }
   ],
   "source": [
    "execution.get_status()"
   ]
  },
  {
   "cell_type": "code",
   "execution_count": 11,
   "metadata": {},
   "outputs": [
    {
     "name": "stderr",
     "output_type": "stream",
     "text": [
      "2023-10-26 10:04:26.252 | INFO     | neomaril_codex.base:download_result:413 - Output saved in ./output.zip\n"
     ]
    }
   ],
   "source": [
    "execution.wait_ready()\n",
    "execution.download_result()"
   ]
  },
  {
   "attachments": {},
   "cell_type": "markdown",
   "metadata": {},
   "source": [
    "## Access created pre processing"
   ]
  },
  {
   "cell_type": "code",
   "execution_count": 12,
   "metadata": {},
   "outputs": [
    {
     "data": {
      "text/plain": [
       "[{'Hash': 'S72110d87c2a4341a7ef0a0cb35e483699db1df6c5d2450f92573c093c65b062',\n",
       "  'Operation': 'Sync',\n",
       "  'PythonVersion': 'Python39',\n",
       "  'Status': 'Deployed',\n",
       "  'Group': 'datarisk',\n",
       "  'UploadedAt': '2023-10-26T12:56:56.091956Z'},\n",
       " {'Hash': 'S84d271186a4437b9ab390ae32167a67f232cdd5c67b4b0ba207de1f9e198681',\n",
       "  'Operation': 'Async',\n",
       "  'PythonVersion': 'Python39',\n",
       "  'Status': 'Deployed',\n",
       "  'Group': 'datarisk',\n",
       "  'UploadedAt': '2023-10-26T12:56:56.091956Z'}]"
      ]
     },
     "execution_count": 12,
     "metadata": {},
     "output_type": "execute_result"
    }
   ],
   "source": [
    "client.search_preprocessing()"
   ]
  },
  {
   "cell_type": "code",
   "execution_count": 14,
   "metadata": {},
   "outputs": [
    {
     "name": "stderr",
     "output_type": "stream",
     "text": [
      "2023-10-26 10:26:35.708 | INFO     | neomaril_codex.preprocessing:get_preprocessing:358 - Preprocessing S72110d87c2a4341a7ef0a0cb35e483699db1df6c5d2450f92573c093c65b062 its deployed. Fetching preprocessing.\n",
      "2023-10-26 10:26:35.709 | INFO     | neomaril_codex.preprocessing:__init__:19 - Loading .env\n"
     ]
    }
   ],
   "source": [
    "preprocessing = client.get_preprocessing(preprocessing_id='S72110d87c2a4341a7ef0a0cb35e483699db1df6c5d2450f92573c093c65b062', group='datarisk')"
   ]
  },
  {
   "attachments": {},
   "cell_type": "markdown",
   "metadata": {},
   "source": [
    "## Access created executions"
   ]
  },
  {
   "cell_type": "code",
   "execution_count": 15,
   "metadata": {},
   "outputs": [
    {
     "name": "stderr",
     "output_type": "stream",
     "text": [
      "2023-10-26 10:26:40.406 | INFO     | neomaril_codex.base:__init__:279 - Loading .env\n"
     ]
    }
   ],
   "source": [
    "old_execution = async_preprocessing.get_preprocessing_execution(exec_id='1')"
   ]
  },
  {
   "attachments": {},
   "cell_type": "markdown",
   "metadata": {},
   "source": [
    "execution_4.download_result()"
   ]
  },
  {
   "attachments": {},
   "cell_type": "markdown",
   "metadata": {},
   "source": [
    "## Using preprocessing with models"
   ]
  },
  {
   "cell_type": "code",
   "execution_count": 16,
   "metadata": {},
   "outputs": [
    {
     "name": "stderr",
     "output_type": "stream",
     "text": [
      "2023-10-26 10:26:42.351 | INFO     | neomaril_codex.model:__init__:722 - Loading .env\n",
      "2023-10-26 10:26:42.352 | INFO     | neomaril_codex.base:__init__:90 - Loading .env\n",
      "2023-10-26 10:26:43.716 | INFO     | neomaril_codex.base:__init__:102 - Successfully connected to Neomaril\n"
     ]
    }
   ],
   "source": [
    "model_client = NeomarilModelClient()"
   ]
  },
  {
   "attachments": {},
   "cell_type": "markdown",
   "metadata": {},
   "source": [
    "#### Sync Model"
   ]
  },
  {
   "cell_type": "code",
   "execution_count": 17,
   "metadata": {},
   "outputs": [
    {
     "name": "stderr",
     "output_type": "stream",
     "text": [
      "2023-10-26 10:26:45.121 | INFO     | neomaril_codex.model:get_model:820 - Model M3aa182ff161478a97f4d3b2dc0e9b064d5a9e7330174daeb302e01586b9654c its deployed. Fetching model.\n",
      "2023-10-26 10:26:45.123 | INFO     | neomaril_codex.model:__init__:69 - Loading .env\n"
     ]
    },
    {
     "data": {
      "text/plain": [
       "{'pred': 0, 'proba': 0.005841062869876623}"
      ]
     },
     "execution_count": 17,
     "metadata": {},
     "output_type": "execute_result"
    }
   ],
   "source": [
    "sync_model = model_client.get_model(group='datarisk', model_id='M3aa182ff161478a97f4d3b2dc0e9b064d5a9e7330174daeb302e01586b9654c')\n",
    "\n",
    "sync_model.predict(data=sync_model.schema, preprocessing=sync_preprocessing)"
   ]
  },
  {
   "attachments": {},
   "cell_type": "markdown",
   "metadata": {},
   "source": [
    "#### Async Model"
   ]
  },
  {
   "cell_type": "code",
   "execution_count": 18,
   "metadata": {},
   "outputs": [
    {
     "name": "stderr",
     "output_type": "stream",
     "text": [
      "2023-10-26 10:26:51.460 | INFO     | neomaril_codex.model:get_model:820 - Model Maa3449c7f474567b6556614a12039d8bfdad0117fec47b2a4e03fcca90b7e7c its deployed. Fetching model.\n",
      "2023-10-26 10:26:51.461 | INFO     | neomaril_codex.model:__init__:69 - Loading .env\n",
      "2023-10-26 10:26:54.532 | INFO     | neomaril_codex.preprocessing:set_token:123 - Token for group datarisk added.\n",
      "2023-10-26 10:26:55.955 | INFO     | neomaril_codex.preprocessing:run:177 - Execution '4' started to generate 'Db84e3baffc3457b9729f39f9f37aa1cd8aada89d3434ea0925e539cb23d7d65'. Use the id to check its status.\n",
      "2023-10-26 10:26:55.956 | INFO     | neomaril_codex.base:__init__:279 - Loading .env\n",
      "2023-10-26 10:30:12.982 | INFO     | neomaril_codex.base:download_result:413 - Output saved in ./result_preprocessing\n",
      "2023-10-26 10:30:14.619 | INFO     | neomaril_codex.model:predict:365 - Execution '5' started. Use the id to check its status.\n",
      "2023-10-26 10:30:14.620 | INFO     | neomaril_codex.base:__init__:279 - Loading .env\n"
     ]
    }
   ],
   "source": [
    "async_model = model_client.get_model(group='datarisk', model_id='Maa3449c7f474567b6556614a12039d8bfdad0117fec47b2a4e03fcca90b7e7c')\n",
    "\n",
    "PATH = './samples/asyncModel/'\n",
    "\n",
    "execution = async_model.predict(PATH+'input.csv', preprocessing=async_preprocessing)\n",
    "execution.wait_ready()"
   ]
  },
  {
   "cell_type": "code",
   "execution_count": 19,
   "metadata": {},
   "outputs": [
    {
     "name": "stderr",
     "output_type": "stream",
     "text": [
      "2023-10-26 10:32:28.296 | INFO     | neomaril_codex.base:download_result:413 - Output saved in ./output.zip\n"
     ]
    }
   ],
   "source": [
    "execution.download_result()"
   ]
  }
 ],
 "metadata": {
  "kernelspec": {
   "display_name": "base",
   "language": "python",
   "name": "python3"
  },
  "language_info": {
   "codemirror_mode": {
    "name": "ipython",
    "version": 3
   },
   "file_extension": ".py",
   "mimetype": "text/x-python",
   "name": "python",
   "nbconvert_exporter": "python",
   "pygments_lexer": "ipython3",
   "version": "3.10.12"
  },
  "orig_nbformat": 4
 },
 "nbformat": 4,
 "nbformat_minor": 2
}
