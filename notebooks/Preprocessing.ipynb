{
 "cells": [
  {
   "attachments": {},
   "cell_type": "markdown",
   "metadata": {},
   "source": [
    "# NeomarilPreprocessing\n",
    "\n",
    "This notebook give a exemple on how to use Neomaril to deploy a preprocessing"
   ]
  },
  {
   "attachments": {},
   "cell_type": "markdown",
   "metadata": {},
   "source": [
    "## Imports"
   ]
  },
  {
   "cell_type": "code",
   "execution_count": 1,
   "metadata": {},
   "outputs": [],
   "source": [
    "from neomaril_codex.preprocessing import NeomarilPreprocessingClient\n",
    "from neomaril_codex.model import NeomarilModelClient"
   ]
  },
  {
   "attachments": {},
   "cell_type": "markdown",
   "metadata": {},
   "source": [
    "## NeomarilPreprocessingClient"
   ]
  },
  {
   "cell_type": "code",
   "execution_count": 2,
   "metadata": {},
   "outputs": [
    {
     "name": "stderr",
     "output_type": "stream",
     "text": [
      "2024-04-23 15:40:17.167 | INFO     | neomaril_codex.base:__init__:20 - Loading .env\n",
      "2024-04-23 15:40:19.453 | INFO     | neomaril_codex.base:__init__:31 - Successfully connected to Neomaril\n"
     ]
    }
   ],
   "source": [
    "client = NeomarilPreprocessingClient(tenant='bb93555c-7339-442a-af12-52beba77386a')"
   ]
  },
  {
   "attachments": {},
   "cell_type": "markdown",
   "metadata": {},
   "source": [
    "## Creating sync pre processing"
   ]
  },
  {
   "cell_type": "code",
   "execution_count": 3,
   "metadata": {},
   "outputs": [],
   "source": [
    "PATH = './samples/syncPreprocessing/'"
   ]
  },
  {
   "cell_type": "code",
   "execution_count": 4,
   "metadata": {},
   "outputs": [
    {
     "name": "stderr",
     "output_type": "stream",
     "text": [
      "2024-04-23 15:40:20.002 | INFO     | neomaril_codex.preprocessing:__upload_preprocessing:717 - Script was registered! - Hash: \"S3d4df7f275049a9ac00bb36dc8f4ab4230bf39cf214494786bcf9547c741adb\" with response {\"Hash\":\"S3d4df7f275049a9ac00bb36dc8f4ab4230bf39cf214494786bcf9547c741adb\",\"Message\":\"Script was registered!\"}\n",
      "2024-04-23 15:40:20.043 | INFO     | neomaril_codex.preprocessing:__host_preprocessing:749 - Preprocessing host in process - Hash: S3d4df7f275049a9ac00bb36dc8f4ab4230bf39cf214494786bcf9547c741adb\n"
     ]
    },
    {
     "name": "stdout",
     "output_type": "stream",
     "text": [
      "Waiting for deploy to be ready.........."
     ]
    },
    {
     "name": "stderr",
     "output_type": "stream",
     "text": [
      "2024-04-23 15:41:51.284 | INFO     | neomaril_codex.preprocessing:get_preprocessing:529 - Preprocessing S3d4df7f275049a9ac00bb36dc8f4ab4230bf39cf214494786bcf9547c741adb its deployed. Fetching preprocessing.\n",
      "2024-04-23 15:41:51.286 | INFO     | neomaril_codex.base:__init__:20 - Loading .env\n",
      "2024-04-23 15:41:51.290 | INFO     | neomaril_codex.base:__init__:31 - Successfully connected to Neomaril\n"
     ]
    }
   ],
   "source": [
    "sync_preprocessing = client.create(\n",
    "    preprocessing_name='Teste preprocessing Sync', # model_name\n",
    "    preprocessing_reference='process', # name of the scoring function\n",
    "    source_file=PATH+'app.py', # Path of the source file\n",
    "    requirements_file=PATH+'requirements.txt', # Path of the requirements file, \n",
    "    schema=PATH+'schema.json', # Path of the schema file, but it could be a dict (only required for Sync models)\n",
    "    # env=PATH+'.env'  #  File for env variables (this will be encrypted in the server)\n",
    "    # extra_files=[PATH+'utils.py'], # List with extra files paths that should be uploaded along (they will be all in the same folder)\n",
    "    python_version='3.9', # Can be 3.7 to 3.10\n",
    "    operation=\"Sync\", # Can be Sync or Async\n",
    "    group='groupname' # Model group (create one using the client)\n",
    ")"
   ]
  },
  {
   "cell_type": "code",
   "execution_count": 5,
   "metadata": {},
   "outputs": [
    {
     "name": "stderr",
     "output_type": "stream",
     "text": [
      "2024-04-23 15:41:51.327 | INFO     | neomaril_codex.preprocessing:set_token:157 - Token for group groupname added.\n"
     ]
    }
   ],
   "source": [
    "sync_preprocessing.set_token('29d9d82e09bb4c11b9cd4ce4e36e6c58')"
   ]
  },
  {
   "cell_type": "code",
   "execution_count": 6,
   "metadata": {},
   "outputs": [
    {
     "data": {
      "text/plain": [
       "{'mean_radius': 0,\n",
       " 'mean_texture': 0,\n",
       " 'mean_perimeter': 0,\n",
       " 'mean_area': 0,\n",
       " 'mean_smoothness': 0,\n",
       " 'mean_compactness': 0,\n",
       " 'mean_concavity': 0,\n",
       " 'mean_concave_points': 0,\n",
       " 'mean_symmetry': 0,\n",
       " 'mean_fractal_dimension': 0,\n",
       " 'radius_error': 0,\n",
       " 'texture_error': 0,\n",
       " 'perimeter_error': 0,\n",
       " 'area_error': 0,\n",
       " 'smoothness_error': 0,\n",
       " 'compactness_error': 0,\n",
       " 'concavity_error': 0,\n",
       " 'concave_points_error': 0,\n",
       " 'symmetry_error': 0,\n",
       " 'fractal_dimension_error': 0,\n",
       " 'worst_radius': 0,\n",
       " 'worst_texture': 0,\n",
       " 'worst_perimeter': 0,\n",
       " 'worst_area': 0,\n",
       " 'worst_smoothness': 0,\n",
       " 'worst_compactness': 0,\n",
       " 'worst_concavity': 0,\n",
       " 'worst_concave_points': 0,\n",
       " 'worst_symmetry': 0,\n",
       " 'worst_fractal_dimension': 0}"
      ]
     },
     "execution_count": 6,
     "metadata": {},
     "output_type": "execute_result"
    }
   ],
   "source": [
    "result = sync_preprocessing.run(\n",
    "    data={'variable' : 100}\n",
    ")\n",
    "result"
   ]
  },
  {
   "cell_type": "markdown",
   "metadata": {},
   "source": []
  },
  {
   "attachments": {},
   "cell_type": "markdown",
   "metadata": {},
   "source": [
    "## Creating async pre processing"
   ]
  },
  {
   "cell_type": "code",
   "execution_count": 7,
   "metadata": {},
   "outputs": [
    {
     "name": "stderr",
     "output_type": "stream",
     "text": [
      "2024-04-23 15:41:52.241 | INFO     | neomaril_codex.preprocessing:__upload_preprocessing:717 - Script was registered! - Hash: \"Sb805609847d4b5db43b4f4bd2a5446996fa2a07b9404f89a8fb01ebe4639393\" with response {\"Hash\":\"Sb805609847d4b5db43b4f4bd2a5446996fa2a07b9404f89a8fb01ebe4639393\",\"Message\":\"Script was registered!\"}\n",
      "2024-04-23 15:41:52.271 | INFO     | neomaril_codex.preprocessing:__host_preprocessing:749 - Preprocessing host in process - Hash: Sb805609847d4b5db43b4f4bd2a5446996fa2a07b9404f89a8fb01ebe4639393\n"
     ]
    },
    {
     "name": "stdout",
     "output_type": "stream",
     "text": [
      "Waiting for deploy to be ready..........."
     ]
    },
    {
     "name": "stderr",
     "output_type": "stream",
     "text": [
      "2024-04-23 15:43:46.596 | INFO     | neomaril_codex.preprocessing:get_preprocessing:529 - Preprocessing Sb805609847d4b5db43b4f4bd2a5446996fa2a07b9404f89a8fb01ebe4639393 its deployed. Fetching preprocessing.\n",
      "2024-04-23 15:43:46.598 | INFO     | neomaril_codex.base:__init__:20 - Loading .env\n",
      "2024-04-23 15:43:46.602 | INFO     | neomaril_codex.base:__init__:31 - Successfully connected to Neomaril\n"
     ]
    }
   ],
   "source": [
    "PATH = './samples/asyncPreprocessing/'\n",
    "\n",
    "async_preprocessing = client.create(\n",
    "    preprocessing_name='Teste preprocessing Async', # preprocessing_name\n",
    "    preprocessing_reference='build_df', # name of the scoring function\n",
    "    source_file=PATH+'app.py', # Path of the source file\n",
    "    requirements_file=PATH+'requirements.txt', # Path of the requirements file, \n",
    "    # env=PATH+'.env',  #  File for env variables (this will be encrypted in the server)\n",
    "    # extra_files=[PATH+'input.csv'], # List with extra files paths that should be uploaded along (they will be all in the same folder)\n",
    "    schema=PATH+'schema.csv',\n",
    "    python_version='3.9', # Can be 3.7 to 3.10\n",
    "    operation=\"Async\", # Can be Sync or Async\n",
    "    group='groupname', # Model group (create one using the client)\n",
    "    input_type='csv',\n",
    "    wait_for_ready=True\n",
    ")"
   ]
  },
  {
   "cell_type": "code",
   "execution_count": 8,
   "metadata": {},
   "outputs": [
    {
     "name": "stderr",
     "output_type": "stream",
     "text": [
      "2024-04-23 15:43:46.641 | INFO     | neomaril_codex.preprocessing:set_token:157 - Token for group groupname added.\n"
     ]
    }
   ],
   "source": [
    "async_preprocessing.set_token('29d9d82e09bb4c11b9cd4ce4e36e6c58')"
   ]
  },
  {
   "cell_type": "code",
   "execution_count": 9,
   "metadata": {},
   "outputs": [
    {
     "name": "stderr",
     "output_type": "stream",
     "text": [
      "2024-04-23 15:43:47.034 | INFO     | neomaril_codex.preprocessing:run:211 - Execution '5' started to generate 'D4805a8076c54b07870a3d8f6ebad93fe597780e7d90404e821c8061513e72bb'. Use the id to check its status.\n",
      "2024-04-23 15:43:47.035 | INFO     | neomaril_codex.base:__init__:20 - Loading .env\n",
      "2024-04-23 15:43:47.039 | INFO     | neomaril_codex.base:__init__:31 - Successfully connected to Neomaril\n",
      "2024-04-23 15:43:47.040 | INFO     | neomaril_codex.base:__init__:279 - Loading .env\n"
     ]
    }
   ],
   "source": [
    "execution = async_preprocessing.run(data=PATH+'input.csv')"
   ]
  },
  {
   "cell_type": "code",
   "execution_count": 10,
   "metadata": {},
   "outputs": [
    {
     "data": {
      "text/plain": [
       "{'ExecutionId': '5', 'Status': 'Running', 'Message': None}"
      ]
     },
     "execution_count": 10,
     "metadata": {},
     "output_type": "execute_result"
    }
   ],
   "source": [
    "execution.get_status()"
   ]
  },
  {
   "cell_type": "code",
   "execution_count": 11,
   "metadata": {},
   "outputs": [
    {
     "name": "stderr",
     "output_type": "stream",
     "text": [
      "2024-04-23 15:45:22.114 | INFO     | neomaril_codex.base:download_result:408 - Output saved in ./output.zip\n"
     ]
    }
   ],
   "source": [
    "execution.wait_ready()\n",
    "execution.download_result()"
   ]
  },
  {
   "attachments": {},
   "cell_type": "markdown",
   "metadata": {},
   "source": [
    "## Access created pre processing"
   ]
  },
  {
   "cell_type": "code",
   "execution_count": 12,
   "metadata": {},
   "outputs": [
    {
     "data": {
      "text/plain": [
       "[{'Hash': 'Sb643ba10b154e13abc2b03ff89238307fd672829309403f9da8f609ec8b9c06',\n",
       "  'Operation': 'Sync',\n",
       "  'PythonVersion': 'Python39',\n",
       "  'Status': 'Deployed',\n",
       "  'Group': 'groupname',\n",
       "  'UploadedAt': '2024-04-23T13:34:48.615943+00:00'},\n",
       " {'Hash': 'Sa79236b3dfc4f22a502e816a07dab382cee6327a5334c5bbba13c456233b8c4',\n",
       "  'Operation': 'Async',\n",
       "  'PythonVersion': 'Python39',\n",
       "  'Status': 'Deployed',\n",
       "  'Group': 'groupname',\n",
       "  'UploadedAt': '2024-04-23T13:36:31.354212+00:00'},\n",
       " {'Hash': 'S3d4df7f275049a9ac00bb36dc8f4ab4230bf39cf214494786bcf9547c741adb',\n",
       "  'Operation': 'Sync',\n",
       "  'PythonVersion': 'Python39',\n",
       "  'Status': 'Deployed',\n",
       "  'Group': 'groupname',\n",
       "  'UploadedAt': '2024-04-23T18:40:19.981277+00:00'},\n",
       " {'Hash': 'Sb805609847d4b5db43b4f4bd2a5446996fa2a07b9404f89a8fb01ebe4639393',\n",
       "  'Operation': 'Async',\n",
       "  'PythonVersion': 'Python39',\n",
       "  'Status': 'Deployed',\n",
       "  'Group': 'groupname',\n",
       "  'UploadedAt': '2024-04-23T18:41:52.235023+00:00'}]"
      ]
     },
     "execution_count": 12,
     "metadata": {},
     "output_type": "execute_result"
    }
   ],
   "source": [
    "client.search_preprocessing()"
   ]
  },
  {
   "cell_type": "code",
   "execution_count": 13,
   "metadata": {},
   "outputs": [
    {
     "name": "stderr",
     "output_type": "stream",
     "text": [
      "2024-04-23 15:45:22.156 | INFO     | neomaril_codex.preprocessing:get_preprocessing:529 - Preprocessing Sa79236b3dfc4f22a502e816a07dab382cee6327a5334c5bbba13c456233b8c4 its deployed. Fetching preprocessing.\n",
      "2024-04-23 15:45:22.158 | INFO     | neomaril_codex.base:__init__:20 - Loading .env\n",
      "2024-04-23 15:45:22.162 | INFO     | neomaril_codex.base:__init__:31 - Successfully connected to Neomaril\n"
     ]
    }
   ],
   "source": [
    "preprocessing = client.get_preprocessing(preprocessing_id='Sa79236b3dfc4f22a502e816a07dab382cee6327a5334c5bbba13c456233b8c4', group='groupname')"
   ]
  },
  {
   "attachments": {},
   "cell_type": "markdown",
   "metadata": {},
   "source": [
    "## Access created executions"
   ]
  },
  {
   "cell_type": "code",
   "execution_count": 14,
   "metadata": {},
   "outputs": [
    {
     "name": "stderr",
     "output_type": "stream",
     "text": [
      "2024-04-23 15:45:22.194 | INFO     | neomaril_codex.base:__init__:20 - Loading .env\n",
      "2024-04-23 15:45:22.199 | INFO     | neomaril_codex.base:__init__:31 - Successfully connected to Neomaril\n",
      "2024-04-23 15:45:22.201 | INFO     | neomaril_codex.base:__init__:279 - Loading .env\n"
     ]
    }
   ],
   "source": [
    "old_execution = async_preprocessing.get_preprocessing_execution(exec_id='2')"
   ]
  },
  {
   "attachments": {},
   "cell_type": "markdown",
   "metadata": {},
   "source": [
    "execution_4.download_result()"
   ]
  },
  {
   "attachments": {},
   "cell_type": "markdown",
   "metadata": {},
   "source": [
    "## Using preprocessing with models"
   ]
  },
  {
   "cell_type": "code",
   "execution_count": 15,
   "metadata": {},
   "outputs": [
    {
     "name": "stderr",
     "output_type": "stream",
     "text": [
      "2024-04-23 15:45:22.214 | INFO     | neomaril_codex.base:__init__:20 - Loading .env\n",
      "2024-04-23 15:45:22.218 | INFO     | neomaril_codex.base:__init__:31 - Successfully connected to Neomaril\n"
     ]
    }
   ],
   "source": [
    "model_client = NeomarilModelClient(tenant='bb93555c-7339-442a-af12-52beba77386a')"
   ]
  },
  {
   "attachments": {},
   "cell_type": "markdown",
   "metadata": {},
   "source": [
    "#### Sync Model"
   ]
  },
  {
   "cell_type": "code",
   "execution_count": 16,
   "metadata": {},
   "outputs": [
    {
     "name": "stderr",
     "output_type": "stream",
     "text": [
      "2024-04-23 15:45:22.251 | INFO     | neomaril_codex.model:get_model:907 - Model M7abe6af98484948ad63f3ad03f25b6496a93f06e23c4ffbaa43eba0f6a1bb91 its deployed. Fetching model.\n",
      "2024-04-23 15:45:22.253 | INFO     | neomaril_codex.base:__init__:20 - Loading .env\n",
      "2024-04-23 15:45:22.256 | INFO     | neomaril_codex.base:__init__:31 - Successfully connected to Neomaril\n",
      "2024-04-23 15:45:22.284 | INFO     | neomaril_codex.model:set_token:288 - Token for group groupname added.\n"
     ]
    },
    {
     "data": {
      "text/plain": [
       "{'pred': 0, 'proba': 0.0004951423213556372}"
      ]
     },
     "execution_count": 16,
     "metadata": {},
     "output_type": "execute_result"
    }
   ],
   "source": [
    "sync_model = model_client.get_model(group='groupname', model_id='M7abe6af98484948ad63f3ad03f25b6496a93f06e23c4ffbaa43eba0f6a1bb91')\n",
    "\n",
    "sync_model.set_token('29d9d82e09bb4c11b9cd4ce4e36e6c58')\n",
    "\n",
    "data = {\n",
    " \"mean_radius\": 17.99,\n",
    " \"mean_texture\": 10.38,\n",
    " \"mean_perimeter\": 122.8,\n",
    " \"mean_area\": 1001.0,\n",
    " \"mean_smoothness\": 0.1184,\n",
    " \"mean_compactness\": 0.2776,\n",
    " \"mean_concavity\": 0.3001,\n",
    " \"mean_concave_points\": 0.1471,\n",
    " \"mean_symmetry\": 0.2419,\n",
    " \"mean_fractal_dimension\": 0.07871,\n",
    " \"radius_error\": 1.095,\n",
    " \"texture_error\": 0.9053,\n",
    " \"perimeter_error\": 8.589,\n",
    " \"area_error\": 153.4,\n",
    " \"smoothness_error\": 0.006399,\n",
    " \"compactness_error\": 0.04904,\n",
    " \"concavity_error\": 0.05373,\n",
    " \"concave_points_error\": 0.01587,\n",
    " \"symmetry_error\": 0.03003,\n",
    " \"fractal_dimension_error\": 0.006193,\n",
    " \"worst_radius\": 25.38,\n",
    " \"worst_texture\": 17.33,\n",
    " \"worst_perimeter\": 184.6,\n",
    " \"worst_area\": 2019.0,\n",
    " \"worst_smoothness\": 0.1622,\n",
    " \"worst_compactness\": 0.6656,\n",
    " \"worst_concavity\": 0.7119,\n",
    " \"worst_concave_points\": 0.2654,\n",
    " \"worst_symmetry\": 0.4601,\n",
    " \"worst_fractal_dimension\": 0.1189\n",
    "}\n",
    "\n",
    "sync_model.predict(data=data, preprocessing=sync_preprocessing)"
   ]
  },
  {
   "attachments": {},
   "cell_type": "markdown",
   "metadata": {},
   "source": [
    "#### Async Model"
   ]
  },
  {
   "cell_type": "code",
   "execution_count": 18,
   "metadata": {},
   "outputs": [
    {
     "name": "stderr",
     "output_type": "stream",
     "text": [
      "2024-04-23 15:52:33.053 | INFO     | neomaril_codex.model:get_model:907 - Model Me6ebaa539cb4a738a66fc52fc34b5422a8c6ae3942b4ca1868624cfda964db3 its deployed. Fetching model.\n",
      "2024-04-23 15:52:33.054 | INFO     | neomaril_codex.base:__init__:20 - Loading .env\n",
      "2024-04-23 15:52:33.058 | INFO     | neomaril_codex.base:__init__:31 - Successfully connected to Neomaril\n",
      "2024-04-23 15:52:33.085 | INFO     | neomaril_codex.model:set_token:288 - Token for group groupname added.\n",
      "2024-04-23 15:52:33.086 | INFO     | neomaril_codex.preprocessing:set_token:157 - Token for group groupname added.\n",
      "2024-04-23 15:52:33.454 | INFO     | neomaril_codex.preprocessing:run:211 - Execution '7' started to generate 'Dae811a8d92141a89c7288c0933810ee412694f8c5284b3284b5a366af08056a'. Use the id to check its status.\n",
      "2024-04-23 15:52:33.455 | INFO     | neomaril_codex.base:__init__:20 - Loading .env\n",
      "2024-04-23 15:52:33.458 | INFO     | neomaril_codex.base:__init__:31 - Successfully connected to Neomaril\n",
      "2024-04-23 15:52:33.460 | INFO     | neomaril_codex.base:__init__:279 - Loading .env\n",
      "2024-04-23 15:52:34.014 | ERROR    | neomaril_codex.model:predict:347 - Preprocessing failed, we wont send any data to it\n",
      "2024-04-23 15:52:34.015 | INFO     | neomaril_codex.model:predict:348 - Returning Preprocessing run instead.\n"
     ]
    }
   ],
   "source": [
    "async_model = model_client.get_model(group='groupname', model_id='Me6ebaa539cb4a738a66fc52fc34b5422a8c6ae3942b4ca1868624cfda964db3')\n",
    "\n",
    "PATH = './samples/asyncModel/'\n",
    "\n",
    "async_model.set_token('29d9d82e09bb4c11b9cd4ce4e36e6c58')\n",
    "\n",
    "execution = async_model.predict(data=PATH+'input.csv', preprocessing=async_preprocessing)\n",
    "execution.wait_ready()"
   ]
  },
  {
   "cell_type": "code",
   "execution_count": 19,
   "metadata": {},
   "outputs": [
    {
     "name": "stderr",
     "output_type": "stream",
     "text": [
      "2024-04-23 15:52:39.192 | INFO     | neomaril_codex.base:download_result:412 - Execution not ready. Status is Running\n"
     ]
    }
   ],
   "source": [
    "execution.download_result()"
   ]
  }
 ],
 "metadata": {
  "kernelspec": {
   "display_name": "base",
   "language": "python",
   "name": "python3"
  },
  "language_info": {
   "codemirror_mode": {
    "name": "ipython",
    "version": 3
   },
   "file_extension": ".py",
   "mimetype": "text/x-python",
   "name": "python",
   "nbconvert_exporter": "python",
   "pygments_lexer": "ipython3",
   "version": "3.10.12"
  },
  "orig_nbformat": 4
 },
 "nbformat": 4,
 "nbformat_minor": 2
}
