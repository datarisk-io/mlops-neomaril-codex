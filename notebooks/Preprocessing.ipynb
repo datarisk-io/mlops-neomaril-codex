{
 "cells": [
  {
   "cell_type": "markdown",
   "metadata": {},
   "source": [
    "# NeomarilPreprocessing\n",
    "\n",
    "This notebook give a exemple on how to use Neomaril to deploy a preprocessing"
   ]
  },
  {
   "cell_type": "markdown",
   "metadata": {},
   "source": [
    "## Imports"
   ]
  },
  {
   "cell_type": "code",
   "execution_count": 1,
   "metadata": {},
   "outputs": [],
   "source": [
    "from neomaril_codex.preprocessing import NeomarilPreprocessingClient\n",
    "from neomaril_codex.model import NeomarilModelClient"
   ]
  },
  {
   "cell_type": "markdown",
   "metadata": {},
   "source": [
    "## NeomarilPreprocessingClient"
   ]
  },
  {
   "cell_type": "code",
   "execution_count": 3,
   "metadata": {},
   "outputs": [
    {
     "name": "stderr",
     "output_type": "stream",
     "text": [
      "2023-10-16 14:38:33.106 | INFO     | neomaril_codex.preprocessing:__init__:266 - Loading .env\n",
      "2023-10-16 14:38:33.108 | INFO     | neomaril_codex.base:__init__:90 - Loading .env\n",
      "2023-10-16 14:38:36.131 | INFO     | neomaril_codex.base:__init__:102 - Successfully connected to Neomaril\n"
     ]
    }
   ],
   "source": [
    "client = NeomarilPreprocessingClient()"
   ]
  },
  {
   "cell_type": "markdown",
   "metadata": {},
   "source": [
    "## Creating sync pre processing"
   ]
  },
  {
   "cell_type": "code",
   "execution_count": 11,
   "metadata": {},
   "outputs": [],
   "source": [
    "PATH = './samples/syncPreprocessing/'"
   ]
  },
  {
   "cell_type": "code",
   "execution_count": 14,
   "metadata": {},
   "outputs": [
    {
     "name": "stderr",
     "output_type": "stream",
     "text": [
      "2023-10-16 11:57:09.764 | INFO     | neomaril_codex.preprocessing:__upload_preprocessing:544 - Script was registered! - Hash: \"S12cc6e9f3084b59a8d17fa309a4b0045e329a62ee7b43b28300d5bb45526f82\"\n",
      "2023-10-16 11:57:11.921 | INFO     | neomaril_codex.preprocessing:__host_preprocessing:575 - Preprocessing host in process - Hash: S12cc6e9f3084b59a8d17fa309a4b0045e329a62ee7b43b28300d5bb45526f82\n"
     ]
    },
    {
     "name": "stdout",
     "output_type": "stream",
     "text": [
      "Wating for deploy to be ready........"
     ]
    },
    {
     "name": "stderr",
     "output_type": "stream",
     "text": [
      "2023-10-16 11:58:32.883 | INFO     | neomaril_codex.preprocessing:get_preprocessing:358 - Preprocessing S12cc6e9f3084b59a8d17fa309a4b0045e329a62ee7b43b28300d5bb45526f82 its deployed. Fetching preprocessing.\n",
      "2023-10-16 11:58:32.885 | INFO     | neomaril_codex.preprocessing:__init__:19 - Loading .env\n"
     ]
    }
   ],
   "source": [
    "sync_preprocessing = client.create('Teste preprocessing Sync', # model_name\n",
    "                            'process', # name of the scoring function\n",
    "                            PATH+'app.py', # Path of the source file\n",
    "                            PATH+'requirements.txt', # Path of the requirements file, \n",
    "                            schema=PATH+'schema.json', # Path of the schema file, but it could be a dict (only required for Sync models)\n",
    "#                           env=PATH+'.env'  #  File for env variables (this will be encrypted in the server)\n",
    "#                           extra_files=[PATH+'utils.py'], # List with extra files paths that should be uploaded along (they will be all in the same folder)\n",
    "                            python_version='3.9', # Can be 3.7 to 3.10\n",
    "                            operation=\"Sync\", # Can be Sync or Async\n",
    "                            group='datarisk' # Model group (create one using the client)\n",
    "                            )"
   ]
  },
  {
   "cell_type": "code",
   "execution_count": 15,
   "metadata": {},
   "outputs": [
    {
     "name": "stderr",
     "output_type": "stream",
     "text": [
      "2023-10-16 12:00:42.516 | INFO     | neomaril_codex.preprocessing:set_token:123 - Token for group datarisk added.\n"
     ]
    }
   ],
   "source": [
    "sync_preprocessing.set_token('TODO')"
   ]
  },
  {
   "cell_type": "code",
   "execution_count": 16,
   "metadata": {},
   "outputs": [
    {
     "data": {
      "text/plain": [
       "{'mean_radius': 0,\n",
       " 'mean_texture': 0,\n",
       " 'mean_perimeter': 0,\n",
       " 'mean_area': 0,\n",
       " 'mean_smoothness': 0,\n",
       " 'mean_compactness': 0,\n",
       " 'mean_concavity': 0,\n",
       " 'mean_concave_points': 0,\n",
       " 'mean_symmetry': 0,\n",
       " 'mean_fractal_dimension': 0,\n",
       " 'radius_error': 0,\n",
       " 'texture_error': 0,\n",
       " 'perimeter_error': 0,\n",
       " 'area_error': 0,\n",
       " 'smoothness_error': 0,\n",
       " 'compactness_error': 0,\n",
       " 'concavity_error': 0,\n",
       " 'concave_points_error': 0,\n",
       " 'symmetry_error': 0,\n",
       " 'fractal_dimension_error': 0,\n",
       " 'worst_radius': 0,\n",
       " 'worst_texture': 0,\n",
       " 'worst_perimeter': 0,\n",
       " 'worst_area': 0,\n",
       " 'worst_smoothness': 0,\n",
       " 'worst_compactness': 0,\n",
       " 'worst_concavity': 0,\n",
       " 'worst_concave_points': 0,\n",
       " 'worst_symmetry': 0,\n",
       " 'worst_fractal_dimension': 0}"
      ]
     },
     "execution_count": 16,
     "metadata": {},
     "output_type": "execute_result"
    }
   ],
   "source": [
    "result = sync_preprocessing.run({'variable' : 100})\n",
    "result"
   ]
  },
  {
   "cell_type": "markdown",
   "metadata": {},
   "source": [
    "## Creating async pre processing"
   ]
  },
  {
   "cell_type": "code",
   "execution_count": 6,
   "metadata": {},
   "outputs": [
    {
     "name": "stderr",
     "output_type": "stream",
     "text": [
      "2023-10-16 14:39:03.428 | INFO     | neomaril_codex.preprocessing:__upload_preprocessing:544 - Script was registered! - Hash: \"S7c12eeaeab5445e9268149487fdd89b0122476ede7d42e9a3524cc40ea744fa\"\n",
      "2023-10-16 14:39:04.845 | INFO     | neomaril_codex.preprocessing:__host_preprocessing:575 - Preprocessing host in process - Hash: S7c12eeaeab5445e9268149487fdd89b0122476ede7d42e9a3524cc40ea744fa\n"
     ]
    },
    {
     "name": "stdout",
     "output_type": "stream",
     "text": [
      "Wating for deploy to be ready.................."
     ]
    },
    {
     "name": "stderr",
     "output_type": "stream",
     "text": [
      "2023-10-16 14:42:19.855 | INFO     | neomaril_codex.preprocessing:get_preprocessing:358 - Preprocessing S7c12eeaeab5445e9268149487fdd89b0122476ede7d42e9a3524cc40ea744fa its deployed. Fetching preprocessing.\n",
      "2023-10-16 14:42:19.857 | INFO     | neomaril_codex.preprocessing:__init__:19 - Loading .env\n"
     ]
    }
   ],
   "source": [
    "PATH = './samples/asyncPreprocessing/'\n",
    "\n",
    "async_preprocessing = client.create('Teste preprocessing Async', # model_name\n",
    "                            'process', # name of the scoring function\n",
    "                            PATH+'app.py', # Path of the source file\n",
    "                            PATH+'requirements.txt', # Path of the requirements file, \n",
    "                            # env=PATH+'.env',  #  File for env variables (this will be encrypted in the server)\n",
    "                            # extra_files=[PATH+'input.csv'], # List with extra files paths that should be uploaded along (they will be all in the same folder)\n",
    "                            python_version='3.9', # Can be 3.7 to 3.10\n",
    "                            operation=\"Async\", # Can be Sync or Async\n",
    "                            group='datarisk', # Model group (create one using the client)\n",
    "                            input_type='csv'\n",
    "                            )"
   ]
  },
  {
   "cell_type": "code",
   "execution_count": 5,
   "metadata": {},
   "outputs": [
    {
     "name": "stderr",
     "output_type": "stream",
     "text": [
      "2023-10-16 11:25:55.396 | INFO     | neomaril_codex.preprocessing:set_token:123 - Token for group datarisk added.\n"
     ]
    }
   ],
   "source": [
    "async_preprocessing.set_token('TODO')"
   ]
  },
  {
   "cell_type": "code",
   "execution_count": 6,
   "metadata": {},
   "outputs": [
    {
     "name": "stderr",
     "output_type": "stream",
     "text": [
      "2023-10-16 11:25:55.766 | INFO     | neomaril_codex.preprocessing:run:177 - Execution '8' started to generate 'D1539f608c49485997db85ba0df2165347e048c53d7e42b88e415908893feac8'. Use the id to check its status.\n",
      "2023-10-16 11:25:55.768 | INFO     | neomaril_codex.base:__init__:279 - Loading .env\n"
     ]
    }
   ],
   "source": [
    "execution = async_preprocessing.run(PATH+'input.csv')"
   ]
  },
  {
   "cell_type": "code",
   "execution_count": 7,
   "metadata": {},
   "outputs": [
    {
     "data": {
      "text/plain": [
       "{'ExecutionId': '8', 'Status': 'Running', 'Message': None}"
      ]
     },
     "execution_count": 7,
     "metadata": {},
     "output_type": "execute_result"
    }
   ],
   "source": [
    "execution.get_status()"
   ]
  },
  {
   "cell_type": "code",
   "execution_count": 8,
   "metadata": {},
   "outputs": [
    {
     "name": "stderr",
     "output_type": "stream",
     "text": [
      "2023-10-16 11:28:59.562 | INFO     | neomaril_codex.base:download_result:412 - Output saved in ./output_8.zip\n"
     ]
    }
   ],
   "source": [
    "execution.wait_ready()\n",
    "execution.download_result()"
   ]
  },
  {
   "cell_type": "markdown",
   "metadata": {},
   "source": [
    "## Access created pre processing"
   ]
  },
  {
   "cell_type": "code",
   "execution_count": null,
   "metadata": {},
   "outputs": [],
   "source": [
    "client.search_preprocessing()"
   ]
  },
  {
   "cell_type": "code",
   "execution_count": null,
   "metadata": {},
   "outputs": [],
   "source": [
    "preprocessing = client.get_preprocessing(preprocessing_id='id', group='datarisk')"
   ]
  },
  {
   "cell_type": "code",
   "execution_count": null,
   "metadata": {},
   "outputs": [],
   "source": [
    "preprocessing.set_token('group_token')"
   ]
  },
  {
   "cell_type": "code",
   "execution_count": null,
   "metadata": {},
   "outputs": [],
   "source": [
    "execution = preprocessing.run(PATH+'input.csv')"
   ]
  },
  {
   "cell_type": "code",
   "execution_count": null,
   "metadata": {},
   "outputs": [],
   "source": [
    "execution.get_status()"
   ]
  },
  {
   "cell_type": "code",
   "execution_count": null,
   "metadata": {},
   "outputs": [],
   "source": [
    "execution.download_result()"
   ]
  },
  {
   "cell_type": "markdown",
   "metadata": {},
   "source": [
    "## Access created executions"
   ]
  },
  {
   "cell_type": "code",
   "execution_count": null,
   "metadata": {},
   "outputs": [],
   "source": [
    "execution_4 = preprocessing.get_preprocessing_execution(exec_id='4')"
   ]
  },
  {
   "cell_type": "markdown",
   "metadata": {},
   "source": [
    "execution_4.download_result()"
   ]
  },
  {
   "cell_type": "markdown",
   "metadata": {},
   "source": [
    "## Using preprocessing with models"
   ]
  },
  {
   "cell_type": "code",
   "execution_count": 2,
   "metadata": {},
   "outputs": [
    {
     "name": "stderr",
     "output_type": "stream",
     "text": [
      "2023-10-16 14:55:24.440 | INFO     | neomaril_codex.model:__init__:723 - Loading .env\n",
      "2023-10-16 14:55:24.441 | INFO     | neomaril_codex.base:__init__:90 - Loading .env\n",
      "2023-10-16 14:55:25.477 | INFO     | neomaril_codex.base:__init__:102 - Successfully connected to Neomaril\n"
     ]
    }
   ],
   "source": [
    "model_client = NeomarilModelClient()"
   ]
  },
  {
   "cell_type": "code",
   "execution_count": 18,
   "metadata": {},
   "outputs": [
    {
     "name": "stderr",
     "output_type": "stream",
     "text": [
      "2023-10-16 12:49:24.043 | INFO     | neomaril_codex.model:__init__:722 - Loading .env\n",
      "2023-10-16 12:49:24.046 | INFO     | neomaril_codex.base:__init__:90 - Loading .env\n",
      "2023-10-16 12:49:25.678 | INFO     | neomaril_codex.base:__init__:102 - Successfully connected to Neomaril\n",
      "2023-10-16 12:49:27.941 | INFO     | neomaril_codex.model:get_model:820 - Model M1488299aa18492d80680857a5c1eedbcd4c53ef5b184335b32104449fee97cd its deployed. Fetching model.\n",
      "2023-10-16 12:49:27.942 | INFO     | neomaril_codex.model:__init__:69 - Loading .env\n",
      "2023-10-16 12:49:31.710 | INFO     | neomaril_codex.model:set_token:297 - Token for group datarisk added.\n"
     ]
    },
    {
     "data": {
      "text/plain": [
       "{'pred': 0, 'proba': 0.005841062869876623}"
      ]
     },
     "execution_count": 18,
     "metadata": {},
     "output_type": "execute_result"
    }
   ],
   "source": [
    "sync_model = model_client.get_model(group='datarisk', model_id='M1488299aa18492d80680857a5c1eedbcd4c53ef5b184335b32104449fee97cd')\n",
    "\n",
    "sync_model.set_token('TODO')\n",
    "\n",
    "sync_model.predict(data=sync_model.schema, preprocessing=sync_preprocessing)"
   ]
  },
  {
   "cell_type": "code",
   "execution_count": 3,
   "metadata": {},
   "outputs": [
    {
     "name": "stderr",
     "output_type": "stream",
     "text": [
      "2023-10-16 14:55:28.422 | INFO     | neomaril_codex.model:get_model:821 - Model M891d66cd91e4d3a87146884d01dbe7173ae8f7ca58c46b0a17a123a979e568f its deployed. Fetching model.\n",
      "2023-10-16 14:55:28.423 | INFO     | neomaril_codex.model:__init__:69 - Loading .env\n",
      "2023-10-16 14:55:31.819 | INFO     | neomaril_codex.model:set_token:297 - Token for group datarisk added.\n",
      "2023-10-16 14:55:31.820 | INFO     | neomaril_codex.preprocessing:set_token:123 - Token for group datarisk added.\n",
      "2023-10-16 14:55:32.183 | INFO     | neomaril_codex.preprocessing:run:177 - Execution '13' started to generate 'Dc9b3d9e15a8470abdc72ed91ba9b43a15a9d28dacb44075b21f754e423a0702'. Use the id to check its status.\n",
      "2023-10-16 14:55:32.184 | INFO     | neomaril_codex.base:__init__:279 - Loading .env\n",
      "2023-10-16 14:58:35.384 | INFO     | neomaril_codex.base:download_result:413 - Output saved in ./result_preprocessing\n",
      "2023-10-16 14:58:35.865 | INFO     | neomaril_codex.model:predict:366 - Execution '5' started. Use the id to check its status.\n",
      "2023-10-16 14:58:35.866 | INFO     | neomaril_codex.base:__init__:279 - Loading .env\n"
     ]
    }
   ],
   "source": [
    "async_model = model_client.get_model(group='datarisk', model_id='M891d66cd91e4d3a87146884d01dbe7173ae8f7ca58c46b0a17a123a979e568f')\n",
    "\n",
    "async_model.set_token('TODO')\n",
    "\n",
    "PATH = './samples/asyncModel/'\n",
    "\n",
    "execution = async_model.predict(PATH+'input.csv', preprocessing=async_preprocessing)\n",
    "execution.wait_ready()"
   ]
  },
  {
   "cell_type": "code",
   "execution_count": 4,
   "metadata": {},
   "outputs": [
    {
     "name": "stderr",
     "output_type": "stream",
     "text": [
      "2023-10-16 15:08:31.451 | INFO     | neomaril_codex.base:download_result:413 - Output saved in ./output.zip\n"
     ]
    }
   ],
   "source": [
    "execution.download_result()"
   ]
  }
 ],
 "metadata": {
  "kernelspec": {
   "display_name": "base",
   "language": "python",
   "name": "python3"
  },
  "language_info": {
   "codemirror_mode": {
    "name": "ipython",
    "version": 3
   },
   "file_extension": ".py",
   "mimetype": "text/x-python",
   "name": "python",
   "nbconvert_exporter": "python",
   "pygments_lexer": "ipython3",
   "version": "3.10.12"
  },
  "orig_nbformat": 4
 },
 "nbformat": 4,
 "nbformat_minor": 2
}
