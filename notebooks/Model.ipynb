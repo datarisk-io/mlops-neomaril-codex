{
 "cells": [
  {
   "cell_type": "markdown",
   "metadata": {},
   "source": [
    "# Neomaril Models\n",
    "\n",
    "This notebook give a exemple on how to use Neomaril to deploy a ML model"
   ]
  },
  {
   "cell_type": "markdown",
   "metadata": {},
   "source": [
    "### NeomarilModelClient\n",
    "\n",
    "It's where you can manage your models"
   ]
  },
  {
   "cell_type": "code",
   "execution_count": 1,
   "metadata": {},
   "outputs": [],
   "source": [
    "# Import the client\n",
    "from neomaril_codex.model import NeomarilModelClient"
   ]
  },
  {
   "cell_type": "code",
   "execution_count": 2,
   "metadata": {},
   "outputs": [
    {
     "name": "stderr",
     "output_type": "stream",
     "text": [
      "2024-04-23 10:11:29.378 | INFO     | neomaril_codex.base:__init__:20 - Loading .env\n",
      "2024-04-23 10:11:31.962 | INFO     | neomaril_codex.base:__init__:31 - Successfully connected to Neomaril\n"
     ]
    },
    {
     "data": {
      "text/plain": [
       "NeomarilModelClient(url=\"http://localhost:7070/api\", version=\"eyJhbGciOiJSUzI1NiIsInR5cCI6IkpXVCIsImtpZCI6IlFnc0JWQ0I5WFc0V1YtSkVCVkJiZyJ9.eyJodHRwczovL25lb21hcmlsLmRhdGFyaXNrLm5ldC9uZW9tYXJpbC1ncm91cCI6ImRhdGFyaXNrIiwiaHR0cHM6Ly9uZW9tYXJpbC5kYXRhcmlzay5uZXQvZW1haWwiOiJndWlsaGVybWUuY2FyZG9zb0BkYXRhcmlzay5pbyIsImh0dHBzOi8vbmVvbWFyaWwuZGF0YXJpc2submV0L3RlbmFudCI6ImRhdGFyaXNrIiwiaHR0cHM6Ly9uZW9tYXJpbC5kYXRhcmlzay5uZXQvdXNlci1hY3RpdmUiOnRydWUsImlzcyI6Imh0dHBzOi8vZGV2LW1rM283bGF6eGxlMzBod3EudXMuYXV0aDAuY29tLyIsInN1YiI6ImF1dGgwfDY1YTE1NTA0ZDRiOGYwZDdiNDBlOGE0YiIsImF1ZCI6WyJodHRwczovL2Rldi1tazNvN2xhenhsZTMwaHdxLnVzLmF1dGgwLmNvbS9hcGkvdjIvIiwiaHR0cHM6Ly9kZXYtbWszbzdsYXp4bGUzMGh3cS51cy5hdXRoMC5jb20vdXNlcmluZm8iXSwiaWF0IjoxNzEzODc3ODg5LCJleHAiOjE3MTM4ODg2ODksInNjb3BlIjoib3BlbmlkIHByb2ZpbGUgZW1haWwgYWRkcmVzcyBwaG9uZSByZWFkOmN1cnJlbnRfdXNlciB1cGRhdGU6Y3VycmVudF91c2VyX21ldGFkYXRhIGRlbGV0ZTpjdXJyZW50X3VzZXJfbWV0YWRhdGEgY3JlYXRlOmN1cnJlbnRfdXNlcl9tZXRhZGF0YSBjcmVhdGU6Y3VycmVudF91c2VyX2RldmljZV9jcmVkZW50aWFscyBkZWxldGU6Y3VycmVudF91c2VyX2RldmljZV9jcmVkZW50aWFscyB1cGRhdGU6Y3VycmVudF91c2VyX2lkZW50aXRpZXMgb2ZmbGluZV9hY2Nlc3MiLCJndHkiOiJwYXNzd29yZCIsImF6cCI6ImtyQjZNbEd2ZDhHQUlDWXdYT3dJWm1OQzBZOVRhUEE3In0.uCpiwNpKDtuE9oWMimYYlhdgKQA2FW_UEYT0jC3NVP47JG_zKCIVGBNcyJCOYIURe4N2MBtn7XwZkcsSYzM9YoHrlK1v0cAfpMtH7XCM86lawSUnqm_7EVASSkO_q1xU619DDiuRoBB0PrAA6bvMlRx7YX3l0hzcKVZ_hqSjqDSWt3Qw9KWJA2dciNUvU_DYMrvLDKW3bT3yb7ZErcEfcPFufVtgThRkEVxTo8y-CzmxbAuiXgLAkrK8KaQm3-SvrdqRlVv9SZsD6dbw5vzrpghQ2kEHXQkPuWqj8JHoiYuFtuyjDgEDuf5Itck3orT2_HTgck8bpb466vJrTH5Okg\")"
      ]
     },
     "execution_count": 2,
     "metadata": {},
     "output_type": "execute_result"
    }
   ],
   "source": [
    "# Start the client. We are reading the credentials in the NEOMARIL_TOKEN env variable\n",
    "client = NeomarilModelClient()\n",
    "client"
   ]
  },
  {
   "cell_type": "markdown",
   "metadata": {},
   "source": [
    "## NeomarilModel\n",
    "\n",
    "It's where you can use your model after you fetch it with the client (or created a new one)"
   ]
  },
  {
   "cell_type": "code",
   "execution_count": 3,
   "metadata": {},
   "outputs": [
    {
     "name": "stderr",
     "output_type": "stream",
     "text": [
      "2024-04-23 10:11:32.501 | INFO     | neomaril_codex.model:__upload_model:1104 - Model 'Teste notebook Sync' inserted - Hash: \"M7abe6af98484948ad63f3ad03f25b6496a93f06e23c4ffbaa43eba0f6a1bb91\"\n",
      "2024-04-23 10:11:33.464 | INFO     | neomaril_codex.model:__host_model:1135 - Model host in process - Hash: M7abe6af98484948ad63f3ad03f25b6496a93f06e23c4ffbaa43eba0f6a1bb91\n"
     ]
    },
    {
     "name": "stdout",
     "output_type": "stream",
     "text": [
      "Waiting for deploy to be ready............."
     ]
    },
    {
     "name": "stderr",
     "output_type": "stream",
     "text": [
      "2024-04-23 10:13:33.741 | INFO     | neomaril_codex.model:get_model:907 - Model M7abe6af98484948ad63f3ad03f25b6496a93f06e23c4ffbaa43eba0f6a1bb91 its deployed. Fetching model.\n",
      "2024-04-23 10:13:33.742 | INFO     | neomaril_codex.base:__init__:20 - Loading .env\n",
      "2024-04-23 10:13:33.746 | INFO     | neomaril_codex.base:__init__:31 - Successfully connected to Neomaril\n"
     ]
    }
   ],
   "source": [
    "# Or create a new one\n",
    "\n",
    "PATH = './samples/syncModel/'\n",
    "\n",
    "# Deploying a new model\n",
    "model = client.create_model(\n",
    "    model_name='Teste notebook Sync', # model_name\n",
    "    model_reference='score', # name of the scoring function\n",
    "    source_file=PATH+'app.py', # Path of the source file\n",
    "    model_file=PATH+'model.pkl', # Path of the model pkl file, \n",
    "    requirements_file=PATH+'requirements.txt', # Path of the requirements file, \n",
    "    schema=PATH+'schema.json', # Path of the schema file, but it could be a dict (only required for Sync models)\n",
    "    # env=PATH+'.env'  #  File for env variables (this will be encrypted in the server)\n",
    "    # extra_files=[PATH+'utils.py'], # List with extra files paths that should be uploaded along (they will be all in the same folder)\n",
    "    python_version='3.9', # Can be 3.7 to 3.10\n",
    "    operation=\"Sync\", # Can be Sync or Async\n",
    "    group='groupname' # Model group (create one using the client)\n",
    ")"
   ]
  },
  {
   "cell_type": "code",
   "execution_count": 4,
   "metadata": {},
   "outputs": [
    {
     "data": {
      "text/plain": [
       "NeomarilModel(name=\"Teste notebook Sync\", group=\"groupname\", \n",
       "                                status=\"Deployed\",\n",
       "                                model_id=\"M7abe6af98484948ad63f3ad03f25b6496a93f06e23c4ffbaa43eba0f6a1bb91\",\n",
       "                                operation=\"Sync\",\n",
       "                                )"
      ]
     },
     "execution_count": 4,
     "metadata": {},
     "output_type": "execute_result"
    }
   ],
   "source": [
    "model"
   ]
  },
  {
   "cell_type": "code",
   "execution_count": 5,
   "metadata": {},
   "outputs": [
    {
     "name": "stderr",
     "output_type": "stream",
     "text": [
      "2024-04-23 10:13:33.828 | INFO     | neomaril_codex.model:set_token:288 - Token for group groupname added.\n"
     ]
    }
   ],
   "source": [
    "# set group token for this model (you can also add this token in each .predict call or as a env variable NEOMARIL_GROUP_TOKEN)\n",
    "model.set_token('TOKEN')"
   ]
  },
  {
   "cell_type": "code",
   "execution_count": 6,
   "metadata": {},
   "outputs": [
    {
     "name": "stdout",
     "output_type": "stream",
     "text": [
      "{'ModelHash': 'M7abe6af98484948ad63f3ad03f25b6496a93f06e23c4ffbaa43eba0f6a1bb91', 'TrainingHash': None, 'TrainingExecution': None, 'RunName': '', 'Operation': 'Sync', 'PythonVersion': 'Python39', 'Status': 'Deployed', 'Name': 'Teste notebook Sync', 'Group': 'groupname', 'UploadedAt': '2024-04-23T13:11:32.478556+00:00', 'ModelReference': 'score', 'Input': 'json', 'Origin': 'External', 'ExperimentName': ''}\n",
      "----------------------------------------------------------------------------------------------------\n",
      "Teste notebook Sync\n",
      "----------------------------------------------------------------------------------------------------\n"
     ]
    }
   ],
   "source": [
    "# All the information about the model can be acessed\n",
    "print(model.model_data)\n",
    "print('-'*100)\n",
    "print(model.name)\n",
    "print('-'*100)"
   ]
  },
  {
   "cell_type": "code",
   "execution_count": 7,
   "metadata": {},
   "outputs": [
    {
     "name": "stdout",
     "output_type": "stream",
     "text": [
      "{'pred': 0, 'proba': 0.0004951423213556372}\n",
      "----------------------------------------------------------------------------------------------------\n",
      "{'pred': 0, 'proba': 0.0004951423213556372}\n"
     ]
    }
   ],
   "source": [
    "# Run predictions with the predict method, or just call it with the model object\n",
    "data = {\n",
    " \"mean_radius\": 17.99,\n",
    " \"mean_texture\": 10.38,\n",
    " \"mean_perimeter\": 122.8,\n",
    " \"mean_area\": 1001.0,\n",
    " \"mean_smoothness\": 0.1184,\n",
    " \"mean_compactness\": 0.2776,\n",
    " \"mean_concavity\": 0.3001,\n",
    " \"mean_concave_points\": 0.1471,\n",
    " \"mean_symmetry\": 0.2419,\n",
    " \"mean_fractal_dimension\": 0.07871,\n",
    " \"radius_error\": 1.095,\n",
    " \"texture_error\": 0.9053,\n",
    " \"perimeter_error\": 8.589,\n",
    " \"area_error\": 153.4,\n",
    " \"smoothness_error\": 0.006399,\n",
    " \"compactness_error\": 0.04904,\n",
    " \"concavity_error\": 0.05373,\n",
    " \"concave_points_error\": 0.01587,\n",
    " \"symmetry_error\": 0.03003,\n",
    " \"fractal_dimension_error\": 0.006193,\n",
    " \"worst_radius\": 25.38,\n",
    " \"worst_texture\": 17.33,\n",
    " \"worst_perimeter\": 184.6,\n",
    " \"worst_area\": 2019.0,\n",
    " \"worst_smoothness\": 0.1622,\n",
    " \"worst_compactness\": 0.6656,\n",
    " \"worst_concavity\": 0.7119,\n",
    " \"worst_concave_points\": 0.2654,\n",
    " \"worst_symmetry\": 0.4601,\n",
    " \"worst_fractal_dimension\": 0.1189\n",
    "}\n",
    "\n",
    "print(model.predict(data=data))\n",
    "print('-'*100)\n",
    "print(model(data))"
   ]
  },
  {
   "cell_type": "code",
   "execution_count": 8,
   "metadata": {},
   "outputs": [
    {
     "name": "stdout",
     "output_type": "stream",
     "text": [
      "http://localhost:7071/api/model/sync/docs/groupname/M7abe6af98484948ad63f3ad03f25b6496a93f06e23c4ffbaa43eba0f6a1bb91\n",
      "----------------------------------------------------------------------------------------------------\n",
      "curl --request POST \\\n",
      "                    --url http://localhost:7071/api/model/sync/run/groupname/M7abe6af98484948ad63f3ad03f25b6496a93f06e23c4ffbaa43eba0f6a1bb91 \\\n",
      "                    --header 'Authorization: Bearer TOKEN' \\\n",
      "                    --header 'Content-Type: application/json' \\\n",
      "                    --data '{\"Input\": {\"DATA\": \"DATA\"}}'\n",
      "                \n"
     ]
    }
   ],
   "source": [
    "# Serve your model for external clients\n",
    "print(model.docs)\n",
    "print('-'*100)\n",
    "print(model.generate_predict_code(language='curl'))"
   ]
  },
  {
   "cell_type": "code",
   "execution_count": 9,
   "metadata": {},
   "outputs": [
    {
     "name": "stderr",
     "output_type": "stream",
     "text": [
      "2024-04-23 10:13:34.993 | INFO     | neomaril_codex.model:register_monitoring:689 - Monitoring created - Hash: \"M7abe6af98484948ad63f3ad03f25b6496a93f06e23c4ffbaa43eba0f6a1bb91\"\n",
      "2024-04-23 10:13:35.223 | INFO     | neomaril_codex.model:__host_monitoring:619 - Model monitoring host started - Hash: \"M7abe6af98484948ad63f3ad03f25b6496a93f06e23c4ffbaa43eba0f6a1bb91\"\n",
      "2024-04-23 10:13:35.549 | INFO     | neomaril_codex.model:__host_monitoring_status:586 - Waiting the monitoring host.\n",
      "2024-04-23 10:14:22.268 | INFO     | neomaril_codex.model:__host_monitoring_status:586 - Waiting the monitoring host.\n",
      "2024-04-23 10:14:52.805 | INFO     | neomaril_codex.model:__host_monitoring_status:586 - Waiting the monitoring host.\n",
      "2024-04-23 10:15:23.220 | INFO     | neomaril_codex.model:__host_monitoring_status:586 - Waiting the monitoring host.\n",
      "2024-04-23 10:15:53.575 | INFO     | neomaril_codex.model:__host_monitoring_status:586 - Waiting the monitoring host.\n",
      "2024-04-23 10:16:23.944 | INFO     | neomaril_codex.model:__host_monitoring_status:590 - Model monitoring host validated - Hash: \"M7abe6af98484948ad63f3ad03f25b6496a93f06e23c4ffbaa43eba0f6a1bb91\"\n"
     ]
    },
    {
     "data": {
      "text/plain": [
       "'M7abe6af98484948ad63f3ad03f25b6496a93f06e23c4ffbaa43eba0f6a1bb91'"
      ]
     },
     "execution_count": 9,
     "metadata": {},
     "output_type": "execute_result"
    }
   ],
   "source": [
    "# # We can also add a monitoring configuration for the model\n",
    "\n",
    "PATH = './samples/monitoring/'\n",
    "\n",
    "model.register_monitoring(\n",
    "    preprocess_reference='parse', # name of the preprocess function\n",
    "    shap_reference='get_shap', # name of the preprocess function\n",
    "    configuration_file=PATH+'conf.json', # Path of the configuration file, but it could be a dict\n",
    "    preprocess_file=PATH+'preprocess_sync.py', # Path of the preprocess script\n",
    "    requirements_file=PATH+'requirements.txt' # Path of the requirements file                        \n",
    ")"
   ]
  },
  {
   "cell_type": "markdown",
   "metadata": {},
   "source": [
    "### NeomarilAsyncModelExecution\n",
    "We can create async models as well to send bigger data to predict"
   ]
  },
  {
   "cell_type": "code",
   "execution_count": 10,
   "metadata": {},
   "outputs": [
    {
     "name": "stderr",
     "output_type": "stream",
     "text": [
      "2024-04-23 10:16:24.987 | INFO     | neomaril_codex.model:__upload_model:1104 - Model 'Teste notebook Async' inserted - Hash: \"Me6ebaa539cb4a738a66fc52fc34b5422a8c6ae3942b4ca1868624cfda964db3\"\n",
      "2024-04-23 10:16:25.231 | INFO     | neomaril_codex.model:__host_model:1135 - Model host in process - Hash: Me6ebaa539cb4a738a66fc52fc34b5422a8c6ae3942b4ca1868624cfda964db3\n"
     ]
    },
    {
     "name": "stdout",
     "output_type": "stream",
     "text": [
      "Waiting for deploy to be ready..........."
     ]
    },
    {
     "name": "stderr",
     "output_type": "stream",
     "text": [
      "2024-04-23 10:18:09.812 | INFO     | neomaril_codex.model:get_model:907 - Model Me6ebaa539cb4a738a66fc52fc34b5422a8c6ae3942b4ca1868624cfda964db3 its deployed. Fetching model.\n",
      "2024-04-23 10:18:09.814 | INFO     | neomaril_codex.base:__init__:20 - Loading .env\n",
      "2024-04-23 10:18:09.819 | INFO     | neomaril_codex.base:__init__:31 - Successfully connected to Neomaril\n"
     ]
    }
   ],
   "source": [
    "PATH = './samples/asyncModel/'\n",
    "\n",
    "# Deploying a new model\n",
    "model = client.create_model(\n",
    "    model_name='Teste notebook Async', # model_name\n",
    "    model_reference='score', # name of the scoring function\n",
    "    source_file=PATH+'app.py', # Path of the source file\n",
    "    model_file=PATH+'model.pkl', # Path of the model pkl file, \n",
    "    requirements_file=PATH+'requirements.txt', # Path of the requirements file, \n",
    "    schema=PATH+'schema.csv', # Path of the schema file, but it could be a dict (only required for Sync models)\n",
    "    # env=PATH+'.env'  #  File for env variables (this will be encrypted in the server)\n",
    "    # extra_files=[PATH+'utils.py'], # List with extra files paths that should be uploaded along (they will be all in the same folder)\n",
    "    python_version='3.9', # Can be 3.7 to 3.10\n",
    "    operation=\"Async\", # Can be Sync or Async\n",
    "    input_type='csv',# Can be json or csv or parquet\n",
    "    group='groupname' # Model group (create one using the client)\n",
    ")"
   ]
  },
  {
   "cell_type": "code",
   "execution_count": 12,
   "metadata": {},
   "outputs": [
    {
     "name": "stderr",
     "output_type": "stream",
     "text": [
      "2024-04-23 10:30:43.446 | INFO     | neomaril_codex.model:predict:367 - Execution '5' started. Use the id to check its status.\n",
      "2024-04-23 10:30:43.448 | INFO     | neomaril_codex.base:__init__:20 - Loading .env\n",
      "2024-04-23 10:30:46.321 | INFO     | neomaril_codex.base:__init__:31 - Successfully connected to Neomaril\n",
      "2024-04-23 10:30:46.324 | INFO     | neomaril_codex.base:__init__:279 - Loading .env\n"
     ]
    }
   ],
   "source": [
    "PATH = './samples/asyncModel/'\n",
    "execution = model.predict(data=PATH+'input.csv', group_token='TOKEN')"
   ]
  },
  {
   "cell_type": "code",
   "execution_count": 13,
   "metadata": {},
   "outputs": [
    {
     "data": {
      "text/plain": [
       "{'ModelHash': 'Me6ebaa539cb4a738a66fc52fc34b5422a8c6ae3942b4ca1868624cfda964db3',\n",
       " 'Operation': 'Async',\n",
       " 'PythonVersion': 'Python39',\n",
       " 'Status': 'Deployed',\n",
       " 'Name': 'Teste notebook Async',\n",
       " 'Group': 'groupname',\n",
       " 'UploadedAt': '2024-04-23T13:16:24.977421+00:00',\n",
       " 'ExecutionId': 5,\n",
       " 'RunAt': '2024-04-23T13:30:42.970685+00:00',\n",
       " 'ExecutionState': 'Running',\n",
       " 'ExperimentName': '',\n",
       " 'InputPayload': {'executionType': 'neomaril-runAsync',\n",
       "  'basePath': '/app/store/datarisk/groupname/Me6ebaa539cb4a738a66fc52fc34b5422a8c6ae3942b4ca1868624cfda964db3',\n",
       "  'neomarilExecutionId': '5',\n",
       "  'tenantUser': 'datarisk',\n",
       "  'defaultEnvVars': {'identifier': 'datarisk/groupname/Me6ebaa539cb4a738a66fc52fc34b5422a8c6ae3942b4ca1868624cfda964db3',\n",
       "   'inputFileName': 'input.csv'}},\n",
       " 'OutputPayload': {'outputMessage': [],\n",
       "  'outputPath': '/app/store/datarisk/groupname/Me6ebaa539cb4a738a66fc52fc34b5422a8c6ae3942b4ca1868624cfda964db3/5/output/5.zip'}}"
      ]
     },
     "execution_count": 13,
     "metadata": {},
     "output_type": "execute_result"
    }
   ],
   "source": [
    "execution.execution_data"
   ]
  },
  {
   "cell_type": "code",
   "execution_count": 14,
   "metadata": {},
   "outputs": [
    {
     "data": {
      "text/plain": [
       "{'ExecutionId': '5', 'Status': 'Running', 'Message': None}"
      ]
     },
     "execution_count": 14,
     "metadata": {},
     "output_type": "execute_result"
    }
   ],
   "source": [
    "execution.get_status()"
   ]
  },
  {
   "cell_type": "code",
   "execution_count": 15,
   "metadata": {},
   "outputs": [
    {
     "name": "stderr",
     "output_type": "stream",
     "text": [
      "2024-04-23 10:31:48.131 | INFO     | neomaril_codex.base:download_result:408 - Output saved in ./output.zip\n"
     ]
    }
   ],
   "source": [
    "execution.wait_ready()\n",
    "execution.download_result()"
   ]
  }
 ],
 "metadata": {
  "kernelspec": {
   "display_name": "neomaril-codex-WNTK3WJm",
   "language": "python",
   "name": "python3"
  },
  "language_info": {
   "codemirror_mode": {
    "name": "ipython",
    "version": 3
   },
   "file_extension": ".py",
   "mimetype": "text/x-python",
   "name": "python",
   "nbconvert_exporter": "python",
   "pygments_lexer": "ipython3",
   "version": "3.10.12"
  },
  "vscode": {
   "interpreter": {
    "hash": "d7308033b61508a213f02f142180c32f76fea0bd8e107ff2b0f7849d3585655c"
   }
  }
 },
 "nbformat": 4,
 "nbformat_minor": 2
}
