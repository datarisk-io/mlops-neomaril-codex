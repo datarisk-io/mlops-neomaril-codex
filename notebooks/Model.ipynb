{
 "cells": [
  {
   "cell_type": "markdown",
   "metadata": {},
   "source": [
    "# Neomaril Models\n",
    "\n",
    "This notebook give a exemple on how to use Neomaril to deploy a ML model"
   ]
  },
  {
   "cell_type": "markdown",
   "metadata": {},
   "source": [
    "### NeomarilModelClient\n",
    "\n",
    "It's where you can manage your models"
   ]
  },
  {
   "cell_type": "code",
   "execution_count": 1,
   "metadata": {},
   "outputs": [],
   "source": [
    "# Import the client\n",
    "from neomaril_codex.model import NeomarilModelClient"
   ]
  },
  {
   "cell_type": "code",
   "execution_count": 2,
   "metadata": {},
   "outputs": [
    {
     "name": "stderr",
     "output_type": "stream",
     "text": [
      "2023-05-29 10:50:21.563 | INFO     | neomaril_codex.base:__init__:87 - Loading .env\n",
      "2023-05-29 10:50:21.567 | INFO     | neomaril_codex.base:__init__:99 - Successfully connected to Neomaril\n"
     ]
    },
    {
     "data": {
      "text/plain": [
       "NeomarilModelClient(url=\"http://localhost:7070/api\", version=\"1.0\")"
      ]
     },
     "execution_count": 2,
     "metadata": {},
     "output_type": "execute_result"
    }
   ],
   "source": [
    "# Start the client. We are reading the credentials in the NEOMARIL_TOKEN env variable\n",
    "client = NeomarilModelClient()\n",
    "client"
   ]
  },
  {
   "cell_type": "markdown",
   "metadata": {},
   "source": [
    "## NeomarilModel\n",
    "\n",
    "It's where you can use your model after you fetch it with the client (or created a new one)"
   ]
  },
  {
   "cell_type": "code",
   "execution_count": 3,
   "metadata": {},
   "outputs": [
    {
     "name": "stderr",
     "output_type": "stream",
     "text": [
      "2023-05-29 10:50:21.719 | INFO     | neomaril_codex.model:__upload_model:977 - Model 'Teste notebook Sync' inserted - Hash: \"Mae1f5fee3234133845b9eff16101c67460f39e26dd64a25902c766acda78c28\"\n",
      "2023-05-29 10:50:21.752 | INFO     | neomaril_codex.model:__host_model:1008 - Model host in process - Hash: Mae1f5fee3234133845b9eff16101c67460f39e26dd64a25902c766acda78c28\n"
     ]
    },
    {
     "name": "stdout",
     "output_type": "stream",
     "text": [
      "Wating for deploy to be ready...................."
     ]
    },
    {
     "name": "stderr",
     "output_type": "stream",
     "text": [
      "2023-05-29 10:53:32.107 | INFO     | neomaril_codex.model:get_model:783 - Model Mae1f5fee3234133845b9eff16101c67460f39e26dd64a25902c766acda78c28 its deployed. Fetching model.\n",
      "2023-05-29 10:53:32.108 | INFO     | neomaril_codex.model:__init__:66 - Loading .env\n"
     ]
    }
   ],
   "source": [
    "# Or create a new one\n",
    "\n",
    "PATH = './samples/syncModel/'\n",
    "\n",
    "# Deploying a new model\n",
    "model = client.create_model('Teste notebook Sync', # model_name\n",
    "                            'score', # name of the scoring function\n",
    "                            PATH+'app.py', # Path of the source file\n",
    "                            PATH+'model.pkl', # Path of the model pkl file, \n",
    "                            PATH+'requirements.txt', # Path of the requirements file, \n",
    "                            schema=PATH+'schema.json', # Path of the schema file, but it could be a dict (only required for Sync models)\n",
    "#                           env=PATH+'.env'  #  File for env variables (this will be encrypted in the server)\n",
    "#                           extra_files=[PATH+'utils.py'], # List with extra files paths that should be uploaded along (they will be all in the same folder)\n",
    "                            python_version='3.9', # Can be 3.7 to 3.10\n",
    "                            operation=\"Sync\", # Can be Sync or Async\n",
    "                            group='datarisk' # Model group (create one using the client)\n",
    "                            )"
   ]
  },
  {
   "cell_type": "code",
   "execution_count": 4,
   "metadata": {},
   "outputs": [
    {
     "data": {
      "text/plain": [
       "NeomarilModel(name=\"Teste notebook Sync\", group=\"datarisk\", \n",
       "                                status=\"Deployed\",\n",
       "                                model_id=\"Mae1f5fee3234133845b9eff16101c67460f39e26dd64a25902c766acda78c28\",\n",
       "                                operation=\"Sync\",\n",
       "                                schema={\n",
       "  \"mean_radius\": 17.99,\n",
       "  \"mean_texture\": 10.38,\n",
       "  \"mean_perimeter\": 122.8,\n",
       "  \"mean_area\": 1001.0,\n",
       "  \"mean_smoothness\": 0.1184,\n",
       "  \"mean_compactness\": 0.2776,\n",
       "  \"mean_concavity\": 0.3001,\n",
       "  \"mean_concave_points\": 0.1471,\n",
       "  \"mean_symmetry\": 0.2419,\n",
       "  \"mean_fractal_dimension\": 0.07871,\n",
       "  \"radius_error\": 1.095,\n",
       "  \"texture_error\": 0.9053,\n",
       "  \"perimeter_error\": 8.589,\n",
       "  \"area_error\": 153.4,\n",
       "  \"smoothness_error\": 0.006399,\n",
       "  \"compactness_error\": 0.04904,\n",
       "  \"concavity_error\": 0.05373,\n",
       "  \"concave_points_error\": 0.01587,\n",
       "  \"symmetry_error\": 0.03003,\n",
       "  \"fractal_dimension_error\": 0.006193,\n",
       "  \"worst_radius\": 25.38,\n",
       "  \"worst_texture\": 17.33,\n",
       "  \"worst_perimeter\": 184.6,\n",
       "  \"worst_area\": 2019.0,\n",
       "  \"worst_smoothness\": 0.1622,\n",
       "  \"worst_compactness\": 0.6656,\n",
       "  \"worst_concavity\": 0.7119,\n",
       "  \"worst_concave_points\": 0.2654,\n",
       "  \"worst_symmetry\": 0.4601,\n",
       "  \"worst_fractal_dimension\": 0.1189\n",
       "}\n",
       "                                )"
      ]
     },
     "execution_count": 4,
     "metadata": {},
     "output_type": "execute_result"
    }
   ],
   "source": [
    "model"
   ]
  },
  {
   "cell_type": "code",
   "execution_count": 5,
   "metadata": {},
   "outputs": [
    {
     "name": "stderr",
     "output_type": "stream",
     "text": [
      "2023-05-29 10:53:32.174 | INFO     | neomaril_codex.model:set_token:293 - Token for group datarisk added.\n"
     ]
    }
   ],
   "source": [
    "# set group token for this model (you can also add this token in each .predict call or as a env variable NEOMARIL_GROUP_TOKEN)\n",
    "model.set_token('TODO')"
   ]
  },
  {
   "cell_type": "code",
   "execution_count": 6,
   "metadata": {},
   "outputs": [
    {
     "name": "stdout",
     "output_type": "stream",
     "text": [
      "{'ModelHash': 'Mae1f5fee3234133845b9eff16101c67460f39e26dd64a25902c766acda78c28', 'Operation': 'Sync', 'PythonVersion': 'Python39', 'Status': 'Deployed', 'Name': 'Teste notebook Sync', 'Group': 'datarisk', 'UploadedAt': '2023-05-29T13:50:21.7141130Z', 'Schema': '{\\n  \"mean_radius\": 17.99,\\n  \"mean_texture\": 10.38,\\n  \"mean_perimeter\": 122.8,\\n  \"mean_area\": 1001.0,\\n  \"mean_smoothness\": 0.1184,\\n  \"mean_compactness\": 0.2776,\\n  \"mean_concavity\": 0.3001,\\n  \"mean_concave_points\": 0.1471,\\n  \"mean_symmetry\": 0.2419,\\n  \"mean_fractal_dimension\": 0.07871,\\n  \"radius_error\": 1.095,\\n  \"texture_error\": 0.9053,\\n  \"perimeter_error\": 8.589,\\n  \"area_error\": 153.4,\\n  \"smoothness_error\": 0.006399,\\n  \"compactness_error\": 0.04904,\\n  \"concavity_error\": 0.05373,\\n  \"concave_points_error\": 0.01587,\\n  \"symmetry_error\": 0.03003,\\n  \"fractal_dimension_error\": 0.006193,\\n  \"worst_radius\": 25.38,\\n  \"worst_texture\": 17.33,\\n  \"worst_perimeter\": 184.6,\\n  \"worst_area\": 2019.0,\\n  \"worst_smoothness\": 0.1622,\\n  \"worst_compactness\": 0.6656,\\n  \"worst_concavity\": 0.7119,\\n  \"worst_concave_points\": 0.2654,\\n  \"worst_symmetry\": 0.4601,\\n  \"worst_fractal_dimension\": 0.1189\\n}'}\n",
      "----------------------------------------------------------------------------------------------------\n",
      "Teste notebook Sync\n",
      "----------------------------------------------------------------------------------------------------\n",
      "{\n",
      "  \"mean_radius\": 17.99,\n",
      "  \"mean_texture\": 10.38,\n",
      "  \"mean_perimeter\": 122.8,\n",
      "  \"mean_area\": 1001.0,\n",
      "  \"mean_smoothness\": 0.1184,\n",
      "  \"mean_compactness\": 0.2776,\n",
      "  \"mean_concavity\": 0.3001,\n",
      "  \"mean_concave_points\": 0.1471,\n",
      "  \"mean_symmetry\": 0.2419,\n",
      "  \"mean_fractal_dimension\": 0.07871,\n",
      "  \"radius_error\": 1.095,\n",
      "  \"texture_error\": 0.9053,\n",
      "  \"perimeter_error\": 8.589,\n",
      "  \"area_error\": 153.4,\n",
      "  \"smoothness_error\": 0.006399,\n",
      "  \"compactness_error\": 0.04904,\n",
      "  \"concavity_error\": 0.05373,\n",
      "  \"concave_points_error\": 0.01587,\n",
      "  \"symmetry_error\": 0.03003,\n",
      "  \"fractal_dimension_error\": 0.006193,\n",
      "  \"worst_radius\": 25.38,\n",
      "  \"worst_texture\": 17.33,\n",
      "  \"worst_perimeter\": 184.6,\n",
      "  \"worst_area\": 2019.0,\n",
      "  \"worst_smoothness\": 0.1622,\n",
      "  \"worst_compactness\": 0.6656,\n",
      "  \"worst_concavity\": 0.7119,\n",
      "  \"worst_concave_points\": 0.2654,\n",
      "  \"worst_symmetry\": 0.4601,\n",
      "  \"worst_fractal_dimension\": 0.1189\n",
      "}\n"
     ]
    }
   ],
   "source": [
    "# All the information about the model can be acessed\n",
    "print(model.model_data)\n",
    "print('-'*100)\n",
    "print(model.name)\n",
    "print('-'*100)\n",
    "print(model.schema)"
   ]
  },
  {
   "cell_type": "code",
   "execution_count": 7,
   "metadata": {},
   "outputs": [
    {
     "name": "stdout",
     "output_type": "stream",
     "text": [
      "{'pred': 0, 'proba': 0.005841062869876623}\n",
      "----------------------------------------------------------------------------------------------------\n",
      "{'pred': 0, 'proba': 0.005841062869876623}\n"
     ]
    }
   ],
   "source": [
    "# Run predictions with the predict method, or just call it with the model object\n",
    "print(model.predict(model.schema))\n",
    "print('-'*100)\n",
    "print(model(model.schema))"
   ]
  },
  {
   "cell_type": "code",
   "execution_count": 8,
   "metadata": {},
   "outputs": [
    {
     "name": "stdout",
     "output_type": "stream",
     "text": [
      "http://localhost:7071/api/model/sync/docs/datarisk/Mae1f5fee3234133845b9eff16101c67460f39e26dd64a25902c766acda78c28\n",
      "----------------------------------------------------------------------------------------------------\n",
      "curl --request POST \\\n",
      "                    --url http://localhost:7071/api/model/sync/run/datarisk/Mae1f5fee3234133845b9eff16101c67460f39e26dd64a25902c766acda78c28 \\\n",
      "                    --header 'Authorization: Bearer TODO' \\\n",
      "                    --header 'Content-Type: application/json' \\\n",
      "                    --data '{\"Input\": \"{\\n  \\\"mean_radius\\\": 17.99,\\n  \\\"mean_texture\\\": 10.38,\\n  \\\"mean_perimeter\\\": 122.8,\\n  \\\"mean_area\\\": 1001.0,\\n  \\\"mean_smoothness\\\": 0.1184,\\n  \\\"mean_compactness\\\": 0.2776,\\n  \\\"mean_concavity\\\": 0.3001,\\n  \\\"mean_concave_points\\\": 0.1471,\\n  \\\"mean_symmetry\\\": 0.2419,\\n  \\\"mean_fractal_dimension\\\": 0.07871,\\n  \\\"radius_error\\\": 1.095,\\n  \\\"texture_error\\\": 0.9053,\\n  \\\"perimeter_error\\\": 8.589,\\n  \\\"area_error\\\": 153.4,\\n  \\\"smoothness_error\\\": 0.006399,\\n  \\\"compactness_error\\\": 0.04904,\\n  \\\"concavity_error\\\": 0.05373,\\n  \\\"concave_points_error\\\": 0.01587,\\n  \\\"symmetry_error\\\": 0.03003,\\n  \\\"fractal_dimension_error\\\": 0.006193,\\n  \\\"worst_radius\\\": 25.38,\\n  \\\"worst_texture\\\": 17.33,\\n  \\\"worst_perimeter\\\": 184.6,\\n  \\\"worst_area\\\": 2019.0,\\n  \\\"worst_smoothness\\\": 0.1622,\\n  \\\"worst_compactness\\\": 0.6656,\\n  \\\"worst_concavity\\\": 0.7119,\\n  \\\"worst_concave_points\\\": 0.2654,\\n  \\\"worst_symmetry\\\": 0.4601,\\n  \\\"worst_fractal_dimension\\\": 0.1189\\n}\"}'\n",
      "                \n"
     ]
    }
   ],
   "source": [
    "# Serve your model for external clients\n",
    "print(model.docs)\n",
    "print('-'*100)\n",
    "print(model.generate_predict_code(language='curl'))"
   ]
  },
  {
   "cell_type": "code",
   "execution_count": 9,
   "metadata": {},
   "outputs": [
    {
     "name": "stderr",
     "output_type": "stream",
     "text": [
      "2023-05-29 10:53:33.556 | INFO     | neomaril_codex.model:register_monitoring:575 - Monitoring created - Hash: \"Mae1f5fee3234133845b9eff16101c67460f39e26dd64a25902c766acda78c28\"\n"
     ]
    },
    {
     "data": {
      "text/plain": [
       "'Mae1f5fee3234133845b9eff16101c67460f39e26dd64a25902c766acda78c28'"
      ]
     },
     "execution_count": 9,
     "metadata": {},
     "output_type": "execute_result"
    }
   ],
   "source": [
    "# We can also add a monitoring configuration for the model\n",
    "\n",
    "PATH = './samples/monitoring/'\n",
    "\n",
    "model.register_monitoring('parse', # name of the preprocess function\n",
    "                          'get_shap', # name of the preprocess function\n",
    "                          configuration_file=PATH+'configuration.json', # Path of the configuration file, but it could be a dict\n",
    "                          preprocess_file=PATH+'preprocess_sync.py', # Path of the preprocess script\n",
    "                          requirements_file=PATH+'requirements.txt' # Path of the requirements file                        \n",
    ")"
   ]
  },
  {
   "cell_type": "markdown",
   "metadata": {},
   "source": [
    "### NeomarilAsyncModelExecution\n",
    "We can create async models as well to send bigger data to predict"
   ]
  },
  {
   "cell_type": "code",
   "execution_count": 10,
   "metadata": {},
   "outputs": [
    {
     "name": "stderr",
     "output_type": "stream",
     "text": [
      "2023-05-29 10:53:33.682 | INFO     | neomaril_codex.model:__upload_model:977 - Model 'Teste notebook Async' inserted - Hash: \"M2115b3e8d4f4736b63c23e657a83e1eb54ed632bbe548d0ad3572ee6d0b7f1f\"\n",
      "2023-05-29 10:53:33.709 | INFO     | neomaril_codex.model:__host_model:1008 - Model host in process - Hash: M2115b3e8d4f4736b63c23e657a83e1eb54ed632bbe548d0ad3572ee6d0b7f1f\n"
     ]
    },
    {
     "name": "stdout",
     "output_type": "stream",
     "text": [
      "Wating for deploy to be ready......................................."
     ]
    },
    {
     "name": "stderr",
     "output_type": "stream",
     "text": [
      "2023-05-29 10:59:54.507 | INFO     | neomaril_codex.model:get_model:783 - Model M2115b3e8d4f4736b63c23e657a83e1eb54ed632bbe548d0ad3572ee6d0b7f1f its deployed. Fetching model.\n",
      "2023-05-29 10:59:54.509 | INFO     | neomaril_codex.model:__init__:66 - Loading .env\n"
     ]
    }
   ],
   "source": [
    "PATH = './samples/asyncModel/'\n",
    "\n",
    "# Deploying a new model\n",
    "model = client.create_model('Teste notebook Async', # model_name\n",
    "                            'score', # name of the scoring function\n",
    "                            PATH+'app.py', # Path of the source file\n",
    "                            PATH+'model.pkl', # Path of the model pkl file, \n",
    "                            PATH+'requirements.txt', # Path of the requirements file, \n",
    "#                           env=PATH+'.env'  #  File for env variables (this will be encrypted in the server)\n",
    "#                           extra_files=[PATH+'utils.py'], # List with extra files paths that should be uploaded along (they will be all in the same folder)\n",
    "                            python_version='3.9', # Can be 3.7 to 3.10\n",
    "                            operation=\"Async\", # Can be Sync or Async\n",
    "                            input_type='csv',# Can be json or csv or parquet\n",
    "                            group='datarisk' # Model group (create one using the client)\n",
    "                            )"
   ]
  },
  {
   "cell_type": "code",
   "execution_count": 11,
   "metadata": {},
   "outputs": [
    {
     "name": "stderr",
     "output_type": "stream",
     "text": [
      "2023-05-29 10:59:55.076 | INFO     | neomaril_codex.model:predict:344 - Execution 3 started. Use the id to check its status.\n"
     ]
    }
   ],
   "source": [
    "PATH = './samples/asyncModel/'\n",
    "execution = model.predict(PATH+'input.csv', group_token='TODO')"
   ]
  },
  {
   "cell_type": "code",
   "execution_count": 12,
   "metadata": {},
   "outputs": [
    {
     "data": {
      "text/plain": [
       "{'ModelHash': 'M2115b3e8d4f4736b63c23e657a83e1eb54ed632bbe548d0ad3572ee6d0b7f1f',\n",
       " 'Operation': 'Async',\n",
       " 'PythonVersion': 'Python39',\n",
       " 'Status': 'Deployed',\n",
       " 'Name': 'Teste notebook Async',\n",
       " 'Group': 'datarisk',\n",
       " 'UploadedAt': '2023-05-29T13:53:33.6776970Z',\n",
       " 'Schema': '{}',\n",
       " 'ExecutionId': 3,\n",
       " 'RunAt': '2023-05-29T13:59:54.5894450Z',\n",
       " 'ExecutionState': 'Running',\n",
       " 'InputPayload': '{\\n    \"executionType\": \"neomaril-runAsync\",\\n    \"basePath\": \"/app/store/datarisk/M2115b3e8d4f4736b63c23e657a83e1eb54ed632bbe548d0ad3572ee6d0b7f1f\",\\n    \"neomarilExecutionId\": \"3\",\\n    \"defaultEnvVars\": {\\n        \"inputFileName\": \"input.csv\"\\n    }\\n}',\n",
       " 'OutputPayload': '{\\n    \"outputMessage\": [],\\n    \"outputPath\": \"/app/store/datarisk/M2115b3e8d4f4736b63c23e657a83e1eb54ed632bbe548d0ad3572ee6d0b7f1f/3/output/3.zip\"\\n}'}"
      ]
     },
     "execution_count": 12,
     "metadata": {},
     "output_type": "execute_result"
    }
   ],
   "source": [
    "execution.execution_data"
   ]
  },
  {
   "cell_type": "code",
   "execution_count": 13,
   "metadata": {},
   "outputs": [
    {
     "data": {
      "text/plain": [
       "{'modelExecutionId': '3', 'Status': 'Running', 'Message': None}"
      ]
     },
     "execution_count": 13,
     "metadata": {},
     "output_type": "execute_result"
    }
   ],
   "source": [
    "execution.get_status()"
   ]
  },
  {
   "cell_type": "code",
   "execution_count": 14,
   "metadata": {},
   "outputs": [
    {
     "name": "stderr",
     "output_type": "stream",
     "text": [
      "2023-05-29 10:59:55.626 | INFO     | neomaril_codex.base:download_result:380 - Execution not ready. Status is Running\n"
     ]
    }
   ],
   "source": [
    "execution.download_result()"
   ]
  }
 ],
 "metadata": {
  "kernelspec": {
   "display_name": "neomaril-codex-WNTK3WJm",
   "language": "python",
   "name": "python3"
  },
  "language_info": {
   "codemirror_mode": {
    "name": "ipython",
    "version": 3
   },
   "file_extension": ".py",
   "mimetype": "text/x-python",
   "name": "python",
   "nbconvert_exporter": "python",
   "pygments_lexer": "ipython3",
   "version": "3.10.6"
  },
  "vscode": {
   "interpreter": {
    "hash": "d7308033b61508a213f02f142180c32f76fea0bd8e107ff2b0f7849d3585655c"
   }
  }
 },
 "nbformat": 4,
 "nbformat_minor": 2
}
