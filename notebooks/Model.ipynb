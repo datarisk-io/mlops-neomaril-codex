{
 "cells": [
  {
   "cell_type": "markdown",
   "metadata": {},
   "source": [
    "# Neomaril Models\n",
    "\n",
    "This notebook give a exemple on how to use Neomaril to deploy a ML model"
   ]
  },
  {
   "cell_type": "markdown",
   "metadata": {},
   "source": [
    "### NeomarilModelClient\n",
    "\n",
    "It's where you can manage your models"
   ]
  },
  {
   "cell_type": "code",
   "execution_count": 1,
   "metadata": {},
   "outputs": [],
   "source": [
    "# Import the client\n",
    "from neomaril_codex.model import NeomarilModelClient"
   ]
  },
  {
   "cell_type": "code",
   "execution_count": 2,
   "metadata": {},
   "outputs": [
    {
     "name": "stderr",
     "output_type": "stream",
     "text": [
      "2023-01-31 15:45:13.100 | INFO     | neomaril_codex._base:__init__:74 - You are using the test enviroment that will have the data cleaned from time to time. If your model is ready to use change the flag test_enviroment to False\n",
      "2023-01-31 15:45:13.105 | INFO     | neomaril_codex._base:__init__:83 - Successfully connected to Neomaril\n"
     ]
    },
    {
     "data": {
      "text/plain": [
       "NeomarilModelClient(enviroment=\"Staging\", version=\"1.0\")"
      ]
     },
     "execution_count": 2,
     "metadata": {},
     "output_type": "execute_result"
    }
   ],
   "source": [
    "# Start the client\n",
    "token='123'\n",
    "\n",
    "client = NeomarilModelClient(token)\n",
    "client"
   ]
  },
  {
   "cell_type": "code",
   "execution_count": 3,
   "metadata": {},
   "outputs": [
    {
     "data": {
      "text/plain": [
       "{'ModelHash': 'M1100ad7286a45e0977bfd3acb4a17b65132411599934a77920ed51d44bad8b3',\n",
       " 'Operation': 'Sync',\n",
       " 'PythonVersion': 'Python39',\n",
       " 'Status': 'Deployed',\n",
       " 'Name': 'Teste notebook promoted custom',\n",
       " 'Group': 'datarisk',\n",
       " 'UploadedAt': '2023-01-31T15:22:51.4294670Z',\n",
       " 'Schema': {'mean radius': 17.99,\n",
       "  'mean texture': 10.38,\n",
       "  'mean perimeter': 122.8,\n",
       "  'mean area': 1001.0,\n",
       "  'mean smoothness': 0.1184,\n",
       "  'mean compactness': 0.2776,\n",
       "  'mean concavity': 0.3001,\n",
       "  'mean concave points': 0.1471,\n",
       "  'mean symmetry': 0.2419,\n",
       "  'mean fractal dimension': 0.07871,\n",
       "  'radius error': 1.095,\n",
       "  'texture error': 0.9053,\n",
       "  'perimeter error': 8.589,\n",
       "  'area error': 153.4,\n",
       "  'smoothness error': 0.006399,\n",
       "  'compactness error': 0.04904,\n",
       "  'concavity error': 0.05373,\n",
       "  'concave points error': 0.01587,\n",
       "  'symmetry error': 0.03003,\n",
       "  'fractal dimension error': 0.006193,\n",
       "  'worst radius': 25.38,\n",
       "  'worst texture': 17.33,\n",
       "  'worst perimeter': 184.6,\n",
       "  'worst area': 2019.0,\n",
       "  'worst smoothness': 0.1622,\n",
       "  'worst compactness': 0.6656,\n",
       "  'worst concavity': 0.7119,\n",
       "  'worst concave points': 0.2654,\n",
       "  'worst symmetry': 0.4601,\n",
       "  'worst fractal dimension': 0.1189}}"
      ]
     },
     "execution_count": 3,
     "metadata": {},
     "output_type": "execute_result"
    }
   ],
   "source": [
    "# List existing models\n",
    "model_list = client.search_models(name=\"Teste\", # This runs a LIKE query in the models names. Can search by state or group either.\n",
    "                                  only_deployed=True # Only shows models that are fully deployed\n",
    "                                  )\n",
    "\n",
    "# This method returns a list, checking the first element\n",
    "model_list[0]"
   ]
  },
  {
   "cell_type": "markdown",
   "metadata": {},
   "source": [
    "## NeomarilModel\n",
    "\n",
    "It's where you can use your model after you fetch it with the client (or created a new one)"
   ]
  },
  {
   "cell_type": "code",
   "execution_count": 4,
   "metadata": {},
   "outputs": [
    {
     "name": "stderr",
     "output_type": "stream",
     "text": [
      "2023-01-31 15:45:13.266 | INFO     | neomaril_codex.model:get_model:321 - Model M02f91736d3d4e6cb87042c06e77105fcb96e1226d264f579a79d5d8f2f1239d its deployed. Fetching model.\n"
     ]
    },
    {
     "data": {
      "text/plain": [
       "NeomarilModel(name=\"Teste notebook Sync\", group=\"datarisk\", \n",
       "                                status=\"Deployed\", enviroment=\"Staging\"\n",
       "                                model_id=\"M02f91736d3d4e6cb87042c06e77105fcb96e1226d264f579a79d5d8f2f1239d\",\n",
       "                                operation=\"Sync\",\n",
       "                                schema={\n",
       "  \"mean radius\": 17.99,\n",
       "  \"mean texture\": 10.38,\n",
       "  \"mean perimeter\": 122.8,\n",
       "  \"mean area\": 1001.0,\n",
       "  \"mean smoothness\": 0.1184,\n",
       "  \"mean compactness\": 0.2776,\n",
       "  \"mean concavity\": 0.3001,\n",
       "  \"mean concave points\": 0.1471,\n",
       "  \"mean symmetry\": 0.2419,\n",
       "  \"mean fractal dimension\": 0.07871,\n",
       "  \"radius error\": 1.095,\n",
       "  \"texture error\": 0.9053,\n",
       "  \"perimeter error\": 8.589,\n",
       "  \"area error\": 153.4,\n",
       "  \"smoothness error\": 0.006399,\n",
       "  \"compactness error\": 0.04904,\n",
       "  \"concavity error\": 0.05373,\n",
       "  \"concave points error\": 0.01587,\n",
       "  \"symmetry error\": 0.03003,\n",
       "  \"fractal dimension error\": 0.006193,\n",
       "  \"worst radius\": 25.38,\n",
       "  \"worst texture\": 17.33,\n",
       "  \"worst perimeter\": 184.6,\n",
       "  \"worst area\": 2019.0,\n",
       "  \"worst smoothness\": 0.1622,\n",
       "  \"worst compactness\": 0.6656,\n",
       "  \"worst concavity\": 0.7119,\n",
       "  \"worst concave points\": 0.2654,\n",
       "  \"worst symmetry\": 0.4601,\n",
       "  \"worst fractal dimension\": 0.1189\n",
       "}\n",
       "                                )"
      ]
     },
     "execution_count": 4,
     "metadata": {},
     "output_type": "execute_result"
    }
   ],
   "source": [
    "# Gets a existing model from its hash and set group token\n",
    "client.get_model('M02f91736d3d4e6cb87042c06e77105fcb96e1226d264f579a79d5d8f2f1239d', group_token='xxxx')"
   ]
  },
  {
   "cell_type": "code",
   "execution_count": 5,
   "metadata": {},
   "outputs": [
    {
     "name": "stderr",
     "output_type": "stream",
     "text": [
      "2023-01-31 15:45:13.333 | INFO     | neomaril_codex.model:create_model:514 - Group not informed, using default 'datarisk' group\n",
      "2023-01-31 15:45:13.362 | INFO     | neomaril_codex.model:__upload_model:444 - Model 'Teste notebook Sync' inserted - Hash: \"M98724ef9e3a41958511c92aaee88284060e050257954ad99d50314703b6a86c\"\n",
      "2023-01-31 15:45:13.416 | INFO     | neomaril_codex.model:__host_model:468 - Model host in process - Hash: M98724ef9e3a41958511c92aaee88284060e050257954ad99d50314703b6a86c\n"
     ]
    },
    {
     "name": "stdout",
     "output_type": "stream",
     "text": [
      "Wating for deploy to be ready............"
     ]
    },
    {
     "name": "stderr",
     "output_type": "stream",
     "text": [
      "2023-01-31 15:47:03.603 | INFO     | neomaril_codex.model:get_model:321 - Model M98724ef9e3a41958511c92aaee88284060e050257954ad99d50314703b6a86c its deployed. Fetching model.\n"
     ]
    }
   ],
   "source": [
    "# Or create a new one\n",
    "\n",
    "PATH = './samples/syncModel/'\n",
    "\n",
    "# Deploying a new model\n",
    "model = client.create_model('Teste notebook Sync', # model_name\n",
    "                            'score', # name of the scoring function\n",
    "                            PATH+'app.py', # Path of the source file\n",
    "                            PATH+'model.pkl', # Path of the model pkl file, \n",
    "                            PATH+'requirements.txt', # Path of the requirements file, \n",
    "                            PATH+'schema.json', # Path of the schema file, but it could be a dict\n",
    "#                           env=PATH+'.env'  #  File for env variables (this will be encrypted in the server)\n",
    "#                           extra_files=[PATH+'utils.py'], # List with extra files paths that should be uploaded along (they will be all in the same folder)\n",
    "                            python_version='3.9', # Can be 3.7 to 3.10\n",
    "                            operation=\"Sync\" # Can be Sync or Async\n",
    "                            )"
   ]
  },
  {
   "cell_type": "code",
   "execution_count": 6,
   "metadata": {},
   "outputs": [
    {
     "data": {
      "text/plain": [
       "NeomarilModel(name=\"Teste notebook Sync\", group=\"datarisk\", \n",
       "                                status=\"Deployed\", enviroment=\"Staging\"\n",
       "                                model_id=\"M98724ef9e3a41958511c92aaee88284060e050257954ad99d50314703b6a86c\",\n",
       "                                operation=\"Sync\",\n",
       "                                schema={\n",
       "  \"mean radius\": 17.99,\n",
       "  \"mean texture\": 10.38,\n",
       "  \"mean perimeter\": 122.8,\n",
       "  \"mean area\": 1001.0,\n",
       "  \"mean smoothness\": 0.1184,\n",
       "  \"mean compactness\": 0.2776,\n",
       "  \"mean concavity\": 0.3001,\n",
       "  \"mean concave points\": 0.1471,\n",
       "  \"mean symmetry\": 0.2419,\n",
       "  \"mean fractal dimension\": 0.07871,\n",
       "  \"radius error\": 1.095,\n",
       "  \"texture error\": 0.9053,\n",
       "  \"perimeter error\": 8.589,\n",
       "  \"area error\": 153.4,\n",
       "  \"smoothness error\": 0.006399,\n",
       "  \"compactness error\": 0.04904,\n",
       "  \"concavity error\": 0.05373,\n",
       "  \"concave points error\": 0.01587,\n",
       "  \"symmetry error\": 0.03003,\n",
       "  \"fractal dimension error\": 0.006193,\n",
       "  \"worst radius\": 25.38,\n",
       "  \"worst texture\": 17.33,\n",
       "  \"worst perimeter\": 184.6,\n",
       "  \"worst area\": 2019.0,\n",
       "  \"worst smoothness\": 0.1622,\n",
       "  \"worst compactness\": 0.6656,\n",
       "  \"worst concavity\": 0.7119,\n",
       "  \"worst concave points\": 0.2654,\n",
       "  \"worst symmetry\": 0.4601,\n",
       "  \"worst fractal dimension\": 0.1189\n",
       "}\n",
       "                                )"
      ]
     },
     "execution_count": 6,
     "metadata": {},
     "output_type": "execute_result"
    }
   ],
   "source": [
    "model"
   ]
  },
  {
   "cell_type": "code",
   "execution_count": 7,
   "metadata": {},
   "outputs": [
    {
     "name": "stderr",
     "output_type": "stream",
     "text": [
      "2023-01-31 15:47:03.749 | INFO     | neomaril_codex.model:set_token:114 - Token for group datarisk added.\n"
     ]
    }
   ],
   "source": [
    "# set group token for this model (you can also add this token in each .predict call)\n",
    "model.set_token('xxxx')"
   ]
  },
  {
   "cell_type": "code",
   "execution_count": 8,
   "metadata": {},
   "outputs": [
    {
     "name": "stdout",
     "output_type": "stream",
     "text": [
      "{'ModelHash': 'M98724ef9e3a41958511c92aaee88284060e050257954ad99d50314703b6a86c', 'Operation': 'Sync', 'PythonVersion': 'Python39', 'Status': 'Deployed', 'Name': 'Teste notebook Sync', 'Group': 'datarisk', 'UploadedAt': '2023-01-31T18:45:13.3584400Z', 'Schema': '{\\n  \"mean radius\": 17.99,\\n  \"mean texture\": 10.38,\\n  \"mean perimeter\": 122.8,\\n  \"mean area\": 1001.0,\\n  \"mean smoothness\": 0.1184,\\n  \"mean compactness\": 0.2776,\\n  \"mean concavity\": 0.3001,\\n  \"mean concave points\": 0.1471,\\n  \"mean symmetry\": 0.2419,\\n  \"mean fractal dimension\": 0.07871,\\n  \"radius error\": 1.095,\\n  \"texture error\": 0.9053,\\n  \"perimeter error\": 8.589,\\n  \"area error\": 153.4,\\n  \"smoothness error\": 0.006399,\\n  \"compactness error\": 0.04904,\\n  \"concavity error\": 0.05373,\\n  \"concave points error\": 0.01587,\\n  \"symmetry error\": 0.03003,\\n  \"fractal dimension error\": 0.006193,\\n  \"worst radius\": 25.38,\\n  \"worst texture\": 17.33,\\n  \"worst perimeter\": 184.6,\\n  \"worst area\": 2019.0,\\n  \"worst smoothness\": 0.1622,\\n  \"worst compactness\": 0.6656,\\n  \"worst concavity\": 0.7119,\\n  \"worst concave points\": 0.2654,\\n  \"worst symmetry\": 0.4601,\\n  \"worst fractal dimension\": 0.1189\\n}'}\n",
      "----------------------------------------------------------------------------------------------------\n",
      "Teste notebook Sync\n",
      "----------------------------------------------------------------------------------------------------\n",
      "{\n",
      "  \"mean radius\": 17.99,\n",
      "  \"mean texture\": 10.38,\n",
      "  \"mean perimeter\": 122.8,\n",
      "  \"mean area\": 1001.0,\n",
      "  \"mean smoothness\": 0.1184,\n",
      "  \"mean compactness\": 0.2776,\n",
      "  \"mean concavity\": 0.3001,\n",
      "  \"mean concave points\": 0.1471,\n",
      "  \"mean symmetry\": 0.2419,\n",
      "  \"mean fractal dimension\": 0.07871,\n",
      "  \"radius error\": 1.095,\n",
      "  \"texture error\": 0.9053,\n",
      "  \"perimeter error\": 8.589,\n",
      "  \"area error\": 153.4,\n",
      "  \"smoothness error\": 0.006399,\n",
      "  \"compactness error\": 0.04904,\n",
      "  \"concavity error\": 0.05373,\n",
      "  \"concave points error\": 0.01587,\n",
      "  \"symmetry error\": 0.03003,\n",
      "  \"fractal dimension error\": 0.006193,\n",
      "  \"worst radius\": 25.38,\n",
      "  \"worst texture\": 17.33,\n",
      "  \"worst perimeter\": 184.6,\n",
      "  \"worst area\": 2019.0,\n",
      "  \"worst smoothness\": 0.1622,\n",
      "  \"worst compactness\": 0.6656,\n",
      "  \"worst concavity\": 0.7119,\n",
      "  \"worst concave points\": 0.2654,\n",
      "  \"worst symmetry\": 0.4601,\n",
      "  \"worst fractal dimension\": 0.1189\n",
      "}\n"
     ]
    }
   ],
   "source": [
    "# All the information about the model can be acessed\n",
    "print(model.model_data)\n",
    "print('-'*100)\n",
    "print(model.name)\n",
    "print('-'*100)\n",
    "print(model.schema)"
   ]
  },
  {
   "cell_type": "code",
   "execution_count": 9,
   "metadata": {},
   "outputs": [
    {
     "name": "stdout",
     "output_type": "stream",
     "text": [
      "{'error': {'message': 'InvalidBearerToken: The token provided is not seen as valid.'}}\n",
      "----------------------------------------------------------------------------------------------------\n",
      "{'error': {'message': 'InvalidBearerToken: The token provided is not seen as valid.'}}\n"
     ]
    }
   ],
   "source": [
    "# Run predictions with the predict method, or just call it with the model object\n",
    "print(model.predict(model.schema))\n",
    "print('-'*100)\n",
    "print(model(model.schema))"
   ]
  },
  {
   "cell_type": "code",
   "execution_count": 20,
   "metadata": {},
   "outputs": [
    {
     "data": {
      "text/plain": [
       "{'Results': [{'ModelHash': 'M9c3af308c754ee7b96b2f4a273984414d40a33be90242908f9fc4aa28ba8ec4',\n",
       "   'RegisteredAt': '2023-01-31T16:06:45.5955220Z',\n",
       "   'OutputType': 'Ok',\n",
       "   'OutputData': '',\n",
       "   'Routine': 'Run'}]}"
      ]
     },
     "execution_count": 20,
     "metadata": {},
     "output_type": "execute_result"
    }
   ],
   "source": [
    "model.get_logs(routine='Run')"
   ]
  },
  {
   "cell_type": "code",
   "execution_count": 11,
   "metadata": {},
   "outputs": [
    {
     "name": "stderr",
     "output_type": "stream",
     "text": [
      "2023-01-31 15:47:04.074 | INFO     | neomaril_codex.model:register_monitoring:231 - Monitoring created - Hash: \"M98724ef9e3a41958511c92aaee88284060e050257954ad99d50314703b6a86c\"\n"
     ]
    },
    {
     "data": {
      "text/plain": [
       "'M98724ef9e3a41958511c92aaee88284060e050257954ad99d50314703b6a86c'"
      ]
     },
     "execution_count": 11,
     "metadata": {},
     "output_type": "execute_result"
    }
   ],
   "source": [
    "# We can also add a monitoring configuration for the model\n",
    "\n",
    "PATH = './samples/monitoring/'\n",
    "\n",
    "model.register_monitoring('parse', # name of the preprocess function\n",
    "                          'get_shap', # name of the preprocess function\n",
    "                          configuration_file=PATH+'configuration.json', # Path of the configuration file, but it could be a dict\n",
    "                          preprocess_file=PATH+'preprocess.py', # Path of the preprocess script\n",
    "                          requirements_file=PATH+'requirements.txt' # Path of the requirements file                        \n",
    ")"
   ]
  },
  {
   "cell_type": "markdown",
   "metadata": {},
   "source": [
    "### NeomarilAsyncModelExecution\n",
    "We can create async models as well to send bigger data to predict"
   ]
  },
  {
   "cell_type": "code",
   "execution_count": 12,
   "metadata": {},
   "outputs": [
    {
     "name": "stderr",
     "output_type": "stream",
     "text": [
      "2023-01-31 15:47:04.124 | INFO     | neomaril_codex.model:create_model:514 - Group not informed, using default 'datarisk' group\n",
      "2023-01-31 15:47:04.144 | INFO     | neomaril_codex.model:__upload_model:444 - Model 'Teste notebook Async' inserted - Hash: \"M9c3af308c754ee7b96b2f4a273984414d40a33be90242908f9fc4aa28ba8ec4\"\n",
      "2023-01-31 15:47:04.159 | INFO     | neomaril_codex.model:__host_model:468 - Model host in process - Hash: M9c3af308c754ee7b96b2f4a273984414d40a33be90242908f9fc4aa28ba8ec4\n"
     ]
    },
    {
     "name": "stdout",
     "output_type": "stream",
     "text": [
      "Wating for deploy to be ready..............."
     ]
    },
    {
     "name": "stderr",
     "output_type": "stream",
     "text": [
      "2023-01-31 15:49:24.452 | INFO     | neomaril_codex.model:get_model:321 - Model M9c3af308c754ee7b96b2f4a273984414d40a33be90242908f9fc4aa28ba8ec4 its deployed. Fetching model.\n"
     ]
    }
   ],
   "source": [
    "PATH = './samples/asyncModel/'\n",
    "\n",
    "# Deploying a new model\n",
    "model = client.create_model('Teste notebook Async', # model_name\n",
    "                            'score', # name of the scoring function\n",
    "                            PATH+'app.py', # Path of the source file\n",
    "                            PATH+'model.pkl', # Path of the model pkl file, \n",
    "                            PATH+'requirements.txt', # Path of the requirements file, \n",
    "#                           env=PATH+'.env'  #  File for env variables (this will be encrypted in the server)\n",
    "#                           extra_files=[PATH+'utils.py'], # List with extra files paths that should be uploaded along (they will be all in the same folder)\n",
    "                            python_version='3.9', # Can be 3.7 to 3.10\n",
    "                            operation=\"Async\", # Can be Sync or Async\n",
    "                            input_type='csv'# Can be json or csv or parquet\n",
    "                            )"
   ]
  },
  {
   "cell_type": "code",
   "execution_count": 13,
   "metadata": {},
   "outputs": [
    {
     "name": "stderr",
     "output_type": "stream",
     "text": [
      "2023-01-31 15:49:25.070 | INFO     | neomaril_codex.model:predict:154 - Execution 3 started. Use the id to check its status.\n"
     ]
    }
   ],
   "source": [
    "execution = model.predict(PATH+'input.csv', group_token='TODO')"
   ]
  },
  {
   "cell_type": "code",
   "execution_count": 14,
   "metadata": {},
   "outputs": [
    {
     "data": {
      "text/plain": [
       "{'ModelHash': 'M9c3af308c754ee7b96b2f4a273984414d40a33be90242908f9fc4aa28ba8ec4',\n",
       " 'Operation': 'Async',\n",
       " 'PythonVersion': 'Python39',\n",
       " 'Status': 'Requested',\n",
       " 'Name': 'Teste notebook Async',\n",
       " 'Group': 'datarisk',\n",
       " 'UploadedAt': '2023-01-31T18:47:04.1406680Z',\n",
       " 'Schema': '{}',\n",
       " 'ExecutionId': 3,\n",
       " 'RunAt': '2023-01-31T18:49:24.5569460Z',\n",
       " 'ExecutionState': 'Running',\n",
       " 'InputPayload': '{\\n    \"executionType\": \"neomaril-runAsync\",\\n    \"basePath\": \"/app/store/datarisk/M9c3af308c754ee7b96b2f4a273984414d40a33be90242908f9fc4aa28ba8ec4\",\\n    \"neomarilExecutionId\": \"3\"\\n}',\n",
       " 'OutputPayload': '{\\n    \"outputMessage\": [],\\n    \"outputPath\": \"/app/store/datarisk/M9c3af308c754ee7b96b2f4a273984414d40a33be90242908f9fc4aa28ba8ec4/3/output/3.zip\"\\n}'}"
      ]
     },
     "execution_count": 14,
     "metadata": {},
     "output_type": "execute_result"
    }
   ],
   "source": [
    "execution.execution_data"
   ]
  },
  {
   "cell_type": "code",
   "execution_count": 15,
   "metadata": {},
   "outputs": [
    {
     "data": {
      "text/plain": [
       "{'modelExecutionId': '3', 'Status': 'Running', 'Message': None}"
      ]
     },
     "execution_count": 15,
     "metadata": {},
     "output_type": "execute_result"
    }
   ],
   "source": [
    "execution.get_status()"
   ]
  },
  {
   "cell_type": "code",
   "execution_count": 17,
   "metadata": {},
   "outputs": [
    {
     "name": "stderr",
     "output_type": "stream",
     "text": [
      "2023-01-31 15:52:20.426 | INFO     | neomaril_codex._base:download_result:261 - Output saved in ./output_3.zip\n"
     ]
    }
   ],
   "source": [
    "execution.download_result()"
   ]
  }
 ],
 "metadata": {
  "kernelspec": {
   "display_name": "neomaril-codex-WNTK3WJm",
   "language": "python",
   "name": "python3"
  },
  "language_info": {
   "codemirror_mode": {
    "name": "ipython",
    "version": 3
   },
   "file_extension": ".py",
   "mimetype": "text/x-python",
   "name": "python",
   "nbconvert_exporter": "python",
   "pygments_lexer": "ipython3",
   "version": "3.10.6"
  },
  "vscode": {
   "interpreter": {
    "hash": "d7308033b61508a213f02f142180c32f76fea0bd8e107ff2b0f7849d3585655c"
   }
  }
 },
 "nbformat": 4,
 "nbformat_minor": 2
}
