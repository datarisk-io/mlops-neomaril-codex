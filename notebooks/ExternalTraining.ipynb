{
 "cells": [
  {
   "cell_type": "code",
   "execution_count": null,
   "id": "c8ed62ca-2c65-4e94-ae9f-c8f544a28559",
   "metadata": {},
   "outputs": [],
   "source": [
    "from neomaril_codex.training import NeomarilTrainingClient"
   ]
  },
  {
   "cell_type": "code",
   "execution_count": null,
   "id": "07cf6a07",
   "metadata": {},
   "outputs": [],
   "source": [
    "client = NeomarilTrainingClient()\n",
    "client"
   ]
  },
  {
   "cell_type": "code",
   "execution_count": null,
   "id": "56130f1d-3236-4c5f-9586-c421f17b2fac",
   "metadata": {},
   "outputs": [],
   "source": [
    "training = client.create_training_experiment('Teste', 'Classification', 'External', group='datarisk')"
   ]
  },
  {
   "cell_type": "code",
   "execution_count": null,
   "id": "c03ed658",
   "metadata": {},
   "outputs": [],
   "source": [
    "import pandas as pd\n",
    "from lightgbm import LGBMClassifier\n",
    "from sklearn.impute import SimpleImputer\n",
    "from sklearn.pipeline import make_pipeline\n",
    "from sklearn.model_selection import cross_val_score"
   ]
  },
  {
   "cell_type": "code",
   "execution_count": null,
   "id": "ad6e7aa2",
   "metadata": {},
   "outputs": [],
   "source": [
    "base_path = './samples/train/'"
   ]
  },
  {
   "cell_type": "code",
   "execution_count": null,
   "id": "8eb52df7",
   "metadata": {},
   "outputs": [],
   "source": [
    "df = pd.read_csv(base_path+\"/dados.csv\")"
   ]
  },
  {
   "cell_type": "code",
   "execution_count": null,
   "id": "586d0b45",
   "metadata": {},
   "outputs": [],
   "source": [
    "X = df.drop(columns=['target'])\n",
    "y = df[[\"target\"]]"
   ]
  },
  {
   "cell_type": "code",
   "execution_count": null,
   "id": "76ddf2ec",
   "metadata": {},
   "outputs": [],
   "source": [
    "pipe = make_pipeline(SimpleImputer(), LGBMClassifier(force_col_wise=True))"
   ]
  },
  {
   "cell_type": "code",
   "execution_count": null,
   "id": "f06e5e57",
   "metadata": {},
   "outputs": [],
   "source": [
    "with training.log_train('Teste 1', X, y) as logger:\n",
    "    pipe.fit(X, y)\n",
    "    logger.save_model(pipe)\n",
    "\n",
    "    params = pipe.get_params()\n",
    "    params.pop('steps')\n",
    "    params.pop('simpleimputer')\n",
    "    params.pop('lgbmclassifier')\n",
    "    logger.save_params(params)\n",
    "\n",
    "    model_output = pd.DataFrame({\"pred\": pipe.predict(X), \"proba\": pipe.predict_proba(X)[:,1]})\n",
    "    logger.save_model_output(model_output)\n",
    "\n",
    "    auc = cross_val_score(pipe, X, y, cv=5, scoring=\"roc_auc\")\n",
    "    f_score = cross_val_score(pipe, X, y, cv=5, scoring=\"f1\")\n",
    "    logger.save_metric(name='auc', value=auc.mean())\n",
    "    logger.save_metric(name='f1_score', value=f_score.mean())\n",
    "\n",
    "    logger.set_python_version('3.10')"
   ]
  }
 ],
 "metadata": {
  "kernelspec": {
   "display_name": "Python 3 (ipykernel)",
   "language": "python",
   "name": "python3"
  },
  "language_info": {
   "codemirror_mode": {
    "name": "ipython",
    "version": 3
   },
   "file_extension": ".py",
   "mimetype": "text/x-python",
   "name": "python",
   "nbconvert_exporter": "python",
   "pygments_lexer": "ipython3",
   "version": "3.10.12"
  }
 },
 "nbformat": 4,
 "nbformat_minor": 5
}
