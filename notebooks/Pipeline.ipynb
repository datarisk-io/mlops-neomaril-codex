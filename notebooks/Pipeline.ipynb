{
 "cells": [
  {
   "attachments": {},
   "cell_type": "markdown",
   "metadata": {},
   "source": [
    "# Neomaril Pipeline\n",
    "\n",
    "This notebook give a exemple on how to use Neomaril as a pipeline tool"
   ]
  },
  {
   "attachments": {},
   "cell_type": "markdown",
   "metadata": {},
   "source": [
    "### NeomarilPipeline\n",
    "\n",
    "It's where you can configure your model pipeline"
   ]
  },
  {
   "cell_type": "code",
   "execution_count": 1,
   "metadata": {},
   "outputs": [],
   "source": [
    "from neomaril_codex.pipeline import NeomarilPipeline"
   ]
  },
  {
   "cell_type": "code",
   "execution_count": 2,
   "metadata": {},
   "outputs": [
    {
     "name": "stderr",
     "output_type": "stream",
     "text": [
      "2023-02-17 16:31:11.598 | INFO     | neomaril_codex.pipeline:from_config_file:41 - Loading .env\n",
      "2023-02-17 16:31:11.599 | INFO     | neomaril_codex.pipeline:run_training:61 - Running training\n",
      "2023-02-17 16:31:11.600 | INFO     | neomaril_codex._base:__init__:77 - Loading .env\n",
      "2023-02-17 16:31:12.110 | INFO     | neomaril_codex._base:__init__:89 - Successfully connected to Neomaril\n",
      "2023-02-17 16:31:12.670 | ERROR    | neomaril_codex._base:create_group:136 - Group already exist, nothing was changed.\n",
      "2023-02-17 16:31:13.565 | INFO     | neomaril_codex.training:create_training_experiment:466 - New Training inserted with hash T1fece67e1da49a69a0a7908c1c60c0d5c5a703d04744ade9881dd90096db6da.\n",
      "2023-02-17 16:31:17.200 | INFO     | neomaril_codex.training:__upload_training:283 - {\"Message\":\"Training files have been uploaded. Execution id is '3'\"}\n",
      "2023-02-17 16:31:18.578 | INFO     | neomaril_codex.training:__execute_training:302 - Model training starting - Hash: T1fece67e1da49a69a0a7908c1c60c0d5c5a703d04744ade9881dd90096db6da\n"
     ]
    },
    {
     "name": "stdout",
     "output_type": "stream",
     "text": [
      "Wating the training run......."
     ]
    },
    {
     "name": "stderr",
     "output_type": "stream",
     "text": [
      "2023-02-17 16:34:27.488 | ERROR    | neomaril_codex._base:get_status:221 - \"Given an invalid JSON: Additional text encountered after finished reading JSON content: [. Path '', line 1, position 183.\"\n"
     ]
    },
    {
     "ename": "ExecutionError",
     "evalue": "Execution \"3\" unavailable",
     "output_type": "error",
     "traceback": [
      "\u001b[0;31m---------------------------------------------------------------------------\u001b[0m",
      "\u001b[0;31mExecutionError\u001b[0m                            Traceback (most recent call last)",
      "Cell \u001b[0;32mIn[2], line 3\u001b[0m\n\u001b[1;32m      1\u001b[0m \u001b[39m# You can start your pipeline with a configuration YAML\u001b[39;00m\n\u001b[0;32m----> 3\u001b[0m NeomarilPipeline\u001b[39m.\u001b[39;49mfrom_config_file(\u001b[39m'\u001b[39;49m\u001b[39m./samples/pipeline.yml\u001b[39;49m\u001b[39m'\u001b[39;49m)\u001b[39m.\u001b[39;49mstart()\n",
      "File \u001b[0;32m~/.local/share/virtualenvs/neomaril-codex-WNTK3WJm/lib/python3.10/site-packages/neomaril_codex/pipeline.py:165\u001b[0m, in \u001b[0;36mNeomarilPipeline.start\u001b[0;34m(self)\u001b[0m\n\u001b[1;32m    162\u001b[0m     \u001b[39mraise\u001b[39;00m PipelineError(\u001b[39m\"\u001b[39m\u001b[39mCannot start pipeline without configuration\u001b[39m\u001b[39m\"\u001b[39m)\n\u001b[1;32m    164\u001b[0m \u001b[39mif\u001b[39;00m \u001b[39mself\u001b[39m\u001b[39m.\u001b[39mtrain_config:\n\u001b[0;32m--> 165\u001b[0m     training_id \u001b[39m=\u001b[39m \u001b[39mself\u001b[39;49m\u001b[39m.\u001b[39;49mrun_training()\n\u001b[1;32m    166\u001b[0m \u001b[39melse\u001b[39;00m:\n\u001b[1;32m    167\u001b[0m     training_id \u001b[39m=\u001b[39m \u001b[39mNone\u001b[39;00m\n",
      "File \u001b[0;32m~/.local/share/virtualenvs/neomaril-codex-WNTK3WJm/lib/python3.10/site-packages/neomaril_codex/pipeline.py:75\u001b[0m, in \u001b[0;36mNeomarilPipeline.run_training\u001b[0;34m(self)\u001b[0m\n\u001b[1;32m     72\u001b[0m extra_files \u001b[39m=\u001b[39m conf\u001b[39m.\u001b[39mget(\u001b[39m'\u001b[39m\u001b[39mextra\u001b[39m\u001b[39m'\u001b[39m)\n\u001b[1;32m     74\u001b[0m \u001b[39mif\u001b[39;00m conf[\u001b[39m'\u001b[39m\u001b[39mtraining_type\u001b[39m\u001b[39m'\u001b[39m] \u001b[39m==\u001b[39m \u001b[39m'\u001b[39m\u001b[39mCustom\u001b[39m\u001b[39m'\u001b[39m:\n\u001b[0;32m---> 75\u001b[0m     run \u001b[39m=\u001b[39m training\u001b[39m.\u001b[39;49mrun_training(run_name, os\u001b[39m.\u001b[39;49mpath\u001b[39m.\u001b[39;49mjoin(PATH, conf[\u001b[39m'\u001b[39;49m\u001b[39mdata\u001b[39;49m\u001b[39m'\u001b[39;49m]), source_file\u001b[39m=\u001b[39;49mos\u001b[39m.\u001b[39;49mpath\u001b[39m.\u001b[39;49mjoin(PATH, conf[\u001b[39m'\u001b[39;49m\u001b[39msource\u001b[39;49m\u001b[39m'\u001b[39;49m]),\n\u001b[1;32m     76\u001b[0m                                 requirements_file\u001b[39m=\u001b[39;49mos\u001b[39m.\u001b[39;49mpath\u001b[39m.\u001b[39;49mjoin(PATH, conf[\u001b[39m'\u001b[39;49m\u001b[39mpackages\u001b[39;49m\u001b[39m'\u001b[39;49m]), training_reference\u001b[39m=\u001b[39;49mconf[\u001b[39m'\u001b[39;49m\u001b[39mtrain_function\u001b[39;49m\u001b[39m'\u001b[39;49m],\n\u001b[1;32m     77\u001b[0m                                 extra_files\u001b[39m=\u001b[39;49m[os\u001b[39m.\u001b[39;49mpath\u001b[39m.\u001b[39;49mjoin(PATH,e) \u001b[39mfor\u001b[39;49;00m e \u001b[39min\u001b[39;49;00m extra_files] \u001b[39mif\u001b[39;49;00m extra_files \u001b[39melse\u001b[39;49;00m \u001b[39mNone\u001b[39;49;00m,\n\u001b[1;32m     78\u001b[0m                                 python_version\u001b[39m=\u001b[39;49m\u001b[39mstr\u001b[39;49m(\u001b[39mself\u001b[39;49m\u001b[39m.\u001b[39;49mpython_version), wait_complete\u001b[39m=\u001b[39;49m\u001b[39mTrue\u001b[39;49;00m)\n\u001b[1;32m     80\u001b[0m \u001b[39melif\u001b[39;00m conf[\u001b[39m'\u001b[39m\u001b[39mtraining_type\u001b[39m\u001b[39m'\u001b[39m] \u001b[39m==\u001b[39m \u001b[39m'\u001b[39m\u001b[39mAutoML\u001b[39m\u001b[39m'\u001b[39m:\n\u001b[1;32m     81\u001b[0m     run \u001b[39m=\u001b[39m training\u001b[39m.\u001b[39mrun_training(run_name, os\u001b[39m.\u001b[39mpath\u001b[39m.\u001b[39mjoin(PATH, conf[\u001b[39m'\u001b[39m\u001b[39mdata\u001b[39m\u001b[39m'\u001b[39m]), os\u001b[39m.\u001b[39mpath\u001b[39m.\u001b[39mjoin(PATH, conf[\u001b[39m'\u001b[39m\u001b[39mconfig\u001b[39m\u001b[39m'\u001b[39m]), wait_complete\u001b[39m=\u001b[39m\u001b[39mTrue\u001b[39;00m)\n",
      "File \u001b[0;32m~/.local/share/virtualenvs/neomaril-codex-WNTK3WJm/lib/python3.10/site-packages/neomaril_codex/training.py:356\u001b[0m, in \u001b[0;36mNeomarilTrainingExperiment.run_training\u001b[0;34m(self, run_name, train_data, training_reference, python_version, conf_dict, source_file, requirements_file, extra_files, wait_complete)\u001b[0m\n\u001b[1;32m    354\u001b[0m         sleep(\u001b[39m30\u001b[39m)\n\u001b[1;32m    355\u001b[0m         \u001b[39mprint\u001b[39m(\u001b[39m'\u001b[39m\u001b[39m.\u001b[39m\u001b[39m'\u001b[39m, end\u001b[39m=\u001b[39m\u001b[39m'\u001b[39m\u001b[39m'\u001b[39m, flush\u001b[39m=\u001b[39m\u001b[39mTrue\u001b[39;00m)\n\u001b[0;32m--> 356\u001b[0m         status \u001b[39m=\u001b[39m run\u001b[39m.\u001b[39;49mget_status()[\u001b[39m'\u001b[39m\u001b[39mStatus\u001b[39m\u001b[39m'\u001b[39m]\n\u001b[1;32m    357\u001b[0m \u001b[39mreturn\u001b[39;00m run\n",
      "File \u001b[0;32m~/.local/share/virtualenvs/neomaril-codex-WNTK3WJm/lib/python3.10/site-packages/neomaril_codex/_base.py:222\u001b[0m, in \u001b[0;36mNeomarilExecution.get_status\u001b[0;34m(self)\u001b[0m\n\u001b[1;32m    220\u001b[0m \u001b[39mif\u001b[39;00m response\u001b[39m.\u001b[39mstatus_code \u001b[39mnot\u001b[39;00m \u001b[39min\u001b[39;00m [\u001b[39m200\u001b[39m, \u001b[39m410\u001b[39m]:\n\u001b[1;32m    221\u001b[0m \t\tlogger\u001b[39m.\u001b[39merror(response\u001b[39m.\u001b[39mtext)\n\u001b[0;32m--> 222\u001b[0m \t\t\u001b[39mraise\u001b[39;00m ExecutionError(\u001b[39mf\u001b[39m\u001b[39m'\u001b[39m\u001b[39mExecution \u001b[39m\u001b[39m\"\u001b[39m\u001b[39m{\u001b[39;00m\u001b[39mself\u001b[39m\u001b[39m.\u001b[39mexec_id\u001b[39m}\u001b[39;00m\u001b[39m\"\u001b[39m\u001b[39m unavailable\u001b[39m\u001b[39m'\u001b[39m)\n\u001b[1;32m    224\u001b[0m result \u001b[39m=\u001b[39m response\u001b[39m.\u001b[39mjson()\n\u001b[1;32m    226\u001b[0m \u001b[39mself\u001b[39m\u001b[39m.\u001b[39mstatus \u001b[39m=\u001b[39m result[\u001b[39m'\u001b[39m\u001b[39mStatus\u001b[39m\u001b[39m'\u001b[39m]\n",
      "\u001b[0;31mExecutionError\u001b[0m: Execution \"3\" unavailable"
     ]
    }
   ],
   "source": [
    "# You can start your pipeline with a configuration YAML\n",
    "\n",
    "NeomarilPipeline.from_config_file('./samples/pipeline.yml').start()"
   ]
  },
  {
   "cell_type": "code",
   "execution_count": null,
   "metadata": {},
   "outputs": [
    {
     "name": "stderr",
     "output_type": "stream",
     "text": [
      "2023-02-02 11:07:04.111 | INFO     | neomaril_codex.pipeline:run_scoring:113 - Deploying scorer\n",
      "2023-02-02 11:07:04.112 | INFO     | neomaril_codex._base:__init__:72 - You are using the test enviroment that will have the data cleaned from time to time. If your model is ready to use change the flag test_enviroment to False\n",
      "2023-02-02 11:07:04.117 | INFO     | neomaril_codex._base:__init__:81 - Successfully connected to Neomaril\n",
      "2023-02-02 11:07:04.131 | ERROR    | neomaril_codex._base:create_group:128 - Group already exist, nothing was changed.\n",
      "2023-02-02 11:07:04.218 | INFO     | neomaril_codex.model:__upload_model:493 - Model 'Teste' inserted - Hash: \"M9c3ee9de0c940cbb3da5626eeac870eddab2a7912db4b5a96c94bbbfdfee74c\"\n",
      "2023-02-02 11:07:04.245 | INFO     | neomaril_codex.model:__host_model:517 - Model host in process - Hash: M9c3ee9de0c940cbb3da5626eeac870eddab2a7912db4b5a96c94bbbfdfee74c\n"
     ]
    },
    {
     "name": "stdout",
     "output_type": "stream",
     "text": [
      "Wating for deploy to be ready....................."
     ]
    },
    {
     "name": "stderr",
     "output_type": "stream",
     "text": [
      "2023-02-02 11:10:24.696 | INFO     | neomaril_codex.model:get_model:370 - Model M9c3ee9de0c940cbb3da5626eeac870eddab2a7912db4b5a96c94bbbfdfee74c its deployed. Fetching model.\n",
      "2023-02-02 11:10:24.716 | INFO     | neomaril_codex.pipeline:run_scoring:128 - Model deployement finished\n"
     ]
    }
   ],
   "source": [
    "# You can run just a especific step\n",
    "\n",
    "NeomarilPipeline.from_config_file('./samples/pipeline-just-model.yml').start()"
   ]
  },
  {
   "cell_type": "code",
   "execution_count": null,
   "metadata": {},
   "outputs": [
    {
     "name": "stderr",
     "output_type": "stream",
     "text": [
      "2023-02-02 12:03:44.181 | INFO     | neomaril_codex.pipeline:run_scoring:113 - Deploying scorer\n",
      "2023-02-02 12:03:44.183 | INFO     | neomaril_codex._base:__init__:72 - You are using the test enviroment that will have the data cleaned from time to time. If your model is ready to use change the flag test_enviroment to False\n",
      "2023-02-02 12:03:44.205 | INFO     | neomaril_codex._base:__init__:81 - Successfully connected to Neomaril\n",
      "2023-02-02 12:03:44.320 | ERROR    | neomaril_codex._base:create_group:128 - Group already exist, nothing was changed.\n",
      "2023-02-02 12:03:44.388 | INFO     | neomaril_codex.model:__upload_model:493 - Model 'Teste' inserted - Hash: \"M0ab96a8484f4999ac7eea1d3f13031f26b876c9055146fd8db941b22926f29e\"\n",
      "2023-02-02 12:03:44.402 | INFO     | neomaril_codex.model:__host_model:517 - Model host in process - Hash: M0ab96a8484f4999ac7eea1d3f13031f26b876c9055146fd8db941b22926f29e\n"
     ]
    },
    {
     "name": "stdout",
     "output_type": "stream",
     "text": [
      "Wating for deploy to be ready....................."
     ]
    },
    {
     "name": "stderr",
     "output_type": "stream",
     "text": [
      "2023-02-02 12:07:04.800 | INFO     | neomaril_codex.model:get_model:370 - Model M0ab96a8484f4999ac7eea1d3f13031f26b876c9055146fd8db941b22926f29e its deployed. Fetching model.\n",
      "2023-02-02 12:07:04.838 | INFO     | neomaril_codex.pipeline:run_scoring:128 - Model deployement finished\n",
      "2023-02-02 12:07:04.839 | INFO     | neomaril_codex.pipeline:run_monitoring:137 - Configuring monitoring\n",
      "2023-02-02 12:07:04.942 | INFO     | neomaril_codex.model:register_monitoring:280 - Monitoring created - Hash: \"M0ab96a8484f4999ac7eea1d3f13031f26b876c9055146fd8db941b22926f29e\"\n"
     ]
    }
   ],
   "source": [
    "# You can also edit a run after loading it\n",
    "\n",
    "pipeline = NeomarilPipeline.from_config_file('./samples/pipeline-just-model.yml')\n",
    "pipeline.register_monitoring_config(directory = \"./samples/monitoring\", preprocess = \"preprocess.py\", preprocess_function = \"score\", shap_function = \"score\", config = \"configuration.json\", \n",
    "                                    packages = \"requirements.txt\")\n",
    "pipeline.start()"
   ]
  }
 ],
 "metadata": {
  "kernelspec": {
   "display_name": "neomaril-codex-WNTK3WJm",
   "language": "python",
   "name": "python3"
  },
  "language_info": {
   "codemirror_mode": {
    "name": "ipython",
    "version": 3
   },
   "file_extension": ".py",
   "mimetype": "text/x-python",
   "name": "python",
   "nbconvert_exporter": "python",
   "pygments_lexer": "ipython3",
   "version": "3.10.6"
  },
  "orig_nbformat": 4,
  "vscode": {
   "interpreter": {
    "hash": "d7308033b61508a213f02f142180c32f76fea0bd8e107ff2b0f7849d3585655c"
   }
  }
 },
 "nbformat": 4,
 "nbformat_minor": 2
}
