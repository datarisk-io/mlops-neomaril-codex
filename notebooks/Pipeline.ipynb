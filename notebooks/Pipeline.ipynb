{
 "cells": [
  {
   "attachments": {},
   "cell_type": "markdown",
   "metadata": {},
   "source": [
    "# MLOps Pipeline\n",
    "\n",
    "This notebook give a exemple on how to use MLOps as a pipeline tool"
   ]
  },
  {
   "attachments": {},
   "cell_type": "markdown",
   "metadata": {},
   "source": [
    "### MLOpsPipeline\n",
    "\n",
    "It's where you can configure your model pipeline"
   ]
  },
  {
   "cell_type": "code",
   "execution_count": 1,
   "metadata": {},
   "outputs": [],
   "source": [
    "from mlops_codex.pipeline import MLOpsPipeline"
   ]
  },
  {
   "cell_type": "code",
   "execution_count": null,
   "metadata": {},
   "outputs": [
    {
     "name": "stdout",
     "output_type": "stream",
     "text": [
      "November 26, 2024 | INFO: from_config_file Loading .env\n",
      "November 26, 2024 | INFO: __init__ Loading .env\n",
      "November 26, 2024 | INFO: __init__ Successfully connected to MLOps\n",
      "November 26, 2024 | INFO: run_training Running training\n",
      "November 26, 2024 | INFO: __init__ Loading .env\n",
      "November 26, 2024 | INFO: __init__ Successfully connected to MLOps\n",
      "November 26, 2024 | INFO: create_training_experiment Trying to load experiment...\n",
      "November 26, 2024 | INFO: __get_repeated_thash Found experiment with same attributes...\n",
      "November 26, 2024 | INFO: __init__ Loading .env\n",
      "November 26, 2024 | INFO: __init__ Successfully connected to MLOps\n",
      "November 26, 2024 | INFO: __upload_training Result\n",
      "DatasetHash: D3a575c0b06e4f9182035c53eda5c856aa0e8d718a8e4664874b44471814747a\n",
      "ExecutionId: 11\n",
      "Message: Training files have been uploaded! Use the id '11' to execute the train experiment.\n",
      "\n",
      "November 26, 2024 | INFO: __execute_training Model training starting - Hash: T3f5f91689cc460f9415ef1239007abbf8a169cba2634ff8ab458663a24c0697\n",
      "November 26, 2024 | INFO: __init__ Loading .env\n",
      "November 26, 2024 | INFO: __init__ Successfully connected to MLOps\n",
      "November 26, 2024 | INFO: __init__ Loading .env\n",
      "Waiting the training run..."
     ]
    }
   ],
   "source": [
    "# You can start your pipeline with a configuration YAML\n",
    "\n",
    "MLOpsPipeline.from_config_file('./samples/pipeline.yml').start()"
   ]
  },
  {
   "cell_type": "code",
   "execution_count": null,
   "metadata": {},
   "outputs": [],
   "source": [
    "# You can run just a especific step\n",
    "\n",
    "MLOpsPipeline.from_config_file('./samples/pipeline-just-model.yml').start()"
   ]
  },
  {
   "cell_type": "code",
   "execution_count": null,
   "metadata": {},
   "outputs": [],
   "source": [
    "# You can also edit a run after loading it\n",
    "\n",
    "pipeline = MLOpsPipeline.from_config_file('./samples/pipeline-just-model.yml')\n",
    "pipeline.register_monitoring_config(directory = \"./samples/monitoring\", preprocess = \"preprocess_async.py\", preprocess_function = \"score\", \n",
    "                                    shap_function = \"score\", config = \"configuration.json\", packages = \"requirements.txt\")\n",
    "pipeline.start()"
   ]
  }
 ],
 "metadata": {
  "kernelspec": {
   "display_name": "mlops-neomaril-codex-c4z0dHNl",
   "language": "python",
   "name": "python3"
  },
  "language_info": {
   "codemirror_mode": {
    "name": "ipython",
    "version": 3
   },
   "file_extension": ".py",
   "mimetype": "text/x-python",
   "name": "python",
   "nbconvert_exporter": "python",
   "pygments_lexer": "ipython3",
   "version": "3.10.12"
  },
  "orig_nbformat": 4
 },
 "nbformat": 4,
 "nbformat_minor": 2
}
