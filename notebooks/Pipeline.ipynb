{
 "cells": [
  {
   "attachments": {},
   "cell_type": "markdown",
   "metadata": {},
   "source": [
    "# Neomaril Pipeline\n",
    "\n",
    "This notebook give a exemple on how to use Neomaril as a pipeline tool"
   ]
  },
  {
   "attachments": {},
   "cell_type": "markdown",
   "metadata": {},
   "source": [
    "### NeomarilPipeline\n",
    "\n",
    "It's where you can configure your model pipeline"
   ]
  },
  {
   "cell_type": "code",
   "execution_count": 1,
   "metadata": {},
   "outputs": [],
   "source": [
    "from neomaril_codex.pipeline import NeomarilPipeline"
   ]
  },
  {
   "cell_type": "code",
   "execution_count": 8,
   "metadata": {},
   "outputs": [
    {
     "name": "stderr",
     "output_type": "stream",
     "text": [
      "2023-05-26 13:44:59.270 | INFO     | neomaril_codex.pipeline:from_config_file:119 - Loading .env\n",
      "2023-05-26 13:44:59.271 | INFO     | neomaril_codex.pipeline:run_training:156 - Running training\n",
      "2023-05-26 13:44:59.272 | INFO     | neomaril_codex.base:__init__:87 - Loading .env\n",
      "2023-05-26 13:44:59.276 | INFO     | neomaril_codex.base:__init__:99 - Successfully connected to Neomaril\n",
      "2023-05-26 13:44:59.309 | ERROR    | neomaril_codex.base:create_group:158 - Group already exist, nothing was changed.\n",
      "2023-05-26 13:44:59.341 | INFO     | neomaril_codex.training:create_training_experiment:719 - New Training 'Teste' inserted.\n",
      "2023-05-26 13:44:59.378 | INFO     | neomaril_codex.training:__upload_training:448 - {\"ExecutionId\":2,\"Message\":\"Training files have been uploaded. Use the execution id '2' to check its status.\"}\n",
      "2023-05-26 13:44:59.510 | INFO     | neomaril_codex.training:__execute_training:472 - Model training starting - Hash: Ta9c89a4d48c40ed89b5bbdf7b65978b688e866329e841c4b5dbb35fc7ca6d7e\n"
     ]
    },
    {
     "name": "stdout",
     "output_type": "stream",
     "text": [
      "Wating the training run.............."
     ]
    },
    {
     "name": "stderr",
     "output_type": "stream",
     "text": [
      "2023-05-26 13:51:53.653 | INFO     | neomaril_codex.pipeline:run_training:180 - Model training finished\n",
      "2023-05-26 13:51:53.654 | INFO     | neomaril_codex.pipeline:run_deploy:213 - Deploying scorer from training\n",
      "2023-05-26 13:51:54.565 | INFO     | neomaril_codex.training:__upload_model:163 - Model 'Teste' promoted from Ta9c89a4d48c40ed89b5bbdf7b65978b688e866329e841c4b5dbb35fc7ca6d7e - Hash: \"Me595c06815e4ba28b00bff2529b79a2bd9901055a364175914588771573bb37\"\n",
      "2023-05-26 13:51:54.633 | INFO     | neomaril_codex.training:__host_model:225 - Model host in process - Hash: Me595c06815e4ba28b00bff2529b79a2bd9901055a364175914588771573bb37\n",
      "2023-05-26 13:51:54.636 | INFO     | neomaril_codex.model:__init__:66 - Loading .env\n",
      "2023-05-26 13:54:54.875 | INFO     | neomaril_codex.pipeline:run_deploy:246 - Model deployement finished\n",
      "2023-05-26 13:54:54.876 | INFO     | neomaril_codex.pipeline:run_monitoring:266 - Configuring monitoring\n",
      "2023-05-26 13:54:54.883 | INFO     | neomaril_codex.model:__init__:66 - Loading .env\n",
      "2023-05-26 13:54:54.981 | INFO     | neomaril_codex.model:register_monitoring:575 - Monitoring created - Hash: \"Me595c06815e4ba28b00bff2529b79a2bd9901055a364175914588771573bb37\"\n"
     ]
    }
   ],
   "source": [
    "# You can start your pipeline with a configuration YAML\n",
    "\n",
    "NeomarilPipeline.from_config_file('./samples/pipeline.yml').start()"
   ]
  },
  {
   "cell_type": "code",
   "execution_count": 3,
   "metadata": {},
   "outputs": [
    {
     "name": "stderr",
     "output_type": "stream",
     "text": [
      "2023-05-26 14:36:54.525 | INFO     | neomaril_codex.pipeline:from_config_file:119 - Loading .env\n",
      "2023-05-26 14:36:54.526 | INFO     | neomaril_codex.pipeline:run_deploy:233 - Deploying scorer\n",
      "2023-05-26 14:36:54.528 | INFO     | neomaril_codex.base:__init__:87 - Loading .env\n",
      "2023-05-26 14:36:54.535 | INFO     | neomaril_codex.base:__init__:99 - Successfully connected to Neomaril\n",
      "2023-05-26 14:36:54.596 | ERROR    | neomaril_codex.base:create_group:158 - Group already exist, nothing was changed.\n",
      "2023-05-26 14:36:54.669 | INFO     | neomaril_codex.model:__upload_model:977 - Model 'Teste' inserted - Hash: \"M24d2e4031a9476a9793381ff68caae8fbd224c9615b4597a57df572cdd57abf\"\n",
      "2023-05-26 14:36:54.700 | INFO     | neomaril_codex.model:__host_model:1008 - Model host in process - Hash: M24d2e4031a9476a9793381ff68caae8fbd224c9615b4597a57df572cdd57abf\n"
     ]
    },
    {
     "name": "stdout",
     "output_type": "stream",
     "text": [
      "Wating for deploy to be ready......................................."
     ]
    },
    {
     "name": "stderr",
     "output_type": "stream",
     "text": [
      "2023-05-26 14:43:15.289 | INFO     | neomaril_codex.model:get_model:783 - Model M24d2e4031a9476a9793381ff68caae8fbd224c9615b4597a57df572cdd57abf its deployed. Fetching model.\n",
      "2023-05-26 14:43:15.290 | INFO     | neomaril_codex.model:__init__:66 - Loading .env\n",
      "2023-05-26 14:43:15.300 | INFO     | neomaril_codex.pipeline:run_deploy:248 - Model deployement finished\n"
     ]
    }
   ],
   "source": [
    "# You can run just a especific step\n",
    "\n",
    "NeomarilPipeline.from_config_file('./samples/pipeline-just-model.yml').start()"
   ]
  },
  {
   "cell_type": "code",
   "execution_count": null,
   "metadata": {},
   "outputs": [
    {
     "name": "stderr",
     "output_type": "stream",
     "text": [
      "2023-02-02 12:03:44.181 | INFO     | neomaril_codex.pipeline:run_scoring:113 - Deploying scorer\n",
      "2023-02-02 12:03:44.183 | INFO     | neomaril_codex._base:__init__:72 - You are using the test environment that will have the data cleaned from time to time. If your model is ready to use change the flag test_enviroment to False\n",
      "2023-02-02 12:03:44.205 | INFO     | neomaril_codex._base:__init__:81 - Successfully connected to Neomaril\n",
      "2023-02-02 12:03:44.320 | ERROR    | neomaril_codex._base:create_group:128 - Group already exist, nothing was changed.\n",
      "2023-02-02 12:03:44.388 | INFO     | neomaril_codex.model:__upload_model:493 - Model 'Teste' inserted - Hash: \"M0ab96a8484f4999ac7eea1d3f13031f26b876c9055146fd8db941b22926f29e\"\n",
      "2023-02-02 12:03:44.402 | INFO     | neomaril_codex.model:__host_model:517 - Model host in process - Hash: M0ab96a8484f4999ac7eea1d3f13031f26b876c9055146fd8db941b22926f29e\n"
     ]
    },
    {
     "name": "stdout",
     "output_type": "stream",
     "text": [
      "Wating for deploy to be ready....................."
     ]
    },
    {
     "name": "stderr",
     "output_type": "stream",
     "text": [
      "2023-02-02 12:07:04.800 | INFO     | neomaril_codex.model:get_model:370 - Model M0ab96a8484f4999ac7eea1d3f13031f26b876c9055146fd8db941b22926f29e its deployed. Fetching model.\n",
      "2023-02-02 12:07:04.838 | INFO     | neomaril_codex.pipeline:run_scoring:128 - Model deployement finished\n",
      "2023-02-02 12:07:04.839 | INFO     | neomaril_codex.pipeline:run_monitoring:137 - Configuring monitoring\n",
      "2023-02-02 12:07:04.942 | INFO     | neomaril_codex.model:register_monitoring:280 - Monitoring created - Hash: \"M0ab96a8484f4999ac7eea1d3f13031f26b876c9055146fd8db941b22926f29e\"\n"
     ]
    }
   ],
   "source": [
    "# You can also edit a run after loading it\n",
    "\n",
    "pipeline = NeomarilPipeline.from_config_file('./samples/pipeline-just-model.yml')\n",
    "pipeline.register_monitoring_config(directory = \"./samples/monitoring\", preprocess = \"preprocess.py\", preprocess_function = \"score\", shap_function = \"score\", config = \"configuration.json\", \n",
    "                                    packages = \"requirements.txt\")\n",
    "pipeline.start()"
   ]
  }
 ],
 "metadata": {
  "kernelspec": {
   "display_name": "neomaril-codex-WNTK3WJm",
   "language": "python",
   "name": "python3"
  },
  "language_info": {
   "codemirror_mode": {
    "name": "ipython",
    "version": 3
   },
   "file_extension": ".py",
   "mimetype": "text/x-python",
   "name": "python",
   "nbconvert_exporter": "python",
   "pygments_lexer": "ipython3",
   "version": "3.10.6"
  },
  "orig_nbformat": 4,
  "vscode": {
   "interpreter": {
    "hash": "d7308033b61508a213f02f142180c32f76fea0bd8e107ff2b0f7849d3585655c"
   }
  }
 },
 "nbformat": 4,
 "nbformat_minor": 2
}
