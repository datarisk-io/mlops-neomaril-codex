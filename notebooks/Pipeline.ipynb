{
 "cells": [
  {
   "attachments": {},
   "cell_type": "markdown",
   "metadata": {},
   "source": [
    "# Neomaril Pipeline\n",
    "\n",
    "This notebook give a exemple on how to use Neomaril as a pipeline tool"
   ]
  },
  {
   "attachments": {},
   "cell_type": "markdown",
   "metadata": {},
   "source": [
    "### NeomarilPipeline\n",
    "\n",
    "It's where you can configure your model pipeline"
   ]
  },
  {
   "cell_type": "code",
   "execution_count": 1,
   "metadata": {},
   "outputs": [],
   "source": [
    "from neomaril_codex.pipeline import NeomarilPipeline"
   ]
  },
  {
   "cell_type": "code",
   "execution_count": 2,
   "metadata": {},
   "outputs": [
    {
     "name": "stderr",
     "output_type": "stream",
     "text": [
      "2023-10-04 11:22:42.880 | INFO     | neomaril_codex.pipeline:from_config_file:121 - Loading .env\n",
      "2023-10-04 11:22:42.881 | INFO     | neomaril_codex.pipeline:run_training:164 - Running training\n",
      "2023-10-04 11:22:42.883 | INFO     | neomaril_codex.base:__init__:89 - Loading .env\n",
      "2023-10-04 11:22:44.939 | INFO     | neomaril_codex.base:__init__:101 - Successfully connected to Neomaril\n",
      "2023-10-04 11:22:46.213 | ERROR    | neomaril_codex.base:create_group:161 - {\"Error\":{\"Type\":\"BadInput\",\"Message\":\"Detail redacted as it may contain sensitive data. Specify \\u0027Include Error Detail\\u0027 in the connection string to include this information.\"}}\n",
      "2023-10-04 11:22:46.214 | ERROR    | neomaril_codex.base:create_group:162 - Group already exist, nothing was changed.\n",
      "2023-10-04 11:22:48.626 | INFO     | neomaril_codex.training:create_training_experiment:792 - New Training 'Teste' inserted.\n",
      "2023-10-04 11:22:52.927 | INFO     | neomaril_codex.training:__upload_training:478 - {\"ExecutionId\":7,\"Message\":\"Training files have been uploaded. Use the execution id \\u00277\\u0027 to execute the train experiment run.\"}\n",
      "2023-10-04 11:22:54.258 | INFO     | neomaril_codex.training:__execute_training:502 - Model training starting - Hash: T38c826aafcc4e2fa1e27d231f55ce7726ded84f559044f98d56b9961816abbb\n"
     ]
    },
    {
     "name": "stdout",
     "output_type": "stream",
     "text": [
      "Wating the training run........"
     ]
    },
    {
     "name": "stderr",
     "output_type": "stream",
     "text": [
      "2023-10-04 11:26:49.876 | INFO     | neomaril_codex.pipeline:run_training:188 - Model training finished\n",
      "2023-10-04 11:26:49.877 | INFO     | neomaril_codex.pipeline:run_deploy:221 - Deploying scorer from training\n",
      "2023-10-04 11:26:55.391 | INFO     | neomaril_codex.training:__upload_model:176 - Model 'Teste' promoted from T38c826aafcc4e2fa1e27d231f55ce7726ded84f559044f98d56b9961816abbb - Hash: \"Mbafc9b00b5b47ec874fbed22b563986d73cf189022b47909b74cf035ed7d325\"\n",
      "2023-10-04 11:26:57.197 | INFO     | neomaril_codex.training:__host_model:241 - Model host in process - Hash: Mbafc9b00b5b47ec874fbed22b563986d73cf189022b47909b74cf035ed7d325\n",
      "2023-10-04 11:26:57.199 | INFO     | neomaril_codex.model:__init__:68 - Loading .env\n",
      "2023-10-04 11:30:15.661 | INFO     | neomaril_codex.pipeline:run_deploy:254 - Model deployement finished\n",
      "2023-10-04 11:30:15.662 | INFO     | neomaril_codex.pipeline:run_monitoring:274 - Configuring monitoring\n",
      "2023-10-04 11:30:15.663 | INFO     | neomaril_codex.model:__init__:68 - Loading .env\n",
      "2023-10-04 11:30:20.853 | INFO     | neomaril_codex.model:register_monitoring:586 - Monitoring created - Hash: \"Mbafc9b00b5b47ec874fbed22b563986d73cf189022b47909b74cf035ed7d325\"\n"
     ]
    }
   ],
   "source": [
    "# You can start your pipeline with a configuration YAML\n",
    "\n",
    "NeomarilPipeline.from_config_file('./samples/pipeline.yml').start()"
   ]
  },
  {
   "cell_type": "code",
   "execution_count": 3,
   "metadata": {},
   "outputs": [
    {
     "name": "stderr",
     "output_type": "stream",
     "text": [
      "2023-10-04 11:30:20.861 | INFO     | neomaril_codex.pipeline:from_config_file:121 - Loading .env\n",
      "2023-10-04 11:30:20.862 | INFO     | neomaril_codex.pipeline:run_deploy:239 - Deploying scorer\n",
      "2023-10-04 11:30:20.863 | INFO     | neomaril_codex.base:__init__:89 - Loading .env\n",
      "2023-10-04 11:30:22.721 | INFO     | neomaril_codex.base:__init__:101 - Successfully connected to Neomaril\n",
      "2023-10-04 11:30:24.003 | ERROR    | neomaril_codex.base:create_group:161 - {\"Error\":{\"Type\":\"BadInput\",\"Message\":\"Detail redacted as it may contain sensitive data. Specify \\u0027Include Error Detail\\u0027 in the connection string to include this information.\"}}\n",
      "2023-10-04 11:30:24.004 | ERROR    | neomaril_codex.base:create_group:162 - Group already exist, nothing was changed.\n",
      "2023-10-04 11:30:29.724 | INFO     | neomaril_codex.model:__upload_model:995 - Model 'Teste' inserted - Hash: \"M9dff97891bb41b48940f26bcfb5d275688671c86dc94dcf82ed2c98e09543c9\"\n",
      "2023-10-04 11:30:31.157 | INFO     | neomaril_codex.model:__host_model:1026 - Model host in process - Hash: M9dff97891bb41b48940f26bcfb5d275688671c86dc94dcf82ed2c98e09543c9\n"
     ]
    },
    {
     "name": "stdout",
     "output_type": "stream",
     "text": [
      "Wating for deploy to be ready............"
     ]
    },
    {
     "name": "stderr",
     "output_type": "stream",
     "text": [
      "2023-10-04 11:32:50.759 | INFO     | neomaril_codex.model:get_model:800 - Model M9dff97891bb41b48940f26bcfb5d275688671c86dc94dcf82ed2c98e09543c9 its deployed. Fetching model.\n",
      "2023-10-04 11:32:50.760 | INFO     | neomaril_codex.model:__init__:68 - Loading .env\n",
      "2023-10-04 11:32:54.465 | INFO     | neomaril_codex.pipeline:run_deploy:254 - Model deployement finished\n"
     ]
    }
   ],
   "source": [
    "# You can run just a especific step\n",
    "\n",
    "NeomarilPipeline.from_config_file('./samples/pipeline-just-model.yml').start()"
   ]
  },
  {
   "cell_type": "code",
   "execution_count": 5,
   "metadata": {},
   "outputs": [
    {
     "name": "stderr",
     "output_type": "stream",
     "text": [
      "2023-10-04 11:47:58.524 | INFO     | neomaril_codex.pipeline:from_config_file:121 - Loading .env\n",
      "2023-10-04 11:47:58.525 | INFO     | neomaril_codex.pipeline:run_deploy:239 - Deploying scorer\n",
      "2023-10-04 11:47:58.526 | INFO     | neomaril_codex.base:__init__:89 - Loading .env\n",
      "2023-10-04 11:48:00.961 | INFO     | neomaril_codex.base:__init__:101 - Successfully connected to Neomaril\n",
      "2023-10-04 11:48:02.174 | ERROR    | neomaril_codex.base:create_group:161 - {\"Error\":{\"Type\":\"BadInput\",\"Message\":\"Detail redacted as it may contain sensitive data. Specify \\u0027Include Error Detail\\u0027 in the connection string to include this information.\"}}\n",
      "2023-10-04 11:48:02.174 | ERROR    | neomaril_codex.base:create_group:162 - Group already exist, nothing was changed.\n",
      "2023-10-04 11:48:06.710 | INFO     | neomaril_codex.model:__upload_model:995 - Model 'Teste' inserted - Hash: \"Mcc16f722d8a4322ade45fc89ebf13d1d5d0f42dd55c4fa3a65cf60fd965834c\"\n",
      "2023-10-04 11:48:08.006 | INFO     | neomaril_codex.model:__host_model:1026 - Model host in process - Hash: Mcc16f722d8a4322ade45fc89ebf13d1d5d0f42dd55c4fa3a65cf60fd965834c\n"
     ]
    },
    {
     "name": "stdout",
     "output_type": "stream",
     "text": [
      "Wating for deploy to be ready............................"
     ]
    },
    {
     "name": "stderr",
     "output_type": "stream",
     "text": [
      "2023-10-04 11:53:24.005 | INFO     | neomaril_codex.model:get_model:800 - Model Mcc16f722d8a4322ade45fc89ebf13d1d5d0f42dd55c4fa3a65cf60fd965834c its deployed. Fetching model.\n",
      "2023-10-04 11:53:24.007 | INFO     | neomaril_codex.model:__init__:68 - Loading .env\n",
      "2023-10-04 11:53:27.207 | INFO     | neomaril_codex.pipeline:run_deploy:254 - Model deployement finished\n",
      "2023-10-04 11:53:27.208 | INFO     | neomaril_codex.pipeline:run_monitoring:274 - Configuring monitoring\n",
      "2023-10-04 11:53:27.209 | INFO     | neomaril_codex.model:__init__:68 - Loading .env\n",
      "2023-10-04 11:53:32.776 | INFO     | neomaril_codex.model:register_monitoring:586 - Monitoring created - Hash: \"Mcc16f722d8a4322ade45fc89ebf13d1d5d0f42dd55c4fa3a65cf60fd965834c\"\n"
     ]
    }
   ],
   "source": [
    "# You can also edit a run after loading it\n",
    "\n",
    "pipeline = NeomarilPipeline.from_config_file('./samples/pipeline-just-model.yml')\n",
    "pipeline.register_monitoring_config(directory = \"./samples/monitoring\", preprocess = \"preprocess_async.py\", preprocess_function = \"score\", \n",
    "                                    shap_function = \"score\", config = \"configuration.json\", packages = \"requirements.txt\")\n",
    "pipeline.start()"
   ]
  }
 ],
 "metadata": {
  "kernelspec": {
   "display_name": "neomaril-codex-WNTK3WJm",
   "language": "python",
   "name": "python3"
  },
  "language_info": {
   "codemirror_mode": {
    "name": "ipython",
    "version": 3
   },
   "file_extension": ".py",
   "mimetype": "text/x-python",
   "name": "python",
   "nbconvert_exporter": "python",
   "pygments_lexer": "ipython3",
   "version": "3.10.12"
  },
  "orig_nbformat": 4,
  "vscode": {
   "interpreter": {
    "hash": "d7308033b61508a213f02f142180c32f76fea0bd8e107ff2b0f7849d3585655c"
   }
  }
 },
 "nbformat": 4,
 "nbformat_minor": 2
}
