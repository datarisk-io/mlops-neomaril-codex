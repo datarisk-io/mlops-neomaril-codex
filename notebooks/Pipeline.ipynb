{
 "cells": [
  {
   "attachments": {},
   "cell_type": "markdown",
   "metadata": {},
   "source": [
    "# MLOps Pipeline\n",
    "\n",
    "This notebook give a exemple on how to use MLOps as a pipeline tool"
   ]
  },
  {
   "attachments": {},
   "cell_type": "markdown",
   "metadata": {},
   "source": [
    "### MLOpsPipeline\n",
    "\n",
    "It's where you can configure your model pipeline"
   ]
  },
  {
   "cell_type": "code",
   "execution_count": null,
   "metadata": {},
   "outputs": [],
   "source": [
    "from mlops_codex.pipeline import MLOpsPipeline"
   ]
  },
  {
   "cell_type": "code",
   "execution_count": null,
   "metadata": {},
   "outputs": [],
   "source": [
    "# You can start your pipeline with a configuration YAML\n",
    "\n",
    "MLOpsPipeline.from_config_file('./samples/pipeline.yml').start()"
   ]
  },
  {
   "cell_type": "code",
   "execution_count": null,
   "metadata": {},
   "outputs": [],
   "source": [
    "# You can run just a especific step\n",
    "\n",
    "MLOpsPipeline.from_config_file('./samples/pipeline-just-model.yml').start()"
   ]
  },
  {
   "cell_type": "code",
   "execution_count": null,
   "metadata": {},
   "outputs": [],
   "source": [
    "# You can also edit a run after loading it\n",
    "\n",
    "pipeline = MLOpsPipeline.from_config_file('./samples/pipeline-just-model.yml')\n",
    "pipeline.register_monitoring_config(directory = \"./samples/monitoring\", preprocess = \"preprocess_async.py\", preprocess_function = \"score\", \n",
    "                                    shap_function = \"score\", config = \"configuration.json\", packages = \"requirements.txt\")\n",
    "pipeline.start()"
   ]
  }
 ],
 "metadata": {
  "kernelspec": {
   "display_name": "mlops-codex-WNTK3WJm",
   "language": "python",
   "name": "python3"
  },
  "language_info": {
   "codemirror_mode": {
    "name": "ipython",
    "version": 3
   },
   "file_extension": ".py",
   "mimetype": "text/x-python",
   "name": "python",
   "nbconvert_exporter": "python",
   "pygments_lexer": "ipython3",
   "version": "3.10.12"
  },
  "orig_nbformat": 4,
  "vscode": {
   "interpreter": {
    "hash": "d7308033b61508a213f02f142180c32f76fea0bd8e107ff2b0f7849d3585655c"
   }
  }
 },
 "nbformat": 4,
 "nbformat_minor": 2
}
