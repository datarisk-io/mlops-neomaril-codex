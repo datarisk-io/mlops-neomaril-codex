{
 "cells": [
  {
   "attachments": {},
   "cell_type": "markdown",
   "metadata": {},
   "source": [
    "# Neomaril Pipeline\n",
    "\n",
    "This notebook give a exemple on how to use Neomaril as a pipeline tool"
   ]
  },
  {
   "attachments": {},
   "cell_type": "markdown",
   "metadata": {},
   "source": [
    "### NeomarilPipeline\n",
    "\n",
    "It's where you can configure your model pipeline"
   ]
  },
  {
   "cell_type": "code",
   "execution_count": 1,
   "metadata": {},
   "outputs": [],
   "source": [
    "from neomaril_codex.pipeline import NeomarilPipeline"
   ]
  },
  {
   "cell_type": "code",
   "execution_count": 2,
   "metadata": {},
   "outputs": [
    {
     "name": "stderr",
     "output_type": "stream",
     "text": [
      "2023-10-25 16:06:07.736 | INFO     | neomaril_codex.pipeline:from_config_file:124 - Loading .env\n",
      "2023-10-25 16:06:07.738 | INFO     | neomaril_codex.pipeline:__init__:43 - Loading .env\n",
      "2023-10-25 16:06:07.739 | INFO     | neomaril_codex.pipeline:run_training:167 - Running training\n",
      "2023-10-25 16:06:07.741 | INFO     | neomaril_codex.training:__init__:690 - Loading .env\n",
      "2023-10-25 16:06:07.743 | INFO     | neomaril_codex.base:__init__:90 - Loading .env\n"
     ]
    },
    {
     "name": "stderr",
     "output_type": "stream",
     "text": [
      "2023-10-25 16:06:09.730 | INFO     | neomaril_codex.base:__init__:102 - Successfully connected to Neomaril\n",
      "2023-10-25 16:06:11.040 | ERROR    | neomaril_codex.base:create_group:162 - {\"Error\":{\"Type\":\"BadInput\",\"Message\":\"Detail redacted as it may contain sensitive data. Specify \\u0027Include Error Detail\\u0027 in the connection string to include this information.\"}}\n",
      "2023-10-25 16:06:11.040 | ERROR    | neomaril_codex.base:create_group:163 - Group already exist, nothing was changed.\n",
      "2023-10-25 16:06:13.704 | INFO     | neomaril_codex.training:create_training_experiment:796 - New Training 'Teste' inserted.\n",
      "2023-10-25 16:06:13.706 | INFO     | neomaril_codex.training:__init__:359 - Loading .env\n",
      "2023-10-25 16:06:20.140 | INFO     | neomaril_codex.training:__upload_training:481 - {\"ExecutionId\":4,\"Message\":\"Training files have been uploaded. Use the execution id \\u00274\\u0027 to execute the train experiment run.\"}\n",
      "2023-10-25 16:06:21.850 | INFO     | neomaril_codex.training:__execute_training:505 - Model training starting - Hash: Te4784b2fca042f481289b2f4ec657d81864e111d0cb4d72a68809030696f790\n",
      "2023-10-25 16:06:23.076 | INFO     | neomaril_codex.base:__init__:279 - Loading .env\n",
      "2023-10-25 16:06:26.475 | INFO     | neomaril_codex.training:__init__:72 - Loading .env\n"
     ]
    },
    {
     "name": "stdout",
     "output_type": "stream",
     "text": [
      "Wating the training run...."
     ]
    },
    {
     "name": "stderr",
     "output_type": "stream",
     "text": [
      "2023-10-25 16:08:08.594 | INFO     | neomaril_codex.pipeline:run_training:191 - Model training finished\n",
      "2023-10-25 16:08:08.596 | INFO     | neomaril_codex.pipeline:run_deploy:224 - Deploying scorer from training\n",
      "2023-10-25 16:08:08.598 | INFO     | neomaril_codex.base:__init__:279 - Loading .env\n",
      "2023-10-25 16:08:11.174 | INFO     | neomaril_codex.training:__init__:72 - Loading .env\n",
      "2023-10-25 16:08:12.280 | INFO     | neomaril_codex.training:__upload_model:177 - Model 'Teste' promoted from Te4784b2fca042f481289b2f4ec657d81864e111d0cb4d72a68809030696f790 - Hash: \"Maf3284b52c64cc79207c5c32bce64a9d74c0a3a0b9b4aa5b19d5192bb5cb346\"\n",
      "2023-10-25 16:08:14.027 | INFO     | neomaril_codex.training:__host_model:242 - Model host in process - Hash: Maf3284b52c64cc79207c5c32bce64a9d74c0a3a0b9b4aa5b19d5192bb5cb346\n",
      "2023-10-25 16:08:14.031 | INFO     | neomaril_codex.model:__init__:69 - Loading .env\n",
      "2023-10-25 16:10:23.393 | INFO     | neomaril_codex.pipeline:run_deploy:257 - Model deployement finished\n",
      "2023-10-25 16:10:23.393 | INFO     | neomaril_codex.pipeline:run_monitoring:277 - Configuring monitoring\n",
      "2023-10-25 16:10:23.396 | INFO     | neomaril_codex.model:__init__:69 - Loading .env\n",
      "2023-10-25 16:10:28.842 | INFO     | neomaril_codex.model:register_monitoring:604 - Monitoring created - Hash: \"Maf3284b52c64cc79207c5c32bce64a9d74c0a3a0b9b4aa5b19d5192bb5cb346\"\n"
     ]
    }
   ],
   "source": [
    "# You can start your pipeline with a configuration YAML\n",
    "\n",
    "NeomarilPipeline.from_config_file(path='./samples/pipeline.yml').start()"
   ]
  },
  {
   "cell_type": "code",
   "execution_count": 3,
   "metadata": {},
   "outputs": [
    {
     "name": "stderr",
     "output_type": "stream",
     "text": [
      "2023-10-25 16:10:28.862 | INFO     | neomaril_codex.pipeline:from_config_file:124 - Loading .env\n",
      "2023-10-25 16:10:28.864 | INFO     | neomaril_codex.pipeline:__init__:43 - Loading .env\n",
      "2023-10-25 16:10:28.866 | INFO     | neomaril_codex.pipeline:run_deploy:242 - Deploying scorer\n",
      "2023-10-25 16:10:28.868 | INFO     | neomaril_codex.model:__init__:722 - Loading .env\n",
      "2023-10-25 16:10:28.870 | INFO     | neomaril_codex.base:__init__:90 - Loading .env\n",
      "2023-10-25 16:10:30.310 | INFO     | neomaril_codex.base:__init__:102 - Successfully connected to Neomaril\n",
      "2023-10-25 16:10:31.709 | ERROR    | neomaril_codex.base:create_group:162 - {\"Error\":{\"Type\":\"BadInput\",\"Message\":\"Detail redacted as it may contain sensitive data. Specify \\u0027Include Error Detail\\u0027 in the connection string to include this information.\"}}\n",
      "2023-10-25 16:10:31.710 | ERROR    | neomaril_codex.base:create_group:163 - Group already exist, nothing was changed.\n",
      "2023-10-25 16:10:35.904 | INFO     | neomaril_codex.model:__upload_model:1015 - Model 'Teste' inserted - Hash: \"Mc96a1485e1c4db6abc102a486ffb379e6157045b61c494da8974ebe9a8d5194\"\n",
      "2023-10-25 16:10:37.575 | INFO     | neomaril_codex.model:__host_model:1046 - Model host in process - Hash: Mc96a1485e1c4db6abc102a486ffb379e6157045b61c494da8974ebe9a8d5194\n"
     ]
    },
    {
     "name": "stdout",
     "output_type": "stream",
     "text": [
      "Wating for deploy to be ready............."
     ]
    },
    {
     "name": "stderr",
     "output_type": "stream",
     "text": [
      "2023-10-25 16:12:59.077 | INFO     | neomaril_codex.model:get_model:820 - Model Mc96a1485e1c4db6abc102a486ffb379e6157045b61c494da8974ebe9a8d5194 its deployed. Fetching model.\n",
      "2023-10-25 16:12:59.079 | INFO     | neomaril_codex.model:__init__:69 - Loading .env\n",
      "2023-10-25 16:13:01.691 | INFO     | neomaril_codex.pipeline:run_deploy:257 - Model deployement finished\n"
     ]
    }
   ],
   "source": [
    "# You can run just a especific step\n",
    "\n",
    "NeomarilPipeline.from_config_file(path='./samples/pipeline-just-model.yml').start()"
   ]
  },
  {
   "cell_type": "code",
   "execution_count": 4,
   "metadata": {},
   "outputs": [
    {
     "name": "stderr",
     "output_type": "stream",
     "text": [
      "2023-10-25 16:13:01.706 | INFO     | neomaril_codex.pipeline:from_config_file:124 - Loading .env\n",
      "2023-10-25 16:13:01.708 | INFO     | neomaril_codex.pipeline:__init__:43 - Loading .env\n",
      "2023-10-25 16:13:01.709 | INFO     | neomaril_codex.pipeline:run_deploy:242 - Deploying scorer\n",
      "2023-10-25 16:13:01.711 | INFO     | neomaril_codex.model:__init__:722 - Loading .env\n",
      "2023-10-25 16:13:01.712 | INFO     | neomaril_codex.base:__init__:90 - Loading .env\n",
      "2023-10-25 16:13:03.455 | INFO     | neomaril_codex.base:__init__:102 - Successfully connected to Neomaril\n",
      "2023-10-25 16:13:04.849 | ERROR    | neomaril_codex.base:create_group:162 - {\"Error\":{\"Type\":\"BadInput\",\"Message\":\"Detail redacted as it may contain sensitive data. Specify \\u0027Include Error Detail\\u0027 in the connection string to include this information.\"}}\n",
      "2023-10-25 16:13:04.850 | ERROR    | neomaril_codex.base:create_group:163 - Group already exist, nothing was changed.\n",
      "2023-10-25 16:13:08.274 | INFO     | neomaril_codex.model:__upload_model:1015 - Model 'Teste' inserted - Hash: \"Mc4f6403c5ab466f911c1cc6d2f22390fc5ab572337b42a7944fcc5d478849be\"\n",
      "2023-10-25 16:13:10.002 | INFO     | neomaril_codex.model:__host_model:1046 - Model host in process - Hash: Mc4f6403c5ab466f911c1cc6d2f22390fc5ab572337b42a7944fcc5d478849be\n"
     ]
    },
    {
     "name": "stdout",
     "output_type": "stream",
     "text": [
      "Wating for deploy to be ready............."
     ]
    },
    {
     "name": "stderr",
     "output_type": "stream",
     "text": [
      "2023-10-25 16:15:28.933 | INFO     | neomaril_codex.model:get_model:820 - Model Mc4f6403c5ab466f911c1cc6d2f22390fc5ab572337b42a7944fcc5d478849be its deployed. Fetching model.\n",
      "2023-10-25 16:15:28.936 | INFO     | neomaril_codex.model:__init__:69 - Loading .env\n",
      "2023-10-25 16:15:33.139 | INFO     | neomaril_codex.pipeline:run_deploy:257 - Model deployement finished\n",
      "2023-10-25 16:15:33.140 | INFO     | neomaril_codex.pipeline:run_monitoring:277 - Configuring monitoring\n",
      "2023-10-25 16:15:33.142 | INFO     | neomaril_codex.model:__init__:69 - Loading .env\n",
      "2023-10-25 16:15:37.849 | INFO     | neomaril_codex.model:register_monitoring:604 - Monitoring created - Hash: \"Mc4f6403c5ab466f911c1cc6d2f22390fc5ab572337b42a7944fcc5d478849be\"\n"
     ]
    }
   ],
   "source": [
    "# You can also edit a run after loading it\n",
    "\n",
    "pipeline = NeomarilPipeline.from_config_file(path='./samples/pipeline-just-model.yml')\n",
    "pipeline.register_monitoring_config(directory = \"./samples/monitoring\", preprocess = \"preprocess_async.py\", preprocess_function = \"score\", \n",
    "                                    shap_function = \"score\", config = \"configuration.json\", packages = \"requirements.txt\")\n",
    "pipeline.start()"
   ]
  }
 ],
 "metadata": {
  "kernelspec": {
   "display_name": "neomaril-codex-WNTK3WJm",
   "language": "python",
   "name": "python3"
  },
  "language_info": {
   "codemirror_mode": {
    "name": "ipython",
    "version": 3
   },
   "file_extension": ".py",
   "mimetype": "text/x-python",
   "name": "python",
   "nbconvert_exporter": "python",
   "pygments_lexer": "ipython3",
   "version": "3.10.12"
  },
  "orig_nbformat": 4,
  "vscode": {
   "interpreter": {
    "hash": "d7308033b61508a213f02f142180c32f76fea0bd8e107ff2b0f7849d3585655c"
   }
  }
 },
 "nbformat": 4,
 "nbformat_minor": 2
}
