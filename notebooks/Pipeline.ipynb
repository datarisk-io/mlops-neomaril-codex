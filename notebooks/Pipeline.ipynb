{
 "cells": [
  {
   "attachments": {},
   "cell_type": "markdown",
   "metadata": {},
   "source": [
    "# Neomaril Pipeline\n",
    "\n",
    "This notebook give a exemple on how to use Neomaril as a pipeline tool"
   ]
  },
  {
   "attachments": {},
   "cell_type": "markdown",
   "metadata": {},
   "source": [
    "### NeomarilPipeline\n",
    "\n",
    "It's where you can configure your model pipeline"
   ]
  },
  {
   "cell_type": "code",
   "execution_count": 1,
   "metadata": {},
   "outputs": [],
   "source": [
    "from neomaril_codex.pipeline import NeomarilPipeline"
   ]
  },
  {
   "cell_type": "code",
   "execution_count": 2,
   "metadata": {},
   "outputs": [
    {
     "name": "stderr",
     "output_type": "stream",
     "text": [
      "2023-02-02 10:49:18.292 | INFO     | neomaril_codex.pipeline:run_training:60 - Running training\n",
      "2023-02-02 10:49:18.293 | INFO     | neomaril_codex._base:__init__:72 - You are using the test enviroment that will have the data cleaned from time to time. If your model is ready to use change the flag test_enviroment to False\n",
      "2023-02-02 10:49:18.299 | INFO     | neomaril_codex._base:__init__:81 - Successfully connected to Neomaril\n",
      "2023-02-02 10:49:18.319 | ERROR    | neomaril_codex._base:create_group:128 - Group already exist, nothing was changed.\n",
      "2023-02-02 10:49:18.336 | INFO     | neomaril_codex.training:create_training_experiment:467 - New Training inserted with hash T022605194cb4bf29226d21e9670cae086347a53a6314c7cb5d5a9b312a532fc.\n",
      "2023-02-02 10:49:18.369 | INFO     | neomaril_codex.training:__upload_training:289 - {\"Message\":\"Training files have been uploaded. Execution id is '6'\"}\n",
      "2023-02-02 10:49:18.512 | INFO     | neomaril_codex.training:__execute_training:308 - Model training starting - Hash: T022605194cb4bf29226d21e9670cae086347a53a6314c7cb5d5a9b312a532fc\n"
     ]
    },
    {
     "name": "stdout",
     "output_type": "stream",
     "text": [
      "Wating the training run....."
     ]
    },
    {
     "name": "stderr",
     "output_type": "stream",
     "text": [
      "2023-02-02 10:51:19.795 | INFO     | neomaril_codex._base:get_status:229 - You can check the run info in https://mlflow.staging.datarisk.net/ \n",
      "2023-02-02 10:51:20.077 | INFO     | neomaril_codex._base:get_status:229 - You can check the run info in https://mlflow.staging.datarisk.net/ \n",
      "2023-02-02 10:51:20.077 | INFO     | neomaril_codex.pipeline:run_training:84 - Model training finished\n",
      "2023-02-02 10:51:20.078 | INFO     | neomaril_codex.pipeline:run_scoring:94 - Deploying scorer from training\n",
      "2023-02-02 10:51:20.415 | INFO     | neomaril_codex.training:__upload_model:111 - Model 'Teste' promoted from T022605194cb4bf29226d21e9670cae086347a53a6314c7cb5d5a9b312a532fc - Hash: \"M80196d60e8348fbb6ec03c003b2e82b78870793670345fba4cdef6fbdd14d85\"\n",
      "2023-02-02 10:51:20.454 | INFO     | neomaril_codex.training:__host_model:133 - Model host in process - Hash: M80196d60e8348fbb6ec03c003b2e82b78870793670345fba4cdef6fbdd14d85\n",
      "2023-02-02 10:53:20.623 | INFO     | neomaril_codex.pipeline:run_scoring:128 - Model deployement finished\n",
      "2023-02-02 10:53:20.624 | INFO     | neomaril_codex.pipeline:run_monitoring:137 - Configuring monitoring\n",
      "2023-02-02 10:53:20.669 | INFO     | neomaril_codex.model:register_monitoring:280 - Monitoring created - Hash: \"M80196d60e8348fbb6ec03c003b2e82b78870793670345fba4cdef6fbdd14d85\"\n"
     ]
    }
   ],
   "source": [
    "# You can start your pipeline with a configuration YAML\n",
    "\n",
    "NeomarilPipeline.from_config_file('./samples/pipeline.yml').start()"
   ]
  },
  {
   "cell_type": "code",
   "execution_count": 2,
   "metadata": {},
   "outputs": [
    {
     "name": "stderr",
     "output_type": "stream",
     "text": [
      "2023-02-02 11:07:04.111 | INFO     | neomaril_codex.pipeline:run_scoring:113 - Deploying scorer\n",
      "2023-02-02 11:07:04.112 | INFO     | neomaril_codex._base:__init__:72 - You are using the test enviroment that will have the data cleaned from time to time. If your model is ready to use change the flag test_enviroment to False\n",
      "2023-02-02 11:07:04.117 | INFO     | neomaril_codex._base:__init__:81 - Successfully connected to Neomaril\n",
      "2023-02-02 11:07:04.131 | ERROR    | neomaril_codex._base:create_group:128 - Group already exist, nothing was changed.\n",
      "2023-02-02 11:07:04.218 | INFO     | neomaril_codex.model:__upload_model:493 - Model 'Teste' inserted - Hash: \"M9c3ee9de0c940cbb3da5626eeac870eddab2a7912db4b5a96c94bbbfdfee74c\"\n",
      "2023-02-02 11:07:04.245 | INFO     | neomaril_codex.model:__host_model:517 - Model host in process - Hash: M9c3ee9de0c940cbb3da5626eeac870eddab2a7912db4b5a96c94bbbfdfee74c\n"
     ]
    },
    {
     "name": "stdout",
     "output_type": "stream",
     "text": [
      "Wating for deploy to be ready....................."
     ]
    },
    {
     "name": "stderr",
     "output_type": "stream",
     "text": [
      "2023-02-02 11:10:24.696 | INFO     | neomaril_codex.model:get_model:370 - Model M9c3ee9de0c940cbb3da5626eeac870eddab2a7912db4b5a96c94bbbfdfee74c its deployed. Fetching model.\n",
      "2023-02-02 11:10:24.716 | INFO     | neomaril_codex.pipeline:run_scoring:128 - Model deployement finished\n"
     ]
    }
   ],
   "source": [
    "# You can run just a especific step\n",
    "\n",
    "NeomarilPipeline.from_config_file('./samples/pipeline-just-model.yml').start()"
   ]
  },
  {
   "cell_type": "code",
   "execution_count": 3,
   "metadata": {},
   "outputs": [
    {
     "name": "stderr",
     "output_type": "stream",
     "text": [
      "2023-02-02 12:03:44.181 | INFO     | neomaril_codex.pipeline:run_scoring:113 - Deploying scorer\n",
      "2023-02-02 12:03:44.183 | INFO     | neomaril_codex._base:__init__:72 - You are using the test enviroment that will have the data cleaned from time to time. If your model is ready to use change the flag test_enviroment to False\n",
      "2023-02-02 12:03:44.205 | INFO     | neomaril_codex._base:__init__:81 - Successfully connected to Neomaril\n",
      "2023-02-02 12:03:44.320 | ERROR    | neomaril_codex._base:create_group:128 - Group already exist, nothing was changed.\n",
      "2023-02-02 12:03:44.388 | INFO     | neomaril_codex.model:__upload_model:493 - Model 'Teste' inserted - Hash: \"M0ab96a8484f4999ac7eea1d3f13031f26b876c9055146fd8db941b22926f29e\"\n",
      "2023-02-02 12:03:44.402 | INFO     | neomaril_codex.model:__host_model:517 - Model host in process - Hash: M0ab96a8484f4999ac7eea1d3f13031f26b876c9055146fd8db941b22926f29e\n"
     ]
    },
    {
     "name": "stdout",
     "output_type": "stream",
     "text": [
      "Wating for deploy to be ready....................."
     ]
    },
    {
     "name": "stderr",
     "output_type": "stream",
     "text": [
      "2023-02-02 12:07:04.800 | INFO     | neomaril_codex.model:get_model:370 - Model M0ab96a8484f4999ac7eea1d3f13031f26b876c9055146fd8db941b22926f29e its deployed. Fetching model.\n",
      "2023-02-02 12:07:04.838 | INFO     | neomaril_codex.pipeline:run_scoring:128 - Model deployement finished\n",
      "2023-02-02 12:07:04.839 | INFO     | neomaril_codex.pipeline:run_monitoring:137 - Configuring monitoring\n",
      "2023-02-02 12:07:04.942 | INFO     | neomaril_codex.model:register_monitoring:280 - Monitoring created - Hash: \"M0ab96a8484f4999ac7eea1d3f13031f26b876c9055146fd8db941b22926f29e\"\n"
     ]
    }
   ],
   "source": [
    "# You can also edit a run after loading it\n",
    "\n",
    "pipeline = NeomarilPipeline.from_config_file('./samples/pipeline-just-model.yml')\n",
    "pipeline.register_monitoring_config(directory = \"./samples/monitoring\", preprocess = \"preprocess.py\", preprocess_function = \"score\", shap_function = \"score\", config = \"configuration.json\", \n",
    "                                    packages = \"requirements.txt\")\n",
    "pipeline.start()"
   ]
  }
 ],
 "metadata": {
  "kernelspec": {
   "display_name": "neomaril-codex-WNTK3WJm",
   "language": "python",
   "name": "python3"
  },
  "language_info": {
   "codemirror_mode": {
    "name": "ipython",
    "version": 3
   },
   "file_extension": ".py",
   "mimetype": "text/x-python",
   "name": "python",
   "nbconvert_exporter": "python",
   "pygments_lexer": "ipython3",
   "version": "3.10.6"
  },
  "orig_nbformat": 4,
  "vscode": {
   "interpreter": {
    "hash": "d7308033b61508a213f02f142180c32f76fea0bd8e107ff2b0f7849d3585655c"
   }
  }
 },
 "nbformat": 4,
 "nbformat_minor": 2
}
