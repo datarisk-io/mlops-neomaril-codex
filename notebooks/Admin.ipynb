{
 "cells": [
  {
   "cell_type": "markdown",
   "metadata": {},
   "source": [
    "# Neomaril Admin\n",
    "\n",
    "This notebook give a exemple on how to use Neomaril admin functions.\n",
    "\n",
    "The admin functions work in all clients"
   ]
  },
  {
   "cell_type": "code",
   "execution_count": 1,
   "metadata": {},
   "outputs": [],
   "source": [
    "# Import the client\n",
    "from neomaril_codex.model import NeomarilModelClient\n",
    "from neomaril_codex.training import NeomarilTrainingClient"
   ]
  },
  {
   "cell_type": "code",
   "execution_count": 2,
   "metadata": {},
   "outputs": [
    {
     "name": "stdout",
     "output_type": "stream",
     "text": [
      "[INFO]You are using the test enviroment that will have the data cleaned from time to time. If your model is ready to use change the flag test_enviroment to False[INFO]\n",
      "[INFO]Successfully connected to Neomaril[INFO]\n"
     ]
    }
   ],
   "source": [
    "# Start the client\n",
    "token='xxxxx'\n",
    "\n",
    "model_client = NeomarilModelClient(token)"
   ]
  },
  {
   "cell_type": "code",
   "execution_count": 3,
   "metadata": {},
   "outputs": [
    {
     "name": "stdout",
     "output_type": "stream",
     "text": [
      "[INFO]You are using the test enviroment that will have the data cleaned from time to time. If your model is ready to use change the flag test_enviroment to False[INFO]\n",
      "[INFO]Successfully connected to Neomaril[INFO]\n"
     ]
    }
   ],
   "source": [
    "training_client = NeomarilTrainingClient(token)"
   ]
  },
  {
   "cell_type": "markdown",
   "metadata": {},
   "source": [
    "### Groups\n",
    "\n",
    "Groups are a way to increase security and organization of models deployed in Neomaril"
   ]
  },
  {
   "cell_type": "code",
   "execution_count": 4,
   "metadata": {},
   "outputs": [
    {
     "name": "stdout",
     "output_type": "stream",
     "text": [
      "[INFO]Group 'nb_demo' inserted. Use the following token for scoring: '37c0266f20a94595920cf324fdf93a6b'. Carefully save it as we won't show it again.' [INFO]\n"
     ]
    },
    {
     "data": {
      "text/plain": [
       "True"
      ]
     },
     "execution_count": 4,
     "metadata": {},
     "output_type": "execute_result"
    }
   ],
   "source": [
    "# To create a group we just need to call the method in any client\n",
    "model_client.create_group('nb_demo', # Group name\n",
    "                    'Group for the notebook demo' # A small description\n",
    "                    )"
   ]
  },
  {
   "cell_type": "code",
   "execution_count": 6,
   "metadata": {},
   "outputs": [
    {
     "data": {
      "text/plain": [
       "\"Group 'nb_demo' was refreshed. Your new token is 6cb64889a45a45ea8749881e30c136df.\""
      ]
     },
     "execution_count": 6,
     "metadata": {},
     "output_type": "execute_result"
    }
   ],
   "source": [
    "# We create a separate group token to be used in model predictions, so it can be shared with the clients\n",
    "# This token has a 1 year expiration date, to generate a new one use the refresh method\n",
    "\n",
    "model_client.refresh_group_token('nb_demo', # Group name\n",
    "                            force=True # To force creating a new token even if the old is valid\n",
    "                            )"
   ]
  }
 ],
 "metadata": {
  "kernelspec": {
   "display_name": "Python 3 (ipykernel)",
   "language": "python",
   "name": "python3"
  },
  "language_info": {
   "codemirror_mode": {
    "name": "ipython",
    "version": 3
   },
   "file_extension": ".py",
   "mimetype": "text/x-python",
   "name": "python",
   "nbconvert_exporter": "python",
   "pygments_lexer": "ipython3",
   "version": "3.10.6"
  },
  "vscode": {
   "interpreter": {
    "hash": "916dbcbb3f70747c44a77c7bcd40155683ae19c65e1c03b4aa3499c5328201f1"
   }
  }
 },
 "nbformat": 4,
 "nbformat_minor": 2
}
