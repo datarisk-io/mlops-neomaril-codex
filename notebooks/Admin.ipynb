{
 "cells": [
  {
   "cell_type": "markdown",
   "metadata": {},
   "source": [
    "# Neomaril Admin\n",
    "\n",
    "This notebook give a exemple on how to use Neomaril admin functions.\n",
    "\n",
    "The admin functions work in all clients"
   ]
  },
  {
   "cell_type": "code",
   "execution_count": 1,
   "metadata": {},
   "outputs": [],
   "source": [
    "# Import the client\n",
    "from neomaril_codex.model import NeomarilModelClient\n",
    "from neomaril_codex.training import NeomarilTrainingClient"
   ]
  },
  {
   "cell_type": "code",
   "execution_count": null,
   "metadata": {},
   "outputs": [],
   "source": [
    "# Start the client\n",
    "model_client = NeomarilModelClient()"
   ]
  },
  {
   "cell_type": "markdown",
   "metadata": {},
   "source": [
    "### Groups\n",
    "\n",
    "Groups are a way to increase security and organization of models deployed in Neomaril"
   ]
  },
  {
   "cell_type": "code",
   "execution_count": null,
   "metadata": {},
   "outputs": [],
   "source": [
    "# To create a group we just need to call the method in any client\n",
    "token = model_client.create_group(\n",
    "    name='groupname', # Group name\n",
    "    description='Group for the notebook demo' # A small description\n",
    ")"
   ]
  },
  {
   "cell_type": "code",
   "execution_count": null,
   "metadata": {},
   "outputs": [],
   "source": [
    "# We create a separate group token to be used in model predictions, so it can be shared with the clients\n",
    "# This token has a 1 year expiration date, to generate a new one use the refresh method\n",
    "\n",
    "token = model_client.refresh_group_token(\n",
    "    name='groupname', # Group name\n",
    "    force=True # To force creating a new token even if the old is valid\n",
    ")"
   ]
  },
  {
   "cell_type": "code",
   "execution_count": null,
   "metadata": {},
   "outputs": [],
   "source": [
    "token"
   ]
  }
 ],
 "metadata": {
  "kernelspec": {
   "display_name": "mlops-neomaril-codex-48dADUmW",
   "language": "python",
   "name": "python3"
  },
  "language_info": {
   "codemirror_mode": {
    "name": "ipython",
    "version": 3
   },
   "file_extension": ".py",
   "mimetype": "text/x-python",
   "name": "python",
   "nbconvert_exporter": "python",
   "pygments_lexer": "ipython3",
   "version": "3.10.15"
  }
 },
 "nbformat": 4,
 "nbformat_minor": 2
}
