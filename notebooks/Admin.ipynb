{
 "cells": [
  {
   "cell_type": "markdown",
   "metadata": {},
   "source": [
    "# Neomaril Admin\n",
    "\n",
    "This notebook give a exemple on how to use Neomaril admin functions.\n",
    "\n",
    "The admin functions work in all clients"
   ]
  },
  {
   "cell_type": "code",
   "execution_count": 1,
   "metadata": {},
   "outputs": [],
   "source": [
    "# Import the client\n",
    "from neomaril_codex.model import NeomarilModelClient\n",
    "from neomaril_codex.training import NeomarilTrainingClient"
   ]
  },
  {
   "cell_type": "code",
   "execution_count": 2,
   "metadata": {},
   "outputs": [
    {
     "name": "stderr",
     "output_type": "stream",
     "text": [
      "2023-05-24 10:58:24.855 | INFO     | neomaril_codex.base:__init__:87 - Loading .env\n",
      "2023-05-24 10:58:25.028 | INFO     | neomaril_codex.base:__init__:99 - Successfully connected to Neomaril\n"
     ]
    }
   ],
   "source": [
    "# Start the client\n",
    "model_client = NeomarilModelClient()"
   ]
  },
  {
   "cell_type": "code",
   "execution_count": 3,
   "metadata": {},
   "outputs": [
    {
     "name": "stderr",
     "output_type": "stream",
     "text": [
      "2023-05-24 10:58:25.068 | INFO     | neomaril_codex.base:__init__:87 - Loading .env\n",
      "2023-05-24 10:58:25.076 | INFO     | neomaril_codex.base:__init__:99 - Successfully connected to Neomaril\n"
     ]
    }
   ],
   "source": [
    "training_client = NeomarilTrainingClient()"
   ]
  },
  {
   "cell_type": "markdown",
   "metadata": {},
   "source": [
    "### Groups\n",
    "\n",
    "Groups are a way to increase security and organization of models deployed in Neomaril"
   ]
  },
  {
   "cell_type": "code",
   "execution_count": 4,
   "metadata": {},
   "outputs": [
    {
     "name": "stderr",
     "output_type": "stream",
     "text": [
      "2023-05-24 10:58:25.634 | INFO     | neomaril_codex.base:create_group:155 - Group 'nb_demo' inserted. Use the following token for scoring: 'f376c18092314246a432a2882c3cc8fd'. Carefully save it as we won't show it again.' \n"
     ]
    },
    {
     "data": {
      "text/plain": [
       "True"
      ]
     },
     "execution_count": 4,
     "metadata": {},
     "output_type": "execute_result"
    }
   ],
   "source": [
    "# To create a group we just need to call the method in any client\n",
    "model_client.create_group('nb_demo', # Group name\n",
    "                    'Group for the notebook demo' # A small description\n",
    "                    )"
   ]
  },
  {
   "cell_type": "code",
   "execution_count": 5,
   "metadata": {},
   "outputs": [
    {
     "data": {
      "text/plain": [
       "\"Group 'nb_demo' was refreshed. Your new token is c1868fbce56d485ea0b0c5dd49ac651b.\""
      ]
     },
     "execution_count": 5,
     "metadata": {},
     "output_type": "execute_result"
    }
   ],
   "source": [
    "# We create a separate group token to be used in model predictions, so it can be shared with the clients\n",
    "# This token has a 1 year expiration date, to generate a new one use the refresh method\n",
    "\n",
    "model_client.refresh_group_token('nb_demo', # Group name\n",
    "                            force=True # To force creating a new token even if the old is valid\n",
    "                            )"
   ]
  }
 ],
 "metadata": {
  "kernelspec": {
   "display_name": "neomaril-codex-WNTK3WJm",
   "language": "python",
   "name": "python3"
  },
  "language_info": {
   "codemirror_mode": {
    "name": "ipython",
    "version": 3
   },
   "file_extension": ".py",
   "mimetype": "text/x-python",
   "name": "python",
   "nbconvert_exporter": "python",
   "pygments_lexer": "ipython3",
   "version": "3.10.6"
  },
  "vscode": {
   "interpreter": {
    "hash": "d7308033b61508a213f02f142180c32f76fea0bd8e107ff2b0f7849d3585655c"
   }
  }
 },
 "nbformat": 4,
 "nbformat_minor": 2
}
