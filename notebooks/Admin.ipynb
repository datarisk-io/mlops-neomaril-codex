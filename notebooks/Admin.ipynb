{
 "cells": [
  {
   "cell_type": "markdown",
   "metadata": {},
   "source": [
    "# Neomaril Admin\n",
    "\n",
    "This notebook give a exemple on how to use Neomaril admin functions.\n",
    "\n",
    "The admin functions work in all clients"
   ]
  },
  {
   "cell_type": "code",
   "execution_count": 1,
   "metadata": {},
   "outputs": [],
   "source": [
    "# Import the client\n",
    "from neomaril_codex.model import NeomarilModelClient\n",
    "from neomaril_codex.training import NeomarilTrainingClient"
   ]
  },
  {
   "cell_type": "code",
   "execution_count": 2,
   "metadata": {},
   "outputs": [
    {
     "name": "stderr",
     "output_type": "stream",
     "text": [
      "2023-07-13 10:14:41.515 | INFO     | neomaril_codex.base:__init__:87 - Loading .env\n",
      "2023-07-13 10:14:41.520 | INFO     | neomaril_codex.base:__init__:99 - Successfully connected to Neomaril\n"
     ]
    }
   ],
   "source": [
    "# Start the client\n",
    "model_client = NeomarilModelClient()"
   ]
  },
  {
   "cell_type": "code",
   "execution_count": 3,
   "metadata": {},
   "outputs": [
    {
     "name": "stderr",
     "output_type": "stream",
     "text": [
      "2023-07-13 10:14:41.981 | INFO     | neomaril_codex.base:__init__:87 - Loading .env\n",
      "2023-07-13 10:14:41.987 | INFO     | neomaril_codex.base:__init__:99 - Successfully connected to Neomaril\n"
     ]
    }
   ],
   "source": [
    "training_client = NeomarilTrainingClient()"
   ]
  },
  {
   "cell_type": "markdown",
   "metadata": {},
   "source": [
    "### Groups\n",
    "\n",
    "Groups are a way to increase security and organization of models deployed in Neomaril"
   ]
  },
  {
   "cell_type": "code",
   "execution_count": 5,
   "metadata": {},
   "outputs": [
    {
     "name": "stderr",
     "output_type": "stream",
     "text": [
      "2023-07-13 10:13:06.696 | INFO     | neomaril_codex.base:create_group:155 - Group 'nbdemo' inserted. Use the token for scoring. Carefully save it as we won't show it again.\n"
     ]
    }
   ],
   "source": [
    "# To create a group we just need to call the method in any client\n",
    "token = model_client.create_group('nbdemo', # Group name\n",
    "                    'Group for the notebook demo' # A small description\n",
    "                    )"
   ]
  },
  {
   "cell_type": "code",
   "execution_count": 5,
   "metadata": {},
   "outputs": [
    {
     "name": "stderr",
     "output_type": "stream",
     "text": [
      "2023-07-13 10:14:50.617 | INFO     | neomaril_codex.base:refresh_group_token:207 - Group 'nbdemo' was refreshed\n"
     ]
    }
   ],
   "source": [
    "# We create a separate group token to be used in model predictions, so it can be shared with the clients\n",
    "# This token has a 1 year expiration date, to generate a new one use the refresh method\n",
    "\n",
    "token = model_client.refresh_group_token('nbdemo', # Group name\n",
    "                                        force=True # To force creating a new token even if the old is valid\n",
    "                                        )"
   ]
  }
 ],
 "metadata": {
  "kernelspec": {
   "display_name": "neomaril-codex-WNTK3WJm",
   "language": "python",
   "name": "python3"
  },
  "language_info": {
   "codemirror_mode": {
    "name": "ipython",
    "version": 3
   },
   "file_extension": ".py",
   "mimetype": "text/x-python",
   "name": "python",
   "nbconvert_exporter": "python",
   "pygments_lexer": "ipython3",
   "version": "3.10.6"
  },
  "vscode": {
   "interpreter": {
    "hash": "d7308033b61508a213f02f142180c32f76fea0bd8e107ff2b0f7849d3585655c"
   }
  }
 },
 "nbformat": 4,
 "nbformat_minor": 2
}
