{
 "cells": [
  {
   "cell_type": "markdown",
   "id": "893bac6d",
   "metadata": {},
   "source": [
    "# External Monitoring\n",
    "\n",
    "This notebook give you a example how to use MLOps to host a monitoring for the models you trained on your machine!"
   ]
  },
  {
   "cell_type": "markdown",
   "id": "0506e0a4",
   "metadata": {},
   "source": [
    "## MLOpsDataSourceClient\n",
    "\n",
    "First of all, you must register a datasource"
   ]
  },
  {
   "cell_type": "code",
   "execution_count": null,
   "id": "e6c958511a7a40b3",
   "metadata": {
    "ExecuteTime": {
     "end_time": "2024-11-19T15:11:56.420090Z",
     "start_time": "2024-11-19T15:11:56.410051Z"
    }
   },
   "outputs": [],
   "source": [
    "from mlops_codex.datasources import MLOpsDataSourceClient\n",
    "\n",
    "datasource_client = MLOpsDataSourceClient()"
   ]
  },
  {
   "cell_type": "code",
   "execution_count": null,
   "id": "9f65d155ec52fcaf",
   "metadata": {
    "ExecuteTime": {
     "end_time": "2024-11-19T15:11:57.692523Z",
     "start_time": "2024-11-19T15:11:57.571828Z"
    }
   },
   "outputs": [],
   "source": [
    "datasource = datasource_client.register_datasource(\n",
    "    datasource_name='TestAzure',\n",
    "    provider='Azure',\n",
    "    cloud_credentials=\"<path/to/your/cloud/credentials>\",\n",
    "    group='datarisk'\n",
    ")"
   ]
  },
  {
   "cell_type": "markdown",
   "id": "895028d4",
   "metadata": {},
   "source": [
    "## MLOpsTrainingClient\n",
    "\n",
    "Next, createa a training experiment"
   ]
  },
  {
   "cell_type": "code",
   "execution_count": null,
   "id": "initial_id",
   "metadata": {
    "ExecuteTime": {
     "end_time": "2024-11-19T14:38:51.787624Z",
     "start_time": "2024-11-19T14:38:44.538108Z"
    },
    "collapsed": true
   },
   "outputs": [],
   "source": [
    "from mlops_codex.training import MLOpsTrainingClient\n",
    "training_client = MLOpsTrainingClient()"
   ]
  },
  {
   "cell_type": "code",
   "execution_count": null,
   "id": "761e08d10eea83a5",
   "metadata": {
    "ExecuteTime": {
     "end_time": "2024-11-19T14:38:52.764284Z",
     "start_time": "2024-11-19T14:38:52.623448Z"
    }
   },
   "outputs": [],
   "source": [
    "training = training_client.create_training_experiment(\n",
    "    experiment_name='External Train',\n",
    "    model_type='Classification',\n",
    "    group='datarisk'\n",
    ")"
   ]
  },
  {
   "cell_type": "code",
   "execution_count": null,
   "id": "0ce6be87",
   "metadata": {
    "ExecuteTime": {
     "end_time": "2024-11-19T14:38:56.979525Z",
     "start_time": "2024-11-19T14:38:53.876724Z"
    }
   },
   "outputs": [],
   "source": [
    "import pandas as pd\n",
    "from lightgbm import LGBMClassifier\n",
    "from sklearn.impute import SimpleImputer\n",
    "from sklearn.pipeline import make_pipeline\n",
    "from sklearn.model_selection import cross_val_score\n",
    "\n",
    "base_path = './samples/train/'\n",
    "df = pd.read_csv(base_path+\"/dados.csv\")\n",
    "X = df.drop(columns=['target'])\n",
    "y = df[[\"target\"]]\n",
    "\n",
    "pipe = make_pipeline(SimpleImputer(), LGBMClassifier(force_col_wise=True))\n",
    "pipe.fit(X, y)\n",
    "\n",
    "with training.log_train(name='External training', X_train=X, y_train=y) as logger:\n",
    "    logger.save_model(pipe)\n",
    "    \n",
    "    model_output = pd.DataFrame({\"pred\": pipe.predict(X), \"proba\": pipe.predict_proba(X)[:,1]})\n",
    "    \n",
    "    logger.save_model_output(model_output)\n",
    "\n",
    "    auc = cross_val_score(pipe, X, y, cv=5, scoring=\"roc_auc\")\n",
    "    f_score = cross_val_score(pipe, X, y, cv=5, scoring=\"f1\")\n",
    "    logger.save_metric(name='auc', value=auc.mean())\n",
    "    logger.save_metric(name='f1_score', value=f_score.mean())\n",
    "\n",
    "    logger.set_python_version('3.10')"
   ]
  },
  {
   "cell_type": "code",
   "execution_count": null,
   "id": "3839f3a7",
   "metadata": {},
   "outputs": [],
   "source": [
    "training"
   ]
  },
  {
   "cell_type": "code",
   "execution_count": null,
   "id": "d0043154fa90df28",
   "metadata": {
    "ExecuteTime": {
     "end_time": "2024-11-19T15:09:08.646037Z",
     "start_time": "2024-11-19T15:09:00.562961Z"
    }
   },
   "outputs": [],
   "source": [
    "training.get_training_execution()"
   ]
  },
  {
   "cell_type": "markdown",
   "id": "a211ba9d",
   "metadata": {},
   "source": [
    "And pass the necessary data for an external training"
   ]
  },
  {
   "cell_type": "markdown",
   "id": "a322c8c5",
   "metadata": {},
   "source": [
    "## MLOpsExternalMonitoringClient\n",
    "\n",
    "Finally, you can start the process of hosting your local trained model"
   ]
  },
  {
   "cell_type": "code",
   "execution_count": null,
   "id": "19abdacec168384d",
   "metadata": {
    "ExecuteTime": {
     "end_time": "2024-11-19T19:05:20.612404Z",
     "start_time": "2024-11-19T19:05:18.238366Z"
    }
   },
   "outputs": [],
   "source": [
    "from mlops_codex.external_monitoring import MLOpsExternalMonitoringClient\n",
    "external_monitoring_client = MLOpsExternalMonitoringClient()"
   ]
  },
  {
   "cell_type": "markdown",
   "id": "9729d10f",
   "metadata": {},
   "source": [
    "Create a dictionary with a configuration file:\n",
    "- **Name**: External Monitoring name.\n",
    "- **TrainingExecutionId**: Valid Mlops training execution id.\n",
    "- **Period**: Day | Week | Quarter | Month | Year \n",
    "- **InputCols**: Array with input columns name.\n",
    "- **OuputCols**: Array with output columns name.\n",
    "- **DataSourceName**: Valid Mlops datasource name.\n",
    "- **DataSourceUri**: Valid datasource Uri.\n",
    "- **ExtractionType**: Incremental | Full\n",
    "- **ReferenceDate**: Reference extraction date. \n",
    "- **ColumnName**: Column name of the data column.\n",
    "- **PythonVersion**: Python38 | Python39 | Python310. Needed if you plan to have `preprocessing`/`shap` steps.\n",
    "\n",
    "Register your external monitoring"
   ]
  },
  {
   "cell_type": "code",
   "execution_count": null,
   "id": "615a80c3cbcd3aee",
   "metadata": {
    "ExecuteTime": {
     "end_time": "2024-11-19T19:05:53.478753Z",
     "start_time": "2024-11-19T19:05:27.353091Z"
    }
   },
   "outputs": [],
   "source": [
    "external_monitoring = external_monitoring_client.register_monitoring(\n",
    "    name=\"Teste\",\n",
    "    training_execution_id=1,\n",
    "    period=\"Week\",\n",
    "    input_cols=[\n",
    "        \"VALOR_A_PAGAR\", \"TAXA\", \"RENDA_MES_ANTERIOR\", \"NO_FUNCIONARIOS\",\"RZ_RENDA_FUNC\", \n",
    "        \"VL_TAXA\",\"DDD\", \"SEGMENTO_INDUSTRIAL\",\"DOMINIO_EMAIL\", \"PORTE\", \"CEP_2_DIG\"\n",
    "    ],\n",
    "    output_cols=[\"probas\"],\n",
    "    datasource_name=datasource.datasource_name,\n",
    "    extraction_type=\"Full\",\n",
    "    datasource_uri=\"<datasource uri>\",\n",
    "    column_name=\"SAFRA_REF\"\n",
    ")"
   ]
  },
  {
   "cell_type": "code",
   "execution_count": null,
   "id": "83a38393",
   "metadata": {},
   "outputs": [],
   "source": [
    "external_monitoring"
   ]
  },
  {
   "cell_type": "markdown",
   "id": "cb8ca9f6",
   "metadata": {},
   "source": [
    "### Uploading files\n",
    "\n",
    "Before host your monitoring, you may want to upload files. It is possibles to upload `model.pkl`, `requirements.txt` and a preprocessing script files.\n",
    "\n",
    "**Rules**\n",
    "\n",
    "- If you upload a model.pkl file, you must load the requirements and script file along with the shap and preprocessing entrypoints.\n",
    "- If you only upload the script, you must upload the requirements and the preprocessing entrypoint\n",
    "- You can also not upload any files"
   ]
  },
  {
   "cell_type": "code",
   "execution_count": null,
   "id": "b44903d4d314ed43",
   "metadata": {
    "ExecuteTime": {
     "end_time": "2024-11-19T14:44:49.258889Z",
     "start_time": "2024-11-19T14:44:49.256057Z"
    }
   },
   "outputs": [],
   "source": [
    "PATH = './samples/externalMonitoring/'\n",
    "\n",
    "external_monitoring.upload_file(\n",
    "    model_file=PATH + 'model.pkl',\n",
    "    requirements_file=PATH + 'requirements.txt',\n",
    "    preprocess_file=PATH + 'preprocess_async.py',\n",
    "    preprocess_reference='build_df',\n",
    "    shap_reference='get_shap',\n",
    "    python_version='3.10',\n",
    ")"
   ]
  },
  {
   "cell_type": "markdown",
   "id": "b4c8737c",
   "metadata": {},
   "source": [
    "After upload or not the files, you can start the host process"
   ]
  },
  {
   "cell_type": "code",
   "execution_count": null,
   "id": "26cb916a",
   "metadata": {},
   "outputs": [],
   "source": [
    "external_monitoring.host(wait=True)"
   ]
  },
  {
   "cell_type": "code",
   "execution_count": null,
   "id": "18b8fe4d",
   "metadata": {},
   "outputs": [],
   "source": [
    "external_monitoring"
   ]
  },
  {
   "cell_type": "markdown",
   "id": "61475af8",
   "metadata": {},
   "source": [
    "Get the logs of the monitoring"
   ]
  },
  {
   "cell_type": "code",
   "execution_count": null,
   "id": "9a857112",
   "metadata": {},
   "outputs": [],
   "source": [
    "external_monitoring.logs()"
   ]
  },
  {
   "cell_type": "markdown",
   "id": "0406163e",
   "metadata": {},
   "source": [
    "Also, it is possible to access an existing monitoring"
   ]
  },
  {
   "cell_type": "code",
   "execution_count": null,
   "id": "dca66bb3",
   "metadata": {
    "ExecuteTime": {
     "end_time": "2024-11-19T14:53:07.479274Z",
     "start_time": "2024-11-19T14:48:23.175331Z"
    }
   },
   "outputs": [],
   "source": [
    "external_monitoring_client.get_external_monitoring(\n",
    "    group=\"datarisk\",\n",
    "    external_monitoring_hash=\"external_monitoring_hash\"\n",
    ")"
   ]
  },
  {
   "cell_type": "markdown",
   "id": "407c01eb",
   "metadata": {},
   "source": [
    "And list all of your external monitoring"
   ]
  },
  {
   "cell_type": "code",
   "execution_count": null,
   "id": "7b813282b3c63563",
   "metadata": {
    "ExecuteTime": {
     "end_time": "2024-11-18T13:35:41.267266Z",
     "start_time": "2024-11-18T13:35:41.167976Z"
    }
   },
   "outputs": [],
   "source": [
    "external_monitoring_client.list_hosted_external_monitorings()"
   ]
  }
 ],
 "metadata": {
  "kernelspec": {
   "display_name": "mlops-mlops_codex-48dADUmW",
   "language": "python",
   "name": "python3"
  },
  "language_info": {
   "codemirror_mode": {
    "name": "ipython",
    "version": 3
   },
   "file_extension": ".py",
   "mimetype": "text/x-python",
   "name": "python",
   "nbconvert_exporter": "python",
   "pygments_lexer": "ipython3",
   "version": "3.10.15"
  }
 },
 "nbformat": 4,
 "nbformat_minor": 5
}
