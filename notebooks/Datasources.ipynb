{
 "cells": [
  {
   "cell_type": "markdown",
   "metadata": {},
   "source": [
    "# Neomaril DataSources\n",
    "\n",
    "This notebook give a exemple on how to import your datasorces and datasets to Neomaril"
   ]
  },
  {
   "cell_type": "markdown",
   "metadata": {},
   "source": [
    "### NeomarilDataSourceClient\n",
    "\n",
    "It's where you can manage your Datasources"
   ]
  },
  {
   "cell_type": "code",
   "execution_count": 1,
   "metadata": {},
   "outputs": [],
   "source": [
    "# Import the client\n",
    "from neomaril_codex.datasources import NeomarilDataSourceClient"
   ]
  },
  {
   "cell_type": "code",
   "execution_count": 2,
   "metadata": {},
   "outputs": [
    {
     "name": "stderr",
     "output_type": "stream",
     "text": [
      "2024-03-20 19:19:35.385 | INFO     | neomaril_codex.base:__init__:20 - Loading .env\n",
      "2024-03-20 19:19:37.219 | INFO     | neomaril_codex.base:__init__:30 - Successfully connected to Neomaril\n"
     ]
    },
    {
     "data": {
      "text/plain": [
       "<neomaril_codex.datasources.NeomarilDataSourceClient at 0x7f6ba047ded0>"
      ]
     },
     "execution_count": 2,
     "metadata": {},
     "output_type": "execute_result"
    }
   ],
   "source": [
    "# Start the client. We are reading the credentials in the NEOMARIL_TOKEN env variable\n",
    "client = NeomarilDataSourceClient()\n",
    "client"
   ]
  },
  {
   "cell_type": "markdown",
   "metadata": {},
   "source": [
    "### NeomarilDataSource\n",
    "\n",
    "It's where you can register your datasource."
   ]
  },
  {
   "cell_type": "code",
   "execution_count": 3,
   "metadata": {},
   "outputs": [],
   "source": [
    "import os"
   ]
  },
  {
   "cell_type": "code",
   "execution_count": 4,
   "metadata": {},
   "outputs": [
    {
     "name": "stderr",
     "output_type": "stream",
     "text": [
      "2024-03-20 19:19:43.230 | INFO     | neomaril_codex.base:__init__:20 - Loading .env\n",
      "2024-03-20 19:19:43.238 | INFO     | neomaril_codex.base:__init__:30 - Successfully connected to Neomaril\n",
      "2024-03-20 19:19:44.777 | INFO     | neomaril_codex.datasources:register_datasource:101 - DataSource 'testeDataSouce' was registered!\n"
     ]
    },
    {
     "data": {
      "text/plain": [
       "<neomaril_codex.datasources.NeomarilDataSource at 0x7f6ba047e170>"
      ]
     },
     "execution_count": 4,
     "metadata": {},
     "output_type": "execute_result"
    }
   ],
   "source": [
    "credentials_path = os.path.abspath('./samples/datasources/credentials.json')\n",
    "\n",
    "client.register_datasource(\n",
    "    datasource_name='testeDataSource',\n",
    "    provider='GCP',\n",
    "    cloud_credentials=credentials_path,\n",
    "    group='datarisk'\n",
    ")"
   ]
  },
  {
   "cell_type": "markdown",
   "metadata": {},
   "source": [
    "#### List Datasources\n",
    "\n",
    "Use this function to find all data sources in your group from one specific provider."
   ]
  },
  {
   "cell_type": "code",
   "execution_count": 5,
   "metadata": {},
   "outputs": [
    {
     "data": {
      "text/plain": [
       "[{'Name': 'testeDataSouce',\n",
       "  'Group': 'datarisk',\n",
       "  'Provider': 'GCP',\n",
       "  'RegisteredAt': '2024-03-20T22:19:44.745936+00:00'}]"
      ]
     },
     "execution_count": 5,
     "metadata": {},
     "output_type": "execute_result"
    }
   ],
   "source": [
    "client.list_datasource(provider='GCP', group='datarisk')"
   ]
  },
  {
   "cell_type": "markdown",
   "metadata": {},
   "source": [
    "#### Get Datasources\n",
    "\n",
    "Use this function to get your datasource neomaril object."
   ]
  },
  {
   "cell_type": "code",
   "execution_count": 6,
   "metadata": {},
   "outputs": [
    {
     "name": "stderr",
     "output_type": "stream",
     "text": [
      "2024-03-20 19:19:50.600 | INFO     | neomaril_codex.base:__init__:20 - Loading .env\n",
      "2024-03-20 19:19:50.604 | INFO     | neomaril_codex.base:__init__:30 - Successfully connected to Neomaril\n"
     ]
    }
   ],
   "source": [
    "datasource = client.get_datasource(datasource_name='testeDataSource', provider='GCP', group='datarisk')"
   ]
  },
  {
   "cell_type": "markdown",
   "metadata": {},
   "source": [
    "### NeomarilDataset\n",
    "\n",
    "It's where you can import your dataset.\n",
    "It is mandatory that you register a datasource so that you can import your dataset into it"
   ]
  },
  {
   "cell_type": "code",
   "execution_count": 7,
   "metadata": {},
   "outputs": [
    {
     "name": "stderr",
     "output_type": "stream",
     "text": [
      "2024-03-20 19:19:58.408 | INFO     | neomaril_codex.datasources:import_dataset:279 - Datasource testeDataSouce import process started! Use the D66c8bc440dc4882bfeff40c0dac11641c3583f3aa274293b15ed5db21000b49 on the `/api/datasets/status` endpoint to check it's status.\n",
      "2024-03-20 19:19:58.410 | INFO     | neomaril_codex.base:__init__:20 - Loading .env\n",
      "2024-03-20 19:19:58.415 | INFO     | neomaril_codex.base:__init__:30 - Successfully connected to Neomaril\n"
     ]
    },
    {
     "data": {
      "text/plain": [
       "<neomaril_codex.datasources.NeomarilDataset at 0x7f6ba4f68040>"
      ]
     },
     "execution_count": 7,
     "metadata": {},
     "output_type": "execute_result"
    }
   ],
   "source": [
    "dataset_uri = 'https://storage.cloud.google.com/projeto/arquivo.csv'\n",
    "\n",
    "dataset = datasource.import_dataset(\n",
    "    dataset_uri=dataset_uri,\n",
    "    dataset_name='meudatasetcorreto'\n",
    ")\n",
    "dataset"
   ]
  },
  {
   "cell_type": "markdown",
   "metadata": {},
   "source": [
    "#### List Datasets\n",
    "\n",
    "Use this function to find your datasets."
   ]
  },
  {
   "cell_type": "code",
   "execution_count": 8,
   "metadata": {},
   "outputs": [
    {
     "data": {
      "text/plain": [
       "[{'Id': 'D66c8bc440dc4882bfeff40c0dac11641c3583f3aa274293b15ed5db21000b49',\n",
       "  'CreationDate': '2024-03-20T22:19:58.433928+00:00',\n",
       "  'Size': 2558,\n",
       "  'Name': 'meudatasetcorreto',\n",
       "  'Origin': 'E2dbf476b85e417cb4fdc325a38ee7575a30b81a82264745b3e3a2d92700bc43'}]"
      ]
     },
     "execution_count": 8,
     "metadata": {},
     "output_type": "execute_result"
    }
   ],
   "source": [
    "datasource.list_datasets()"
   ]
  },
  {
   "cell_type": "markdown",
   "metadata": {},
   "source": [
    "#### Get Datasets\n",
    "\n",
    "Use this function to get your dataset neomaril object."
   ]
  },
  {
   "cell_type": "code",
   "execution_count": 10,
   "metadata": {},
   "outputs": [
    {
     "name": "stderr",
     "output_type": "stream",
     "text": [
      "2024-03-20 19:20:16.688 | INFO     | neomaril_codex.base:__init__:20 - Loading .env\n",
      "2024-03-20 19:20:16.692 | INFO     | neomaril_codex.base:__init__:30 - Successfully connected to Neomaril\n"
     ]
    }
   ],
   "source": [
    "dataset = datasource.get_dataset(dataset_hash='D66c8bc440dc4882bfeff40c0dac11641c3583f3aa274293b15ed5db21000b49')"
   ]
  },
  {
   "cell_type": "markdown",
   "metadata": {},
   "source": [
    "#### Get Dataset Status\n",
    "\n",
    "Use this function to get dataset status."
   ]
  },
  {
   "cell_type": "markdown",
   "metadata": {},
   "source": [
    "You can wait a dict:\n",
    "\n",
    "when success:\n",
    "```\n",
    "{\n",
    "    status : 'Succeeded',\n",
    "    log : ''\n",
    "}\n",
    "```\n",
    "when failed:\n",
    "```\n",
    "{\n",
    "    \"status\": \"Failed\",\n",
    "    \"log\": \"UnexpectedError\\n  \\\"Azure Request error! Message: Service request failed.\\nStatus: 403 (Server failed to authenticate the request. Make sure the value of Authorization header is formed correctly including the signature.)\\nErrorCode: AuthenticationFailed\\n\\nHeaders:\\nTransfer-Encoding: chunked\\nServer: Microsoft-HTTPAPI/2.0\\nx-ms-request-id: xxxxx\\nx-ms-error-code: AuthenticationFailed\\nDate: Wed, 24 Jan 2024 12:00:36 GMT\\n\\\"\"\n",
    "}\n",
    "```\n",
    "when dataset it's not found, you recive an error DatasetNotFound"
   ]
  },
  {
   "cell_type": "code",
   "execution_count": 11,
   "metadata": {},
   "outputs": [
    {
     "data": {
      "text/plain": [
       "{'status': 'Succeeded', 'log': ''}"
      ]
     },
     "execution_count": 11,
     "metadata": {},
     "output_type": "execute_result"
    }
   ],
   "source": [
    "dataset.get_status()"
   ]
  },
  {
   "cell_type": "markdown",
   "metadata": {},
   "source": [
    "#### Delete Dataset\n",
    "\n",
    "Use this function to delete your dataset.\n",
    "\n",
    "Pay attention when doing this action, it is irreversible!"
   ]
  },
  {
   "cell_type": "code",
   "execution_count": 12,
   "metadata": {},
   "outputs": [
    {
     "name": "stderr",
     "output_type": "stream",
     "text": [
      "2024-03-20 19:20:21.864 | INFO     | neomaril_codex.datasources:delete:468 - Dataset removed\n"
     ]
    }
   ],
   "source": [
    "dataset.delete()"
   ]
  },
  {
   "cell_type": "markdown",
   "metadata": {},
   "source": [
    "#### Delete DataSource\n",
    "\n",
    "Use this function to delete your datasource.\n",
    "\n",
    "Pay attention when doing this action, it is irreversible!"
   ]
  },
  {
   "cell_type": "code",
   "execution_count": 13,
   "metadata": {},
   "outputs": [
    {
     "name": "stderr",
     "output_type": "stream",
     "text": [
      "2024-03-20 19:20:23.980 | INFO     | neomaril_codex.datasources:delete:347 - DataSource testeDataSouce was deleted!\n"
     ]
    }
   ],
   "source": [
    "datasource.delete()"
   ]
  },
  {
   "cell_type": "code",
   "execution_count": null,
   "metadata": {},
   "outputs": [],
   "source": []
  }
 ],
 "metadata": {
  "kernelspec": {
   "display_name": "neomaril-codex-WNTK3WJm",
   "language": "python",
   "name": "python3"
  },
  "language_info": {
   "codemirror_mode": {
    "name": "ipython",
    "version": 3
   },
   "file_extension": ".py",
   "mimetype": "text/x-python",
   "name": "python",
   "nbconvert_exporter": "python",
   "pygments_lexer": "ipython3",
   "version": "3.10.12"
  },
  "vscode": {
   "interpreter": {
    "hash": "d7308033b61508a213f02f142180c32f76fea0bd8e107ff2b0f7849d3585655c"
   }
  }
 },
 "nbformat": 4,
 "nbformat_minor": 2
}
