{
 "cells": [
  {
   "cell_type": "markdown",
   "metadata": {},
   "source": [
    "# Neomaril Codex\n",
    "\n",
    "This notebook give a exemple on how to use Neomaril logger"
   ]
  },
  {
   "cell_type": "markdown",
   "metadata": {},
   "source": [
    "### Logger\n",
    "\n",
    "Neomaril has a log parser that clean logs and tries to find useful information.\n",
    "Since there are a lot of logger types is hard to create the perfect parser, so using this one helps our model script being parsed by Neomaril and sending cleaner messages"
   ]
  },
  {
   "cell_type": "code",
   "execution_count": 1,
   "metadata": {},
   "outputs": [],
   "source": [
    "# Import the logger\n",
    "from neomaril_codex.logging import Logger"
   ]
  },
  {
   "cell_type": "code",
   "execution_count": 2,
   "metadata": {},
   "outputs": [
    {
     "name": "stdout",
     "output_type": "stream",
     "text": [
      "[INFO]Testing the logger[INFO]\n",
      "[DEBUG]Testing the logger[DEBUG]\n",
      "[WARNING]Testing the logger[WARNING]\n",
      "[ERROR]Testing the logger[ERROR]\n"
     ]
    }
   ],
   "source": [
    "# You can just initiate and start using it\n",
    "log = Logger()\n",
    "log.info('Testing the logger')\n",
    "log.debug('Testing the logger')\n",
    "log.warning('Testing the logger')\n",
    "log.error('Testing the logger')"
   ]
  },
  {
   "cell_type": "code",
   "execution_count": 4,
   "metadata": {},
   "outputs": [
    {
     "name": "stdout",
     "output_type": "stream",
     "text": [
      "[INFO]Saving to file inside ./logs/[INFO]\n"
     ]
    }
   ],
   "source": [
    "# You can also save the logs into a file\n",
    "log = Logger(file=True, filePath='./logs/')\n",
    "log.info('Saving to file inside ./logs/')"
   ]
  },
  {
   "cell_type": "code",
   "execution_count": 5,
   "metadata": {},
   "outputs": [
    {
     "name": "stdout",
     "output_type": "stream",
     "text": [
      "[!WARN!]Custom warning[!WARN!]\n"
     ]
    }
   ],
   "source": [
    "# Creating custom tags\n",
    "log = Logger(levels=['INFO', 'DEBUG', '!WARN!', 'ERROR'])\n",
    "log.log('!WARN!', 'Custom warning')"
   ]
  }
 ],
 "metadata": {
  "interpreter": {
   "hash": "31f2aee4e71d21fbe5cf8b01ff0e069b9275f58929596ceb00d14d90e3e16cd6"
  },
  "kernelspec": {
   "display_name": "Python 3 (ipykernel)",
   "language": "python",
   "name": "python3"
  },
  "language_info": {
   "codemirror_mode": {
    "name": "ipython",
    "version": 3
   },
   "file_extension": ".py",
   "mimetype": "text/x-python",
   "name": "python",
   "nbconvert_exporter": "python",
   "pygments_lexer": "ipython3",
   "version": "3.10.6"
  }
 },
 "nbformat": 4,
 "nbformat_minor": 2
}
