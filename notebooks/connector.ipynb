{
 "cells": [
  {
   "cell_type": "markdown",
   "metadata": {},
   "source": [
    "# Neomaril Codex\n",
    "\n",
    "This notebook give a exemple on how to use Neomaril to deploy a ML model"
   ]
  },
  {
   "cell_type": "markdown",
   "metadata": {},
   "source": [
    "### NeomarilClient\n",
    "\n",
    "It's where you can manage your models"
   ]
  },
  {
   "cell_type": "code",
   "execution_count": 1,
   "metadata": {},
   "outputs": [],
   "source": [
    "# Import the client\n",
    "from neomaril_codex.connector import NeomarilClient"
   ]
  },
  {
   "cell_type": "code",
   "execution_count": 2,
   "metadata": {},
   "outputs": [
    {
     "name": "stdout",
     "output_type": "stream",
     "text": [
      "[INFO] - 2022-04-07 15:14:05.919401 - User 'datarisk' successfully connected to Neomaril [INFO]\n"
     ]
    },
    {
     "data": {
      "text/plain": [
       "NeomarilClient(username=\"datarisk\", version=\"1.0\")"
      ]
     },
     "execution_count": 2,
     "metadata": {},
     "output_type": "execute_result"
    }
   ],
   "source": [
    "# Start the client\n",
    "user='datarisk'\n",
    "password='D@tar!sk2022'\n",
    "\n",
    "client = NeomarilClient(user, password)\n",
    "client"
   ]
  },
  {
   "cell_type": "code",
   "execution_count": 3,
   "metadata": {},
   "outputs": [
    {
     "data": {
      "text/plain": [
       "{'ModelHash': '561ee5061bea4c2bb3655b27835505f4fef69ec6343a4f599dacabb9251b1bfa',\n",
       " 'Status': 'Deployed',\n",
       " 'Name': 'TesteJonathan3',\n",
       " 'UploadedAt': '2022-03-31T16:26:51.0573430Z',\n",
       " 'Schema': {'ANO DO VEÍCULO': 2012,\n",
       "  'SCORE NA SIMULAÇÃO': 141,\n",
       "  'TOTAL DE PARCELAS': 48,\n",
       "  'VALOR FINANCIADO': 7889.4,\n",
       "  'DEPENDENTES': 0,\n",
       "  'CELULAR': 51,\n",
       "  'BAIRRO': 'CANTO KREWER',\n",
       "  'CIDADE': 'VALE REAL',\n",
       "  'ESTADO': 'RS',\n",
       "  'SEXO': 'F',\n",
       "  'ESTADO CIVIL': 'DIVORCIADO',\n",
       "  'RENDA MENSAL': 1292,\n",
       "  'RENDA MEDIA ANUAL': 1291.55,\n",
       "  'REVENDA': '(Gestor) Sicredi Pioneira',\n",
       "  'CEP': 12570000,\n",
       "  'DATA_ASSOCIACAO': '10/10/2020',\n",
       "  'DATA_LIBERACAO': '10/15/2020',\n",
       "  'DATA_NASCIMENTO': '04/27/1989'}}"
      ]
     },
     "execution_count": 3,
     "metadata": {},
     "output_type": "execute_result"
    }
   ],
   "source": [
    "# List existing models\n",
    "model_list = client.search_models('Test', # This runs a LIKE query in the models names\n",
    "                                  only_deployed=True # Only shows models that are fully deployed\n",
    "                                  )\n",
    "\n",
    "# This method returns a list, checking the first element\n",
    "model_list[0]"
   ]
  },
  {
   "cell_type": "code",
   "execution_count": 4,
   "metadata": {},
   "outputs": [
    {
     "name": "stdout",
     "output_type": "stream",
     "text": [
      "[INFO] - 2022-04-07 15:14:19.244090 - Model 561ee5061bea4c2bb3655b27835505f4fef69ec6343a4f599dacabb9251b1bfa its deployed. Fetching model. [INFO]\n"
     ]
    },
    {
     "data": {
      "text/plain": [
       "NeomarilModel(name=\"TesteJonathan3\", status=\"Deployed\",\n",
       "                               model_id=\"561ee5061bea4c2bb3655b27835505f4fef69ec6343a4f599dacabb9251b1bfa\",\n",
       "                               schema={'ANO DO VEÍCULO': 2012, 'SCORE NA SIMULAÇÃO': 141, 'TOTAL DE PARCELAS': 48, 'VALOR FINANCIADO': 7889.4, 'DEPENDENTES': 0, 'CELULAR': 51, 'BAIRRO': 'CANTO KREWER', 'CIDADE': 'VALE REAL', 'ESTADO': 'RS', 'SEXO': 'F', 'ESTADO CIVIL': 'DIVORCIADO', 'RENDA MENSAL': 1292, 'RENDA MEDIA ANUAL': 1291.55, 'REVENDA': '(Gestor) Sicredi Pioneira', 'CEP': 12570000, 'DATA_ASSOCIACAO': '10/10/2020', 'DATA_LIBERACAO': '10/15/2020', 'DATA_NASCIMENTO': '04/27/1989'}\n",
       "                               )"
      ]
     },
     "execution_count": 4,
     "metadata": {},
     "output_type": "execute_result"
    }
   ],
   "source": [
    "# Gets a existing model from its hash\n",
    "client.get_model('561ee5061bea4c2bb3655b27835505f4fef69ec6343a4f599dacabb9251b1bfa')"
   ]
  },
  {
   "cell_type": "code",
   "execution_count": 5,
   "metadata": {},
   "outputs": [
    {
     "name": "stdout",
     "output_type": "stream",
     "text": [
      "[INFO] - 2022-04-07 15:14:51.380411 - Model 'Sample' inserted - Hash: \"feca812644db486da6538367e5f2f3be0a093ebd4bc14e4eba22d37ada9e0b62\" [INFO]\n",
      "[INFO] - 2022-04-07 15:14:52.608866 - Model host in process - Hash: feca812644db486da6538367e5f2f3be0a093ebd4bc14e4eba22d37ada9e0b62 [INFO]\n",
      "Wating for deploy to be ready.....[INFO] - 2022-04-07 15:15:39.118033 - Model feca812644db486da6538367e5f2f3be0a093ebd4bc14e4eba22d37ada9e0b62 its deployed. Fetching model. [INFO]\n"
     ]
    }
   ],
   "source": [
    "PATH = '/home/jonathan/Documentos/GitLab/customer-projects/Sicredi/api/'\n",
    "\n",
    "# Deploying a new model\n",
    "model = client.create_model('Sample', # model_name\n",
    "                            'entry_point', # name of the scoring function\n",
    "                            PATH+'notebook.ipynb', # Path of the source file\n",
    "                            PATH+'all_models_sicredi.pkl', # Path of the model pkl file, \n",
    "                            PATH+'requirements.txt', # Path of the requirements file, \n",
    "                            '/home/jonathan/Documentos/schema.json', # Path of the schema file, but it could be a dict\n",
    "                            extra_files=[PATH+'utils.py'], # List with extra files paths that should be uploaded along (they will be all in the same folder)\n",
    "                            source_type='PythonNotebook', # Can be PythonNotebook or PythonScript\n",
    "                            python_version='3.8' # Can be 3.7 to 3.10\n",
    "                            )"
   ]
  },
  {
   "cell_type": "markdown",
   "metadata": {},
   "source": [
    "### NeomarilModel\n",
    "\n",
    "It's where you can use your model after you fetch it with the client (or created a new one)"
   ]
  },
  {
   "cell_type": "code",
   "execution_count": 6,
   "metadata": {},
   "outputs": [
    {
     "data": {
      "text/plain": [
       "NeomarilModel(name=\"Sample\", status=\"Deployed\",\n",
       "                               model_id=\"feca812644db486da6538367e5f2f3be0a093ebd4bc14e4eba22d37ada9e0b62\",\n",
       "                               schema={'ANO DO VEÍCULO': 2012, 'SCORE NA SIMULAÇÃO': 141, 'TOTAL DE PARCELAS': 48, 'VALOR FINANCIADO': 7889.4, 'DEPENDENTES': 0, 'CELULAR': 51, 'BAIRRO': 'CANTO KREWER', 'CIDADE': 'VALE REAL', 'ESTADO': 'RS', 'SEXO': 'F', 'ESTADO CIVIL': 'DIVORCIADO', 'RENDA MENSAL': 1292, 'RENDA MEDIA ANUAL': 1291.55, 'REVENDA': '(Gestor) Sicredi Pioneira', 'CEP': 12570000, 'DATA_ASSOCIACAO': '10/10/2020', 'DATA_LIBERACAO': '10/15/2020', 'DATA_NASCIMENTO': '04/27/1989'}\n",
       "                               )"
      ]
     },
     "execution_count": 6,
     "metadata": {},
     "output_type": "execute_result"
    }
   ],
   "source": [
    "model"
   ]
  },
  {
   "cell_type": "code",
   "execution_count": 7,
   "metadata": {},
   "outputs": [
    {
     "name": "stdout",
     "output_type": "stream",
     "text": [
      "{'ModelHash': 'feca812644db486da6538367e5f2f3be0a093ebd4bc14e4eba22d37ada9e0b62', 'Status': 'Deployed', 'Name': 'Sample', 'UploadedAt': '2022-03-31T16:26:51.0573430Z', 'Schema': {'ANO DO VEÍCULO': 2012, 'SCORE NA SIMULAÇÃO': 141, 'TOTAL DE PARCELAS': 48, 'VALOR FINANCIADO': 7889.4, 'DEPENDENTES': 0, 'CELULAR': 51, 'BAIRRO': 'CANTO KREWER', 'CIDADE': 'VALE REAL', 'ESTADO': 'RS', 'SEXO': 'F', 'ESTADO CIVIL': 'DIVORCIADO', 'RENDA MENSAL': 1292, 'RENDA MEDIA ANUAL': 1291.55, 'REVENDA': '(Gestor) Sicredi Pioneira', 'CEP': 12570000, 'DATA_ASSOCIACAO': '10/10/2020', 'DATA_LIBERACAO': '10/15/2020', 'DATA_NASCIMENTO': '04/27/1989'}}\n",
      "----------------------------------------------------------------------------------------------------\n",
      "Sample\n",
      "----------------------------------------------------------------------------------------------------\n",
      "{'ANO DO VEÍCULO': 2012, 'SCORE NA SIMULAÇÃO': 141, 'TOTAL DE PARCELAS': 48, 'VALOR FINANCIADO': 7889.4, 'DEPENDENTES': 0, 'CELULAR': 51, 'BAIRRO': 'CANTO KREWER', 'CIDADE': 'VALE REAL', 'ESTADO': 'RS', 'SEXO': 'F', 'ESTADO CIVIL': 'DIVORCIADO', 'RENDA MENSAL': 1292, 'RENDA MEDIA ANUAL': 1291.55, 'REVENDA': '(Gestor) Sicredi Pioneira', 'CEP': 12570000, 'DATA_ASSOCIACAO': '10/10/2020', 'DATA_LIBERACAO': '10/15/2020', 'DATA_NASCIMENTO': '04/27/1989'}\n"
     ]
    }
   ],
   "source": [
    "# All the information about the model can be acessed\n",
    "print(model.model_data)\n",
    "print('-'*100)\n",
    "print(model.name)\n",
    "print('-'*100)\n",
    "print(model.schema)"
   ]
  },
  {
   "cell_type": "code",
   "execution_count": 8,
   "metadata": {},
   "outputs": [
    {
     "name": "stdout",
     "output_type": "stream",
     "text": [
      "{'SCORE_DR': 139.57, 'MODELO': 'SCORE_SICREDI_20201016', 'DATA': '2022-04-07 18:16:31.342556'}\n",
      "----------------------------------------------------------------------------------------------------\n",
      "{'SCORE_DR': 139.57, 'MODELO': 'SCORE_SICREDI_20201016', 'DATA': '2022-04-07 18:16:42.100799'}\n"
     ]
    }
   ],
   "source": [
    "# Run predictions with the predict method, or just call it with the model object\n",
    "print(model.predict(model.schema))\n",
    "print('-'*100)\n",
    "print(model(model.schema))"
   ]
  },
  {
   "cell_type": "code",
   "execution_count": 9,
   "metadata": {},
   "outputs": [
    {
     "data": {
      "text/plain": [
       "{'Message': 'Model removed'}"
      ]
     },
     "execution_count": 9,
     "metadata": {},
     "output_type": "execute_result"
    }
   ],
   "source": [
    "# Delete the model\n",
    "model.delete()"
   ]
  },
  {
   "cell_type": "code",
   "execution_count": 11,
   "metadata": {},
   "outputs": [
    {
     "name": "stdout",
     "output_type": "stream",
     "text": [
      "Disabled\n"
     ]
    },
    {
     "ename": "ModelError",
     "evalue": "Model is not available to predictions",
     "output_type": "error",
     "traceback": [
      "\u001b[0;31m---------------------------------------------------------------------------\u001b[0m",
      "\u001b[0;31mModelError\u001b[0m                                Traceback (most recent call last)",
      "\u001b[0;32m<ipython-input-11-9573c48df1da>\u001b[0m in \u001b[0;36m<module>\u001b[0;34m\u001b[0m\n\u001b[1;32m      1\u001b[0m \u001b[0mprint\u001b[0m\u001b[0;34m(\u001b[0m\u001b[0mmodel\u001b[0m\u001b[0;34m.\u001b[0m\u001b[0mstatus\u001b[0m\u001b[0;34m)\u001b[0m\u001b[0;34m\u001b[0m\u001b[0;34m\u001b[0m\u001b[0m\n\u001b[0;32m----> 2\u001b[0;31m \u001b[0mprint\u001b[0m\u001b[0;34m(\u001b[0m\u001b[0mmodel\u001b[0m\u001b[0;34m.\u001b[0m\u001b[0mpredict\u001b[0m\u001b[0;34m(\u001b[0m\u001b[0mmodel\u001b[0m\u001b[0;34m.\u001b[0m\u001b[0mschema\u001b[0m\u001b[0;34m)\u001b[0m\u001b[0;34m)\u001b[0m\u001b[0;34m\u001b[0m\u001b[0;34m\u001b[0m\u001b[0m\n\u001b[0m",
      "\u001b[0;32m~/Documentos/GitLab/MLOps/pocs/neomaril-codex/src/neomaril_codex/connector.py\u001b[0m in \u001b[0;36mpredict\u001b[0;34m(self, data)\u001b[0m\n\u001b[1;32m    115\u001b[0m \u001b[0;34m\u001b[0m\u001b[0m\n\u001b[1;32m    116\u001b[0m     \u001b[0;32melse\u001b[0m\u001b[0;34m:\u001b[0m\u001b[0;34m\u001b[0m\u001b[0;34m\u001b[0m\u001b[0m\n\u001b[0;32m--> 117\u001b[0;31m       \u001b[0;32mraise\u001b[0m \u001b[0mModelError\u001b[0m\u001b[0;34m(\u001b[0m\u001b[0;34m'Model is not available to predictions'\u001b[0m\u001b[0;34m)\u001b[0m\u001b[0;34m\u001b[0m\u001b[0;34m\u001b[0m\u001b[0m\n\u001b[0m\u001b[1;32m    118\u001b[0m \u001b[0;34m\u001b[0m\u001b[0m\n\u001b[1;32m    119\u001b[0m   \u001b[0;32mdef\u001b[0m \u001b[0m__call__\u001b[0m\u001b[0;34m(\u001b[0m\u001b[0mself\u001b[0m\u001b[0;34m,\u001b[0m \u001b[0mdata\u001b[0m\u001b[0;34m:\u001b[0m \u001b[0mdict\u001b[0m\u001b[0;34m)\u001b[0m \u001b[0;34m->\u001b[0m \u001b[0mdict\u001b[0m\u001b[0;34m:\u001b[0m\u001b[0;34m\u001b[0m\u001b[0;34m\u001b[0m\u001b[0m\n",
      "\u001b[0;31mModelError\u001b[0m: Model is not available to predictions"
     ]
    }
   ],
   "source": [
    "print(model.status)\n",
    "print(model.predict(model.schema))"
   ]
  }
 ],
 "metadata": {
  "interpreter": {
   "hash": "31f2aee4e71d21fbe5cf8b01ff0e069b9275f58929596ceb00d14d90e3e16cd6"
  },
  "kernelspec": {
   "display_name": "Python 3",
   "language": "python",
   "name": "python3"
  },
  "language_info": {
   "codemirror_mode": {
    "name": "ipython",
    "version": 3
   },
   "file_extension": ".py",
   "mimetype": "text/x-python",
   "name": "python",
   "nbconvert_exporter": "python",
   "pygments_lexer": "ipython3",
   "version": "3.8.10"
  }
 },
 "nbformat": 4,
 "nbformat_minor": 2
}
